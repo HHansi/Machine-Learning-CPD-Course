{
  "nbformat": 4,
  "nbformat_minor": 0,
  "metadata": {
    "colab": {
      "name": "Linear Regression.ipynb",
      "provenance": [],
      "toc_visible": true,
      "authorship_tag": "ABX9TyOxyHkQ8Zu9huzjoddWgdgd",
      "include_colab_link": true
    },
    "kernelspec": {
      "name": "python3",
      "display_name": "Python 3"
    },
    "language_info": {
      "name": "python"
    }
  },
  "cells": [
    {
      "cell_type": "markdown",
      "metadata": {
        "id": "view-in-github",
        "colab_type": "text"
      },
      "source": [
        "<a href=\"https://colab.research.google.com/github/HHansi/Machine-Learning-CPD-Course/blob/main/Linear_Regression.ipynb\" target=\"_parent\"><img src=\"https://colab.research.google.com/assets/colab-badge.svg\" alt=\"Open In Colab\"/></a>"
      ]
    },
    {
      "cell_type": "markdown",
      "metadata": {
        "id": "WqRzkHynmmpJ"
      },
      "source": [
        "# Exercise - Interactive Linear Regression\n",
        "\n",
        "[Online Tool](https://www.geogebra.org/m/xC6zq7Zv)"
      ]
    },
    {
      "cell_type": "markdown",
      "source": [
        "# Problem\n",
        "\n",
        "**Can we predict the type of the house or its floor area, knowing the number of family members and income?**\n",
        "\n",
        "We can use Linear Regression to predict the floor area using the number of family members and income."
      ],
      "metadata": {
        "id": "yUavMqwrch-l"
      }
    },
    {
      "cell_type": "code",
      "metadata": {
        "id": "UcVWGNmnxMrG"
      },
      "source": [
        "# Import libraries\n",
        "import numpy as np\n",
        "import matplotlib.pyplot as plt\n",
        "import pandas as pd\n",
        "from sklearn.model_selection import train_test_split\n",
        "from sklearn.preprocessing import StandardScaler\n",
        "from sklearn.linear_model import LinearRegression\n",
        "from sklearn.metrics import mean_squared_error\n",
        "\n",
        "# Define random state\n",
        "random_state = 1234"
      ],
      "execution_count": 2,
      "outputs": []
    },
    {
      "cell_type": "markdown",
      "metadata": {
        "id": "gTKD-gGxnCnW"
      },
      "source": [
        "# Load Data\n",
        "It is important to use the cleaned data set to train the model."
      ]
    },
    {
      "cell_type": "code",
      "metadata": {
        "colab": {
          "base_uri": "https://localhost:8080/",
          "height": 206
        },
        "id": "lPCnMprXxTxb",
        "outputId": "8c8bf17d-bf63-4d20-ca47-6685beceb7da"
      },
      "source": [
        "# Load the data set\n",
        "df = pd.read_csv(\"/content/cleaned_home_data.csv\")\n",
        "df.head(5)"
      ],
      "execution_count": 3,
      "outputs": [
        {
          "output_type": "execute_result",
          "data": {
            "text/html": [
              "<div>\n",
              "<style scoped>\n",
              "    .dataframe tbody tr th:only-of-type {\n",
              "        vertical-align: middle;\n",
              "    }\n",
              "\n",
              "    .dataframe tbody tr th {\n",
              "        vertical-align: top;\n",
              "    }\n",
              "\n",
              "    .dataframe thead th {\n",
              "        text-align: right;\n",
              "    }\n",
              "</style>\n",
              "<table border=\"1\" class=\"dataframe\">\n",
              "  <thead>\n",
              "    <tr style=\"text-align: right;\">\n",
              "      <th></th>\n",
              "      <th>homeid</th>\n",
              "      <th>residents</th>\n",
              "      <th>income_band</th>\n",
              "      <th>hometype</th>\n",
              "      <th>floorarea</th>\n",
              "      <th>average_income</th>\n",
              "    </tr>\n",
              "  </thead>\n",
              "  <tbody>\n",
              "    <tr>\n",
              "      <th>0</th>\n",
              "      <td>59</td>\n",
              "      <td>2</td>\n",
              "      <td>£90,000 or more</td>\n",
              "      <td>flat</td>\n",
              "      <td>760</td>\n",
              "      <td>90000.0</td>\n",
              "    </tr>\n",
              "    <tr>\n",
              "      <th>1</th>\n",
              "      <td>61</td>\n",
              "      <td>2</td>\n",
              "      <td>£48,600 to £53,999</td>\n",
              "      <td>house_or_bungalow</td>\n",
              "      <td>685</td>\n",
              "      <td>51299.5</td>\n",
              "    </tr>\n",
              "    <tr>\n",
              "      <th>2</th>\n",
              "      <td>62</td>\n",
              "      <td>2</td>\n",
              "      <td>£43,200 to £48,599</td>\n",
              "      <td>flat</td>\n",
              "      <td>815</td>\n",
              "      <td>45899.5</td>\n",
              "    </tr>\n",
              "    <tr>\n",
              "      <th>3</th>\n",
              "      <td>64</td>\n",
              "      <td>4</td>\n",
              "      <td>£66,000 to £77,999</td>\n",
              "      <td>flat</td>\n",
              "      <td>650</td>\n",
              "      <td>71999.5</td>\n",
              "    </tr>\n",
              "    <tr>\n",
              "      <th>4</th>\n",
              "      <td>63</td>\n",
              "      <td>2</td>\n",
              "      <td>£54,000 to £65,999</td>\n",
              "      <td>house_or_bungalow</td>\n",
              "      <td>725</td>\n",
              "      <td>59999.5</td>\n",
              "    </tr>\n",
              "  </tbody>\n",
              "</table>\n",
              "</div>"
            ],
            "text/plain": [
              "   homeid  residents  ... floorarea average_income\n",
              "0      59          2  ...       760        90000.0\n",
              "1      61          2  ...       685        51299.5\n",
              "2      62          2  ...       815        45899.5\n",
              "3      64          4  ...       650        71999.5\n",
              "4      63          2  ...       725        59999.5\n",
              "\n",
              "[5 rows x 6 columns]"
            ]
          },
          "metadata": {},
          "execution_count": 3
        }
      ]
    },
    {
      "cell_type": "markdown",
      "metadata": {
        "id": "oT2a8uYenRU1"
      },
      "source": [
        "Let's filter out the data columns which we are intended to use for our experiments. "
      ]
    },
    {
      "cell_type": "code",
      "metadata": {
        "colab": {
          "base_uri": "https://localhost:8080/",
          "height": 223
        },
        "id": "iQum8IsLxc3G",
        "outputId": "ed2021ac-af17-46a9-d3f6-fbdf924ce51b"
      },
      "source": [
        "selected_df = df[['residents', 'average_income', 'floorarea']]\n",
        "print(f'Selected data size: {selected_df.shape}')\n",
        "selected_df.head(5)"
      ],
      "execution_count": 4,
      "outputs": [
        {
          "output_type": "stream",
          "name": "stdout",
          "text": [
            "Selected data size: (245, 3)\n"
          ]
        },
        {
          "output_type": "execute_result",
          "data": {
            "text/html": [
              "<div>\n",
              "<style scoped>\n",
              "    .dataframe tbody tr th:only-of-type {\n",
              "        vertical-align: middle;\n",
              "    }\n",
              "\n",
              "    .dataframe tbody tr th {\n",
              "        vertical-align: top;\n",
              "    }\n",
              "\n",
              "    .dataframe thead th {\n",
              "        text-align: right;\n",
              "    }\n",
              "</style>\n",
              "<table border=\"1\" class=\"dataframe\">\n",
              "  <thead>\n",
              "    <tr style=\"text-align: right;\">\n",
              "      <th></th>\n",
              "      <th>residents</th>\n",
              "      <th>average_income</th>\n",
              "      <th>floorarea</th>\n",
              "    </tr>\n",
              "  </thead>\n",
              "  <tbody>\n",
              "    <tr>\n",
              "      <th>0</th>\n",
              "      <td>2</td>\n",
              "      <td>90000.0</td>\n",
              "      <td>760</td>\n",
              "    </tr>\n",
              "    <tr>\n",
              "      <th>1</th>\n",
              "      <td>2</td>\n",
              "      <td>51299.5</td>\n",
              "      <td>685</td>\n",
              "    </tr>\n",
              "    <tr>\n",
              "      <th>2</th>\n",
              "      <td>2</td>\n",
              "      <td>45899.5</td>\n",
              "      <td>815</td>\n",
              "    </tr>\n",
              "    <tr>\n",
              "      <th>3</th>\n",
              "      <td>4</td>\n",
              "      <td>71999.5</td>\n",
              "      <td>650</td>\n",
              "    </tr>\n",
              "    <tr>\n",
              "      <th>4</th>\n",
              "      <td>2</td>\n",
              "      <td>59999.5</td>\n",
              "      <td>725</td>\n",
              "    </tr>\n",
              "  </tbody>\n",
              "</table>\n",
              "</div>"
            ],
            "text/plain": [
              "   residents  average_income  floorarea\n",
              "0          2         90000.0        760\n",
              "1          2         51299.5        685\n",
              "2          2         45899.5        815\n",
              "3          4         71999.5        650\n",
              "4          2         59999.5        725"
            ]
          },
          "metadata": {},
          "execution_count": 4
        }
      ]
    },
    {
      "cell_type": "code",
      "source": [
        "selected_df.describe()"
      ],
      "metadata": {
        "colab": {
          "base_uri": "https://localhost:8080/",
          "height": 300
        },
        "id": "ULd0193PayDI",
        "outputId": "644bc68b-a6f4-405e-ba4f-aceb824ce67c"
      },
      "execution_count": 5,
      "outputs": [
        {
          "output_type": "execute_result",
          "data": {
            "text/html": [
              "<div>\n",
              "<style scoped>\n",
              "    .dataframe tbody tr th:only-of-type {\n",
              "        vertical-align: middle;\n",
              "    }\n",
              "\n",
              "    .dataframe tbody tr th {\n",
              "        vertical-align: top;\n",
              "    }\n",
              "\n",
              "    .dataframe thead th {\n",
              "        text-align: right;\n",
              "    }\n",
              "</style>\n",
              "<table border=\"1\" class=\"dataframe\">\n",
              "  <thead>\n",
              "    <tr style=\"text-align: right;\">\n",
              "      <th></th>\n",
              "      <th>residents</th>\n",
              "      <th>average_income</th>\n",
              "      <th>floorarea</th>\n",
              "    </tr>\n",
              "  </thead>\n",
              "  <tbody>\n",
              "    <tr>\n",
              "      <th>count</th>\n",
              "      <td>245.000000</td>\n",
              "      <td>245.000000</td>\n",
              "      <td>245.000000</td>\n",
              "    </tr>\n",
              "    <tr>\n",
              "      <th>mean</th>\n",
              "      <td>2.436735</td>\n",
              "      <td>46317.728571</td>\n",
              "      <td>850.204082</td>\n",
              "    </tr>\n",
              "    <tr>\n",
              "      <th>std</th>\n",
              "      <td>1.145679</td>\n",
              "      <td>22926.429010</td>\n",
              "      <td>290.695462</td>\n",
              "    </tr>\n",
              "    <tr>\n",
              "      <th>min</th>\n",
              "      <td>0.000000</td>\n",
              "      <td>10800.000000</td>\n",
              "      <td>325.000000</td>\n",
              "    </tr>\n",
              "    <tr>\n",
              "      <th>25%</th>\n",
              "      <td>2.000000</td>\n",
              "      <td>29699.500000</td>\n",
              "      <td>650.000000</td>\n",
              "    </tr>\n",
              "    <tr>\n",
              "      <th>50%</th>\n",
              "      <td>2.000000</td>\n",
              "      <td>45899.500000</td>\n",
              "      <td>805.000000</td>\n",
              "    </tr>\n",
              "    <tr>\n",
              "      <th>75%</th>\n",
              "      <td>3.000000</td>\n",
              "      <td>59999.500000</td>\n",
              "      <td>1005.000000</td>\n",
              "    </tr>\n",
              "    <tr>\n",
              "      <th>max</th>\n",
              "      <td>5.000000</td>\n",
              "      <td>90000.000000</td>\n",
              "      <td>1865.000000</td>\n",
              "    </tr>\n",
              "  </tbody>\n",
              "</table>\n",
              "</div>"
            ],
            "text/plain": [
              "        residents  average_income    floorarea\n",
              "count  245.000000      245.000000   245.000000\n",
              "mean     2.436735    46317.728571   850.204082\n",
              "std      1.145679    22926.429010   290.695462\n",
              "min      0.000000    10800.000000   325.000000\n",
              "25%      2.000000    29699.500000   650.000000\n",
              "50%      2.000000    45899.500000   805.000000\n",
              "75%      3.000000    59999.500000  1005.000000\n",
              "max      5.000000    90000.000000  1865.000000"
            ]
          },
          "metadata": {},
          "execution_count": 5
        }
      ]
    },
    {
      "cell_type": "markdown",
      "metadata": {
        "id": "DzXUvO92ngmS"
      },
      "source": [
        "As seen in the above output, we have data from different value ranges (e.g. residents 0-5, average_income 10,800-90,000, floorarea 325-1865).\n",
        "\n",
        "Thus, we need to scale the values, to support the learning process. For this, we can use [StandardScaler](https://scikit-learn.org/stable/modules/generated/sklearn.preprocessing.StandardScaler.html) which standardizes features by removing the mean and scaling to unit variance."
      ]
    },
    {
      "cell_type": "code",
      "metadata": {
        "colab": {
          "base_uri": "https://localhost:8080/"
        },
        "id": "JZVU3DzGQLZ1",
        "outputId": "006b06de-8c4b-4be3-edd0-9d66f6cfca3f"
      },
      "source": [
        "# Scale data using StandardScaler\n",
        "scaler = StandardScaler().fit(selected_df)\n",
        "scaled_data = scaler.transform(selected_df)\n",
        "\n",
        "# Print the output of first 5 rows\n",
        "scaled_data[:5]"
      ],
      "execution_count": 6,
      "outputs": [
        {
          "output_type": "execute_result",
          "data": {
            "text/plain": [
              "array([[-0.38198211,  1.90922419, -0.31093962],\n",
              "       [-0.38198211,  0.21773864, -0.56946974],\n",
              "       [-0.38198211, -0.01827955, -0.12135087],\n",
              "       [ 1.36728175,  1.12247503, -0.69011712],\n",
              "       [-0.38198211,  0.59799017, -0.43158701]])"
            ]
          },
          "metadata": {},
          "execution_count": 6
        }
      ]
    },
    {
      "cell_type": "code",
      "source": [
        "scaled_data.shape"
      ],
      "metadata": {
        "colab": {
          "base_uri": "https://localhost:8080/"
        },
        "id": "KCUC3UMqbpKh",
        "outputId": "64e04c6d-1327-4904-a96f-6db292f1facd"
      },
      "execution_count": 8,
      "outputs": [
        {
          "output_type": "execute_result",
          "data": {
            "text/plain": [
              "(245, 3)"
            ]
          },
          "metadata": {},
          "execution_count": 8
        }
      ]
    },
    {
      "cell_type": "markdown",
      "source": [
        "The output of StandardScaler tranform() function is a ndarray array of shape (n_samples, n_features_new).\n",
        "\n",
        "Similar to the DataFrame, each row represents an instance and each column represents an attribute. In summary, column 0, 1 and 2 hold residents, average_income and floorarea respectively."
      ],
      "metadata": {
        "id": "BitNSw6ObSDe"
      }
    },
    {
      "cell_type": "markdown",
      "metadata": {
        "id": "1InyEmEwo_1O"
      },
      "source": [
        "As the next step, let's randomly separate the data set into two partitions: (1) train and (2) test.\n",
        "\n",
        "We use the train set to train our model and test set to evaluate model performance."
      ]
    },
    {
      "cell_type": "code",
      "metadata": {
        "colab": {
          "base_uri": "https://localhost:8080/"
        },
        "id": "D54x3xTEQiVT",
        "outputId": "564a4be5-557e-4690-dff1-a86e1c25b7fd"
      },
      "source": [
        "'''\n",
        "Randomly split data into train(75%) and test(15%) using sklearn train_test_split function.\n",
        "random_state controls the shuffling applied to the data and is used to reproduce the outputs.\n",
        "'''\n",
        "train, test = train_test_split(scaled_data, test_size=0.15, random_state=random_state)\n",
        "\n",
        "# Print the size of datasets and few initial samples\n",
        "print(f'Train set size: {train.shape}')\n",
        "print(f'Train set sample: \\n {train[:5]}')\n",
        "\n",
        "print(f'Test set size: {test.shape}')\n",
        "print(f'Test set sample: \\n {test[:5]}')"
      ],
      "execution_count": 7,
      "outputs": [
        {
          "output_type": "stream",
          "name": "stdout",
          "text": [
            "Train set size: (208, 3)\n",
            "Train set sample: \n",
            " [[ 1.36728175  1.90922419  1.89518403]\n",
            " [-0.38198211 -0.01827955 -0.24199826]\n",
            " [ 1.36728175 -0.01827955 -0.10411553]\n",
            " [-0.38198211 -0.92301594 -0.19029223]\n",
            " [ 2.24191368  0.21773864  0.96447561]]\n",
            "Test set size: (37, 3)\n",
            "Test set sample: \n",
            " [[-0.38198211 -0.92301594  1.24024107]\n",
            " [-0.38198211  0.59799017 -0.08688019]\n",
            " [ 1.36728175  0.21773864 -0.39711633]\n",
            " [ 0.49264982 -0.25429774  0.36123868]\n",
            " [ 1.36728175 -0.01827955  2.67077438]]\n"
          ]
        }
      ]
    },
    {
      "cell_type": "markdown",
      "metadata": {
        "id": "ou4oAd9BprNP"
      },
      "source": [
        "Now, our data is ready for learning."
      ]
    },
    {
      "cell_type": "markdown",
      "source": [
        "# Linear Regression\n",
        "\n",
        "We use [sklearn.linear_model.LinearRegression](https://scikit-learn.org/stable/modules/generated/sklearn.linear_model.LinearRegression.html) for the following experiments."
      ],
      "metadata": {
        "id": "2hvvtdPbcWF9"
      }
    },
    {
      "cell_type": "markdown",
      "metadata": {
        "id": "VVAehb8qQaUm"
      },
      "source": [
        "## Model 1\n",
        "\n",
        "As our first model, let's build a **Simple Linear Regression Model**.\n",
        "\n",
        "According to the targeted problem, our model needs to predict the floor area. Being a simple linear regression model, as variable/ feature, we can use either the number of residents or average income. \n",
        "\n",
        "For this model let's use the number of residents as the feature to predict floor area. We can summarise this using x and y notations as follows.\n",
        "* x = number of residents\n",
        "* y = floor area"
      ]
    },
    {
      "cell_type": "code",
      "source": [
        "x = train[:, 0]  # get residents from train data\n",
        "y = train[:, 2]  # get floorarea from train data\n",
        "\n",
        "# To train Linear Regression model, as the input, we need provide x: array-like/sparse matrix of shape (n_samples, n_features).\n",
        "x = x.reshape(-1, 1)  # format to shape (n_samples, n_features)\n",
        "# To train Linear Regression model, as the input, we need provide y: array-like of shape (n_samples,) or (n_samples, n_targets)\n",
        "y = y.reshape(-1, 1)  # format to shape (n_samples, n_targets)\n",
        "\n",
        "print(f'x shape: {x.shape}')\n",
        "print(f'y shape: {y.shape}')"
      ],
      "metadata": {
        "colab": {
          "base_uri": "https://localhost:8080/"
        },
        "id": "MX9KrBIKdnlQ",
        "outputId": "01da65c8-ea0e-49a1-f111-0536c92dff39"
      },
      "execution_count": 10,
      "outputs": [
        {
          "output_type": "stream",
          "name": "stdout",
          "text": [
            "x shape: (208, 1)\n",
            "y shape: (208, 1)\n"
          ]
        }
      ]
    },
    {
      "cell_type": "code",
      "metadata": {
        "colab": {
          "base_uri": "https://localhost:8080/"
        },
        "id": "DMsiiO2jQgcR",
        "outputId": "4678c976-c242-43eb-808e-6bbafa080bd0"
      },
      "source": [
        "regr = LinearRegression()  # create an instance of the class LinearRegression  \n",
        "regr.fit(x, y)  # train model \n",
        "\n",
        "# print coefficient(s)\n",
        "print(f'Coefficients: {regr.coef_}')\n",
        "\n",
        "# print intercept\n",
        "print(f'intercept: {regr.intercept_}')"
      ],
      "execution_count": 11,
      "outputs": [
        {
          "output_type": "stream",
          "name": "stdout",
          "text": [
            "Coefficients: [[0.39136124]]\n",
            "intercept: [0.04351998]\n"
          ]
        }
      ]
    },
    {
      "cell_type": "markdown",
      "metadata": {
        "id": "bxSaO_bSs-Dn"
      },
      "source": [
        "Using the given data, linear regression learned the following as the best fitting line.\n",
        "\n",
        "> *y = 0.0435 + 0.3914x*\n",
        "\n",
        "Using this best fit, we can predict the floor area given the number of residents."
      ]
    },
    {
      "cell_type": "code",
      "metadata": {
        "id": "m5uthROdZsfY"
      },
      "source": [
        "# make predictions on test data\n",
        "test_x = test[:, 0].reshape(-1, 1)  # get residents from test set and format\n",
        "\n",
        "y_pred = regr.predict(test_x)  # make predictions"
      ],
      "execution_count": 12,
      "outputs": []
    },
    {
      "cell_type": "markdown",
      "metadata": {
        "id": "0vzQ__SHvJgx"
      },
      "source": [
        "For test data set, we predicted floor area values using the number of residents to evaluate our model. \n",
        "\n",
        "Intially, let's see the feasibility to do a manual evaluation."
      ]
    },
    {
      "cell_type": "code",
      "metadata": {
        "colab": {
          "base_uri": "https://localhost:8080/"
        },
        "id": "Y6S6VXRsZv-i",
        "outputId": "05ef4acb-cc9b-46cb-9254-a0b58f922b89"
      },
      "source": [
        "# compare predictions with actuals\n",
        "test_y = test[:, 2].reshape(-1, 1) # get floorarea from test set to compare with predictions\n",
        "\n",
        "print(f'Actuals: {test_y.tolist()}\\n')\n",
        "print(f'Predictions: {y_pred.tolist()}')"
      ],
      "execution_count": 13,
      "outputs": [
        {
          "output_type": "stream",
          "name": "stdout",
          "text": [
            "Actuals: [[1.2402410713340126], [-0.08688018849106652], [-0.39711632715147466], [0.36123867846285634], [2.670774377379228], [-0.9314118992888442], [-0.4832930323349213], [1.2402410713340126], [-1.6897669049031752], [0.5163567477930604], [-0.1213508705644452], [-0.9314118992888442], [0.11994390394920557], [-0.9486472403255335], [-1.4829428124629032], [-1.2933540610593204], [-0.08688018849106652], [-1.327824743132699], [-1.327824743132699], [2.015831417985033], [-1.3622954252060777], [3.4980707471403165], [-0.8624705351420868], [-1.0175886044722908], [-0.31093962196802793], [0.05100253980244821], [-0.569469737518368], [-0.9141765582521548], [-0.5177637144083], [-0.7245878068485722], [-0.9658825813622228], [0.24059129120603095], [-1.1554713327658057], [-1.4484721303895245], [-0.8452351941053975], [1.4987711868843527], [-0.414351668188164]]\n",
            "\n",
            "Predictions: [[-0.10597301163705297], [-0.10597301163705297], [0.5786210596627355], [0.23632402401284128], [0.5786210596627355], [-0.10597301163705297], [-0.10597301163705297], [0.23632402401284128], [-0.10597301163705297], [-0.10597301163705297], [-0.10597301163705297], [-0.10597301163705297], [-0.10597301163705297], [0.23632402401284128], [-0.44827004728694725], [0.5786210596627355], [0.23632402401284128], [-0.10597301163705297], [0.23632402401284128], [0.5786210596627355], [-0.44827004728694725], [0.5786210596627355], [-0.44827004728694725], [0.23632402401284128], [-0.44827004728694725], [0.5786210596627355], [-0.10597301163705297], [-0.10597301163705297], [0.23632402401284128], [0.5786210596627355], [-0.10597301163705297], [-0.10597301163705297], [-0.44827004728694725], [-0.44827004728694725], [0.23632402401284128], [0.23632402401284128], [-0.10597301163705297]]\n"
          ]
        }
      ]
    },
    {
      "cell_type": "markdown",
      "metadata": {
        "id": "talphknBv9mk"
      },
      "source": [
        "Since we used scaled data for the model, above-printed actual and predicted values are also in their scaled formats. \n",
        "\n",
        "Let's convert them to the normal form (inverse scale) to ease our comparison."
      ]
    },
    {
      "cell_type": "code",
      "metadata": {
        "colab": {
          "base_uri": "https://localhost:8080/"
        },
        "id": "r_45EJB7WmRy",
        "outputId": "872794f2-e9bd-4948-deee-815b213b67e0"
      },
      "source": [
        "# get real-valued actuals\n",
        "inverse_scaled_a = scaler.inverse_transform(np.column_stack((test[:, [0,1]], test_y)))  # inverse scale actuals\n",
        "inverse_scaled_real_a = [round(val.real) for val in inverse_scaled_a[:, 2]]  # convert complex to real numbers and round off the values\n",
        "print(f'Actuals: {inverse_scaled_real_a}\\n')\n",
        "\n",
        "# get real-valued predictions\n",
        "inverse_scaled_p = scaler.inverse_transform(np.column_stack((test[:, [0,1]], y_pred)))  # inverse scale predictions\n",
        "inverse_scaled_real_p = [round(val.real) for val in inverse_scaled_p[:, 2]]  # convert complex to real numbers and round off the values\n",
        "print(f'Predictions: {inverse_scaled_real_p}')"
      ],
      "execution_count": 14,
      "outputs": [
        {
          "output_type": "stream",
          "name": "stdout",
          "text": [
            "Actuals: [1210, 825, 735, 955, 1625, 580, 710, 1210, 360, 1000, 815, 580, 885, 575, 420, 475, 825, 465, 465, 1435, 455, 1865, 600, 555, 760, 865, 685, 585, 700, 640, 570, 920, 515, 430, 605, 1285, 730]\n",
            "\n",
            "Predictions: [819, 819, 1018, 919, 1018, 819, 819, 919, 819, 819, 819, 819, 819, 919, 720, 1018, 919, 819, 919, 1018, 720, 1018, 720, 919, 720, 1018, 819, 819, 919, 1018, 819, 819, 720, 720, 919, 919, 819]\n"
          ]
        }
      ]
    },
    {
      "cell_type": "markdown",
      "metadata": {
        "id": "czs_EW-Iw8fl"
      },
      "source": [
        "<font size=4 color=\"blue\">**Q.** What are your opinions about this comparison? <font>"
      ]
    },
    {
      "cell_type": "markdown",
      "metadata": {
        "id": "6n8WTx5DxR9B"
      },
      "source": [
        "Rather than going through each actual and prediction pair (which is infeasible when we are dealing with large data sets), we can easily evaluate our model by calculating the **Mean Squared Error**."
      ]
    },
    {
      "cell_type": "code",
      "metadata": {
        "colab": {
          "base_uri": "https://localhost:8080/"
        },
        "id": "CcHdlRrWX6rX",
        "outputId": "6e0e4a2a-b07e-41ad-fc07-e7cd54f27fcc"
      },
      "source": [
        "# calcuate mean squared error\n",
        "error = mean_squared_error(test_y, y_pred)\n",
        "print(f'Mean squared error: {error:.2f}')"
      ],
      "execution_count": 15,
      "outputs": [
        {
          "output_type": "stream",
          "name": "stdout",
          "text": [
            "Mean squared error: 1.20\n"
          ]
        }
      ]
    },
    {
      "cell_type": "markdown",
      "metadata": {
        "id": "uUWeGs7rzsnX"
      },
      "source": [
        "Additionally, a graphical representation can provide us an overview as follows."
      ]
    },
    {
      "cell_type": "code",
      "metadata": {
        "colab": {
          "base_uri": "https://localhost:8080/",
          "height": 334
        },
        "id": "UcOQgiddcIuF",
        "outputId": "a9411c56-0d95-40f7-dd40-8b38fc81d957"
      },
      "source": [
        "fig = plt.figure(figsize=(7, 5))\n",
        "\n",
        "# plot data points\n",
        "plt.scatter(test_x, test_y, color ='b', alpha=0.6)\n",
        "# plot regression line\n",
        "plt.plot(test_x, y_pred, color ='k')\n",
        "\n",
        "plt.xlabel(\"Residents\")\n",
        "plt.ylabel(\"Floor Area\")\n",
        "  \n",
        "plt.show()"
      ],
      "execution_count": 16,
      "outputs": [
        {
          "output_type": "display_data",
          "data": {
            "image/png": "[encoded data removed]",
            "text/plain": [
              "<Figure size 504x360 with 1 Axes>"
            ]
          },
          "metadata": {
            "needs_background": "light"
          }
        }
      ]
    },
    {
      "cell_type": "markdown",
      "metadata": {
        "id": "2V9uis3AVGU-"
      },
      "source": [
        "## Model 2\n",
        "\n",
        "Let's see how well we can predict the floor area using average income.\n",
        "\n",
        "For this, again we have to build a simple linear regression model using following x and y values.\n",
        "* x = average income\n",
        "* y = floor area"
      ]
    },
    {
      "cell_type": "code",
      "metadata": {
        "colab": {
          "base_uri": "https://localhost:8080/"
        },
        "id": "ag0uCw-vVM5s",
        "outputId": "db190a02-20a7-4609-8387-d734d403ace9"
      },
      "source": [
        "x = train[:, 1]  # get average_income from train data\n",
        "y = train[:, 2]  # get floorarea from train data\n",
        "\n",
        "x = x.reshape(-1, 1)  # format to shape (n_samples, n_features)\n",
        "y = y.reshape(-1, 1)  # format to shape (n_samples, n_targets)\n",
        "\n",
        "regr = LinearRegression()  # create an instance of the class LinearRegression  \n",
        "regr.fit(x, y)  # train model \n",
        "\n",
        "# print coefficient(s)\n",
        "print(f'Coefficients: {regr.coef_}')\n",
        "\n",
        "# print intercept\n",
        "print(f'intercept: {regr.intercept_}')"
      ],
      "execution_count": 25,
      "outputs": [
        {
          "output_type": "stream",
          "name": "stdout",
          "text": [
            "Coefficients: [[0.32303074]]\n",
            "intercept: [0.04954712]\n"
          ]
        }
      ]
    },
    {
      "cell_type": "markdown",
      "metadata": {
        "id": "-utvHLDk1USJ"
      },
      "source": [
        "<font size=4 color=\"blue\">**Q.** What is the equation for the best fitting line of model 2? <font>"
      ]
    },
    {
      "cell_type": "code",
      "metadata": {
        "id": "uDt_CRrY1jHs"
      },
      "source": [
        "# make predictions on test data\n",
        "test_x = test[:, 1].reshape(-1, 1)  # get average_income from test set and format\n",
        "\n",
        "y_pred = regr.predict(test_x)  # make predictions"
      ],
      "execution_count": 26,
      "outputs": []
    },
    {
      "cell_type": "code",
      "metadata": {
        "colab": {
          "base_uri": "https://localhost:8080/"
        },
        "id": "Ops1BL-MXIEE",
        "outputId": "a1e42101-967b-4b68-b54a-31589efd06c7"
      },
      "source": [
        "test_y = test[:, 2].reshape(-1, 1)  # get floorarea from test set to compare with predictions\n",
        "\n",
        "# calcuate mean squared error\n",
        "error = mean_squared_error(test_y, y_pred)\n",
        "print(f'Mean squared error: {error:.2f}')"
      ],
      "execution_count": 27,
      "outputs": [
        {
          "output_type": "stream",
          "name": "stdout",
          "text": [
            "Mean squared error: 1.25\n"
          ]
        }
      ]
    },
    {
      "cell_type": "code",
      "metadata": {
        "colab": {
          "base_uri": "https://localhost:8080/",
          "height": 334
        },
        "id": "ldThLeffdcnb",
        "outputId": "60f8c590-887b-4608-9ea1-1c562c2b3983"
      },
      "source": [
        "fig = plt.figure(figsize=(7, 5))\n",
        "\n",
        "# plot data points\n",
        "plt.scatter(test_x, test_y, color ='b', alpha=0.6)\n",
        "# plot regression line\n",
        "plt.plot(test_x, y_pred, color ='k')\n",
        "\n",
        "plt.xlabel(\"Average Income\")\n",
        "plt.ylabel(\"Floor Area\")\n",
        "  \n",
        "plt.show()"
      ],
      "execution_count": 28,
      "outputs": [
        {
          "output_type": "display_data",
          "data": {
            "image/png": "[encoded data removed]",
            "text/plain": [
              "<Figure size 504x360 with 1 Axes>"
            ]
          },
          "metadata": {
            "needs_background": "light"
          }
        }
      ]
    },
    {
      "cell_type": "markdown",
      "metadata": {
        "id": "26V0VJ6AVW_0"
      },
      "source": [
        "## Model 3\n",
        "\n",
        "As our third model, let's build a **Multiple Linear Regression Model**.\n",
        "\n",
        "As the name suggests, we can use multiple variables/ features for this model. That means we can use both the number of residents and average income to predict the floor area.\n",
        "\n",
        "We can summarise this using x and y notations as follows.\n",
        "* x = number of residents, average income\n",
        "* y = floor area"
      ]
    },
    {
      "cell_type": "code",
      "metadata": {
        "colab": {
          "base_uri": "https://localhost:8080/"
        },
        "id": "3SxJ3m7EVdCf",
        "outputId": "c136368b-edd4-4d70-bc3d-cedf662a0402"
      },
      "source": [
        "x = train[:, [0,1]]  # get residents and average_income from train data\n",
        "y = train[:, 2]  # get floorarea from train data\n",
        "\n",
        "x = x.reshape(-1, 2)  # format to shape (n_samples, n_features)\n",
        "y = y.reshape(-1, 1)  # format to shape (n_samples, n_targets)\n",
        "\n",
        "regr = LinearRegression()  # create an instance of the class LinearRegression \n",
        "regr.fit(x, y)  # train model \n",
        "\n",
        "# print coefficient(s)\n",
        "print(f'Coefficients: {regr.coef_}')\n",
        "\n",
        "# print intercept\n",
        "print(f'intercept: {regr.intercept_}')"
      ],
      "execution_count": 30,
      "outputs": [
        {
          "output_type": "stream",
          "name": "stdout",
          "text": [
            "Coefficients: [[0.34125726 0.25334288]]\n",
            "intercept: [0.04915492]\n"
          ]
        }
      ]
    },
    {
      "cell_type": "markdown",
      "metadata": {
        "id": "wva33Yio4fug"
      },
      "source": [
        "Using the calculated coefficients and intercept, the best fitting object of model3 can be represented using the following equation.\n",
        "\n",
        "> *y = 0.0492 + 0.3413x_1 + 0.2533x_2* <br>\n",
        "> *x_1 = residents* <br>\n",
        "> *x_2 = average_income* <br>\n",
        "\n",
        "*Note:* Higher the dimensions, a high dimensional object will be recognised by the model as the best fit."
      ]
    },
    {
      "cell_type": "code",
      "metadata": {
        "id": "ykWEL3tQ6B8r"
      },
      "source": [
        "# make predictions on test data\n",
        "test_x = test[:, [0,1]].reshape(-1, 2)  # get residents and average_income from test set and format\n",
        "\n",
        "y_pred = regr.predict(test_x)  # make predictions"
      ],
      "execution_count": 31,
      "outputs": []
    },
    {
      "cell_type": "code",
      "metadata": {
        "colab": {
          "base_uri": "https://localhost:8080/"
        },
        "id": "Oeh_9kQHXRO8",
        "outputId": "b019c0f2-58df-4c54-c53c-49afaf9d9dfb"
      },
      "source": [
        "test_y = test[:, 2].reshape(-1, 1)  # get floor area values from test set to compare with predictions\n",
        "\n",
        "# calcuate mean squared error\n",
        "error = mean_squared_error(test_y, y_pred)\n",
        "print(f'Mean squared error: {error:.2f}')"
      ],
      "execution_count": 32,
      "outputs": [
        {
          "output_type": "stream",
          "name": "stdout",
          "text": [
            "Mean squared error: 1.10\n"
          ]
        }
      ]
    },
    {
      "cell_type": "markdown",
      "metadata": {
        "id": "Ey5ySfRf7ArB"
      },
      "source": [
        "For graphical representation, we need to draw a 3D plot."
      ]
    },
    {
      "cell_type": "code",
      "metadata": {
        "colab": {
          "base_uri": "https://localhost:8080/",
          "height": 521
        },
        "id": "sYGIAeedeD2x",
        "outputId": "12502b34-9533-4469-e087-8fdca546c369"
      },
      "source": [
        "x_surf, y_surf = np.meshgrid(np.linspace(test[:, 0].min(), test[:, 0].max(), 5),np.linspace(test[:, 1].min(),test[:, 1].max(), 5))\n",
        "temp_x = pd.DataFrame({'Residents': x_surf.ravel(), 'Average Income': y_surf.ravel()})\n",
        "fittedY=regr.predict(temp_x)\n",
        "\n",
        "fig = plt.figure(figsize=(8, 8))\n",
        "ax = fig.add_subplot(projection='3d')\n",
        "\n",
        "ax.scatter(test_x[:, 0], test_x[:, 1], test_y)\n",
        "ax.plot_surface(x_surf,y_surf,fittedY.reshape(x_surf.shape), color='b', alpha=0.3)\n",
        "\n",
        "ax.set_xlabel(\"Residents\")\n",
        "ax.set_ylabel(\"Average Income\")\n",
        "ax.set_zlabel(\"Floor Area\")\n",
        "\n",
        "plt.show()"
      ],
      "execution_count": 33,
      "outputs": [
        {
          "output_type": "stream",
          "name": "stderr",
          "text": [
            "/usr/local/lib/python3.7/dist-packages/sklearn/base.py:439: UserWarning: X has feature names, but LinearRegression was fitted without feature names\n",
            "  f\"X has feature names, but {self.__class__.__name__} was fitted without\"\n"
          ]
        },
        {
          "output_type": "display_data",
          "data": {
            "image/png": "[encoded data removed]",
            "text/plain": [
              "<Figure size 576x576 with 1 Axes>"
            ]
          },
          "metadata": {
            "needs_background": "light"
          }
        }
      ]
    },
    {
      "cell_type": "markdown",
      "metadata": {
        "id": "9YHpa59wePmo"
      },
      "source": [
        "<font size=4 color=\"blue\">**Q.** What is the best model we built to predict the floor area? <font>"
      ]
    }
  ]
}