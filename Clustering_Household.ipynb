{
  "nbformat": 4,
  "nbformat_minor": 0,
  "metadata": {
    "colab": {
      "name": "Clustering-Household.ipynb",
      "provenance": [],
      "authorship_tag": "ABX9TyNpeSxxXS9KhDq57hg5ZYCF",
      "include_colab_link": true
    },
    "kernelspec": {
      "name": "python3",
      "display_name": "Python 3"
    },
    "language_info": {
      "name": "python"
    }
  },
  "cells": [
    {
      "cell_type": "markdown",
      "metadata": {
        "id": "view-in-github",
        "colab_type": "text"
      },
      "source": [
        "<a href=\"https://colab.research.google.com/github/HHansi/Machine-Learning-CPD-Course/blob/main/Clustering_Household.ipynb\" target=\"_parent\"><img src=\"https://colab.research.google.com/assets/colab-badge.svg\" alt=\"Open In Colab\"/></a>"
      ]
    },
    {
      "cell_type": "markdown",
      "metadata": {
        "id": "0HNVrmSn9CTy"
      },
      "source": [
        "# Problem\n",
        "\n",
        "**Can we predict the type of the house or its floor area, knowing the number of family members and income?**\n",
        "\n",
        "Let's apply K-means clustering on the number of family members and income and see how the identified clusters can be related to the house types.\n"
      ]
    },
    {
      "cell_type": "code",
      "metadata": {
        "id": "ZQkjVa_-TX18"
      },
      "source": [
        "# Import libraries\n",
        "import numpy as np\n",
        "import matplotlib.pyplot as plt\n",
        "import pandas as pd\n",
        "from sklearn.preprocessing import StandardScaler\n",
        "from sklearn.cluster import KMeans"
      ],
      "execution_count": 1,
      "outputs": []
    },
    {
      "cell_type": "markdown",
      "metadata": {
        "id": "BVaA4eMX-BIq"
      },
      "source": [
        "# Load Data\n",
        "\n",
        "Don't forget to load the cleaned data set."
      ]
    },
    {
      "cell_type": "code",
      "metadata": {
        "colab": {
          "base_uri": "https://localhost:8080/",
          "height": 206
        },
        "id": "r0ZcleL3TZ6s",
        "outputId": "1cfedd83-8d7b-41f3-9354-64140493d0ae"
      },
      "source": [
        "# Load the data set\n",
        "df = pd.read_csv(\"/content/cleaned_home_data.csv\")\n",
        "df.head(5)"
      ],
      "execution_count": 3,
      "outputs": [
        {
          "output_type": "execute_result",
          "data": {
            "text/html": [
              "<div>\n",
              "<style scoped>\n",
              "    .dataframe tbody tr th:only-of-type {\n",
              "        vertical-align: middle;\n",
              "    }\n",
              "\n",
              "    .dataframe tbody tr th {\n",
              "        vertical-align: top;\n",
              "    }\n",
              "\n",
              "    .dataframe thead th {\n",
              "        text-align: right;\n",
              "    }\n",
              "</style>\n",
              "<table border=\"1\" class=\"dataframe\">\n",
              "  <thead>\n",
              "    <tr style=\"text-align: right;\">\n",
              "      <th></th>\n",
              "      <th>homeid</th>\n",
              "      <th>residents</th>\n",
              "      <th>income_band</th>\n",
              "      <th>hometype</th>\n",
              "      <th>floorarea</th>\n",
              "      <th>average_income</th>\n",
              "    </tr>\n",
              "  </thead>\n",
              "  <tbody>\n",
              "    <tr>\n",
              "      <th>0</th>\n",
              "      <td>59</td>\n",
              "      <td>2</td>\n",
              "      <td>£90,000 or more</td>\n",
              "      <td>flat</td>\n",
              "      <td>760</td>\n",
              "      <td>90000.0</td>\n",
              "    </tr>\n",
              "    <tr>\n",
              "      <th>1</th>\n",
              "      <td>61</td>\n",
              "      <td>2</td>\n",
              "      <td>£48,600 to £53,999</td>\n",
              "      <td>house_or_bungalow</td>\n",
              "      <td>685</td>\n",
              "      <td>51299.5</td>\n",
              "    </tr>\n",
              "    <tr>\n",
              "      <th>2</th>\n",
              "      <td>62</td>\n",
              "      <td>2</td>\n",
              "      <td>£43,200 to £48,599</td>\n",
              "      <td>flat</td>\n",
              "      <td>815</td>\n",
              "      <td>45899.5</td>\n",
              "    </tr>\n",
              "    <tr>\n",
              "      <th>3</th>\n",
              "      <td>64</td>\n",
              "      <td>4</td>\n",
              "      <td>£66,000 to £77,999</td>\n",
              "      <td>flat</td>\n",
              "      <td>650</td>\n",
              "      <td>71999.5</td>\n",
              "    </tr>\n",
              "    <tr>\n",
              "      <th>4</th>\n",
              "      <td>63</td>\n",
              "      <td>2</td>\n",
              "      <td>£54,000 to £65,999</td>\n",
              "      <td>house_or_bungalow</td>\n",
              "      <td>725</td>\n",
              "      <td>59999.5</td>\n",
              "    </tr>\n",
              "  </tbody>\n",
              "</table>\n",
              "</div>"
            ],
            "text/plain": [
              "   homeid  residents  ... floorarea average_income\n",
              "0      59          2  ...       760        90000.0\n",
              "1      61          2  ...       685        51299.5\n",
              "2      62          2  ...       815        45899.5\n",
              "3      64          4  ...       650        71999.5\n",
              "4      63          2  ...       725        59999.5\n",
              "\n",
              "[5 rows x 6 columns]"
            ]
          },
          "metadata": {},
          "execution_count": 3
        }
      ]
    },
    {
      "cell_type": "markdown",
      "metadata": {
        "id": "XK743kWL-ZYO"
      },
      "source": [
        "Let's filter out the data columns which we are intended to use for our experiments. "
      ]
    },
    {
      "cell_type": "code",
      "metadata": {
        "colab": {
          "base_uri": "https://localhost:8080/",
          "height": 223
        },
        "id": "y9-sLFQbTgUI",
        "outputId": "ed0c45f2-c5ac-47f6-b8f2-11fbcd6f9c36"
      },
      "source": [
        "selected_df = df[['residents', 'average_income']]\n",
        "print(f'Selected data size: {selected_df.shape}')\n",
        "selected_df.head(5)"
      ],
      "execution_count": 4,
      "outputs": [
        {
          "output_type": "stream",
          "name": "stdout",
          "text": [
            "Selected data size: (245, 2)\n"
          ]
        },
        {
          "output_type": "execute_result",
          "data": {
            "text/html": [
              "<div>\n",
              "<style scoped>\n",
              "    .dataframe tbody tr th:only-of-type {\n",
              "        vertical-align: middle;\n",
              "    }\n",
              "\n",
              "    .dataframe tbody tr th {\n",
              "        vertical-align: top;\n",
              "    }\n",
              "\n",
              "    .dataframe thead th {\n",
              "        text-align: right;\n",
              "    }\n",
              "</style>\n",
              "<table border=\"1\" class=\"dataframe\">\n",
              "  <thead>\n",
              "    <tr style=\"text-align: right;\">\n",
              "      <th></th>\n",
              "      <th>residents</th>\n",
              "      <th>average_income</th>\n",
              "    </tr>\n",
              "  </thead>\n",
              "  <tbody>\n",
              "    <tr>\n",
              "      <th>0</th>\n",
              "      <td>2</td>\n",
              "      <td>90000.0</td>\n",
              "    </tr>\n",
              "    <tr>\n",
              "      <th>1</th>\n",
              "      <td>2</td>\n",
              "      <td>51299.5</td>\n",
              "    </tr>\n",
              "    <tr>\n",
              "      <th>2</th>\n",
              "      <td>2</td>\n",
              "      <td>45899.5</td>\n",
              "    </tr>\n",
              "    <tr>\n",
              "      <th>3</th>\n",
              "      <td>4</td>\n",
              "      <td>71999.5</td>\n",
              "    </tr>\n",
              "    <tr>\n",
              "      <th>4</th>\n",
              "      <td>2</td>\n",
              "      <td>59999.5</td>\n",
              "    </tr>\n",
              "  </tbody>\n",
              "</table>\n",
              "</div>"
            ],
            "text/plain": [
              "   residents  average_income\n",
              "0          2         90000.0\n",
              "1          2         51299.5\n",
              "2          2         45899.5\n",
              "3          4         71999.5\n",
              "4          2         59999.5"
            ]
          },
          "metadata": {},
          "execution_count": 4
        }
      ]
    },
    {
      "cell_type": "code",
      "source": [
        "selected_df.describe()"
      ],
      "metadata": {
        "colab": {
          "base_uri": "https://localhost:8080/",
          "height": 300
        },
        "id": "hqe07McFRmOZ",
        "outputId": "6d94f427-2cb5-41d1-c11a-38780a45f037"
      },
      "execution_count": 5,
      "outputs": [
        {
          "output_type": "execute_result",
          "data": {
            "text/html": [
              "<div>\n",
              "<style scoped>\n",
              "    .dataframe tbody tr th:only-of-type {\n",
              "        vertical-align: middle;\n",
              "    }\n",
              "\n",
              "    .dataframe tbody tr th {\n",
              "        vertical-align: top;\n",
              "    }\n",
              "\n",
              "    .dataframe thead th {\n",
              "        text-align: right;\n",
              "    }\n",
              "</style>\n",
              "<table border=\"1\" class=\"dataframe\">\n",
              "  <thead>\n",
              "    <tr style=\"text-align: right;\">\n",
              "      <th></th>\n",
              "      <th>residents</th>\n",
              "      <th>average_income</th>\n",
              "    </tr>\n",
              "  </thead>\n",
              "  <tbody>\n",
              "    <tr>\n",
              "      <th>count</th>\n",
              "      <td>245.000000</td>\n",
              "      <td>245.000000</td>\n",
              "    </tr>\n",
              "    <tr>\n",
              "      <th>mean</th>\n",
              "      <td>2.436735</td>\n",
              "      <td>46317.728571</td>\n",
              "    </tr>\n",
              "    <tr>\n",
              "      <th>std</th>\n",
              "      <td>1.145679</td>\n",
              "      <td>22926.429010</td>\n",
              "    </tr>\n",
              "    <tr>\n",
              "      <th>min</th>\n",
              "      <td>0.000000</td>\n",
              "      <td>10800.000000</td>\n",
              "    </tr>\n",
              "    <tr>\n",
              "      <th>25%</th>\n",
              "      <td>2.000000</td>\n",
              "      <td>29699.500000</td>\n",
              "    </tr>\n",
              "    <tr>\n",
              "      <th>50%</th>\n",
              "      <td>2.000000</td>\n",
              "      <td>45899.500000</td>\n",
              "    </tr>\n",
              "    <tr>\n",
              "      <th>75%</th>\n",
              "      <td>3.000000</td>\n",
              "      <td>59999.500000</td>\n",
              "    </tr>\n",
              "    <tr>\n",
              "      <th>max</th>\n",
              "      <td>5.000000</td>\n",
              "      <td>90000.000000</td>\n",
              "    </tr>\n",
              "  </tbody>\n",
              "</table>\n",
              "</div>"
            ],
            "text/plain": [
              "        residents  average_income\n",
              "count  245.000000      245.000000\n",
              "mean     2.436735    46317.728571\n",
              "std      1.145679    22926.429010\n",
              "min      0.000000    10800.000000\n",
              "25%      2.000000    29699.500000\n",
              "50%      2.000000    45899.500000\n",
              "75%      3.000000    59999.500000\n",
              "max      5.000000    90000.000000"
            ]
          },
          "metadata": {},
          "execution_count": 5
        }
      ]
    },
    {
      "cell_type": "markdown",
      "metadata": {
        "id": "OjEpziij-fY3"
      },
      "source": [
        "As seen in the above output, we have data from different value ranges (e.g. residents 0-5, average_income 10,800-90,000).\n",
        "\n",
        "Thus, we need to scale the values, to support the learning process. For this, we can use [StandardScaler](https://scikit-learn.org/stable/modules/generated/sklearn.preprocessing.StandardScaler.html) which standardizes features by removing the mean and scaling to unit variance."
      ]
    },
    {
      "cell_type": "code",
      "metadata": {
        "colab": {
          "base_uri": "https://localhost:8080/"
        },
        "id": "jjgYfZKUTvUX",
        "outputId": "bca82005-4c05-4bfc-d85e-7ca2e80dbf73"
      },
      "source": [
        "# Scale data using StandardScaler\n",
        "scaler = StandardScaler().fit(selected_df)\n",
        "scaled_data = scaler.transform(selected_df)\n",
        "\n",
        "# Print the output of first 5 rows\n",
        "scaled_data[:5]"
      ],
      "execution_count": 6,
      "outputs": [
        {
          "output_type": "execute_result",
          "data": {
            "text/plain": [
              "array([[-0.38198211,  1.90922419],\n",
              "       [-0.38198211,  0.21773864],\n",
              "       [-0.38198211, -0.01827955],\n",
              "       [ 1.36728175,  1.12247503],\n",
              "       [-0.38198211,  0.59799017]])"
            ]
          },
          "metadata": {},
          "execution_count": 6
        }
      ]
    },
    {
      "cell_type": "markdown",
      "metadata": {
        "id": "HHEDvF2S_BMc"
      },
      "source": [
        "# K-means Clustering\n",
        "\n",
        "We use [sklearn.cluster.KMeans](https://scikit-learn.org/stable/modules/generated/sklearn.cluster.KMeans.html) for K-means clustering experiments.\n",
        "\n",
        "For K-means clustering, we have to define the number of clusters as a parameter. We usually use domain knowledge and statistical methods to pick this value. \n",
        "\n",
        "For this experiment, without going into more details, let's assume we need to find 2 clusters."
      ]
    },
    {
      "cell_type": "code",
      "metadata": {
        "colab": {
          "base_uri": "https://localhost:8080/"
        },
        "id": "fIMv6JKTUB9B",
        "outputId": "69ff1ef5-0635-4da9-9a58-3fadbae98dfb"
      },
      "source": [
        "kmeans = KMeans(n_clusters=2, random_state=1234)  # create an instance of the class KMeans, giving number of clusters and random state as parameters\n",
        "kmeans.fit(scaled_data)  # train model \n",
        " \n",
        "# predict assigned cluster labels\n",
        "labels = kmeans.predict(scaled_data)\n",
        "print(f'predicted clusters:\\n {labels}')"
      ],
      "execution_count": 7,
      "outputs": [
        {
          "output_type": "stream",
          "name": "stdout",
          "text": [
            "predicted clusters:\n",
            " [1 0 0 1 1 1 0 1 0 0 0 0 0 0 0 0 0 1 0 0 0 0 0 0 1 0 1 0 0 0 1 1 0 0 1 1 0\n",
            " 0 1 1 0 0 1 1 0 0 0 0 0 0 1 0 1 0 1 1 1 0 1 1 0 0 0 0 1 1 1 1 1 1 0 1 1 1\n",
            " 0 0 1 1 1 0 1 1 1 1 0 1 0 0 1 0 1 0 0 1 1 0 0 1 0 0 0 0 1 1 1 0 0 0 0 0 1\n",
            " 0 1 1 0 0 1 0 1 1 1 0 0 1 0 0 1 1 0 1 0 1 0 1 1 0 0 0 0 0 1 1 0 0 1 0 1 0\n",
            " 1 1 1 1 0 0 0 1 0 0 1 1 1 1 1 0 0 0 1 1 1 0 1 0 0 0 0 1 1 1 1 1 0 0 0 1 0\n",
            " 1 0 0 0 0 0 1 0 1 0 0 1 1 1 0 1 1 0 0 1 0 1 0 1 0 0 0 1 0 0 0 0 0 1 0 1 1\n",
            " 1 0 1 1 1 0 0 0 0 1 0 0 0 0 1 1 1 0 1 0 1 1 1]\n"
          ]
        }
      ]
    },
    {
      "cell_type": "markdown",
      "metadata": {
        "id": "Sy1tAFcFCsQK"
      },
      "source": [
        "We can use centroid details to know about the characteristics of the generated clusters."
      ]
    },
    {
      "cell_type": "code",
      "metadata": {
        "colab": {
          "base_uri": "https://localhost:8080/"
        },
        "id": "nwGia-KHC0po",
        "outputId": "101ca4bd-f579-4eea-b6c6-345650abb0bf"
      },
      "source": [
        "# get cluster centroids\n",
        "centroids = kmeans.cluster_centers_\n",
        "print(f'cluster centroids:\\n {centroids}')"
      ],
      "execution_count": 8,
      "outputs": [
        {
          "output_type": "stream",
          "name": "stdout",
          "text": [
            "cluster centroids:\n",
            " [[-0.56088409 -0.64760973]\n",
            " [ 0.65519204  0.75649986]]\n"
          ]
        }
      ]
    },
    {
      "cell_type": "markdown",
      "metadata": {
        "id": "6EuuYoSXDHoc"
      },
      "source": [
        "Since we used scaled data for the model, centroids are also in scaled formats. \n",
        "\n",
        "However, these values will make more sense once they are converted to the normal form."
      ]
    },
    {
      "cell_type": "code",
      "metadata": {
        "colab": {
          "base_uri": "https://localhost:8080/"
        },
        "id": "zGu1QA9FD9qo",
        "outputId": "c074fb9b-b895-468e-dca2-43410daefd68"
      },
      "source": [
        "inverse_scaled_centroids = scaler.inverse_transform(centroids)  # inverse scale centroids\n",
        "print(f'{inverse_scaled_centroids}\\n')\n",
        "\n",
        "# convert complex to real numbers and round off the values\n",
        "for row in inverse_scaled_centroids:\n",
        "  real_values = [round(val.real) for val in row]\n",
        "  print(real_values)"
      ],
      "execution_count": 9,
      "outputs": [
        {
          "output_type": "stream",
          "name": "stdout",
          "text": [
            "[[1.79545455e+00 3.15006818e+04]\n",
            " [3.18584071e+00 6.36261372e+04]]\n",
            "\n",
            "[2, 31501]\n",
            "[3, 63626]\n"
          ]
        }
      ]
    },
    {
      "cell_type": "markdown",
      "metadata": {
        "id": "UivPqiJLF9Jd"
      },
      "source": [
        "Let's plot the clusters in a scatter plot to get an overview."
      ]
    },
    {
      "cell_type": "code",
      "source": [
        "for n, y in enumerate(inverse_scaled_centroids):\n",
        "  print(y)"
      ],
      "metadata": {
        "colab": {
          "base_uri": "https://localhost:8080/"
        },
        "id": "y0YSm9vVWMgK",
        "outputId": "5e08c5ae-4aa7-4915-b4aa-468dfa3b88e2"
      },
      "execution_count": 16,
      "outputs": [
        {
          "output_type": "stream",
          "name": "stdout",
          "text": [
            "[1.79545455e+00 3.15006818e+04]\n",
            "[3.18584071e+00 6.36261372e+04]\n"
          ]
        }
      ]
    },
    {
      "cell_type": "code",
      "source": [
        "fig = plt.figure(figsize=(12, 6))\n",
        "colors = ['r', 'b']\n",
        "\n",
        "# plot data points\n",
        "n_labels = np.unique(labels)  # count number of unique labels to use with graph\n",
        "for i in n_labels:\n",
        "    plt.scatter(selected_df[labels == i].iloc[: , 0] , selected_df[labels == i].iloc[: , 1] , label=i, color=colors[i], alpha=0.3)\n",
        "\n",
        "# plot centroids\n",
        "for n, y in enumerate(inverse_scaled_centroids):\n",
        "  plt.plot(y[0], y[1], marker='^', color=colors[n], ms=10)\n",
        "\n",
        "plt.xlabel(\"Residents\")\n",
        "plt.ylabel(\"Average Income\")\n",
        "\n",
        "plt.legend()\n",
        "plt.show()"
      ],
      "metadata": {
        "colab": {
          "base_uri": "https://localhost:8080/",
          "height": 388
        },
        "id": "YOawJvn3Ue2K",
        "outputId": "4a1be7c3-4acb-476d-9466-c30c1f4fe2c1"
      },
      "execution_count": 18,
      "outputs": [
        {
          "output_type": "display_data",
          "data": {
            "image/png": "[encoded data removed]",
            "text/plain": [
              "<Figure size 864x432 with 1 Axes>"
            ]
          },
          "metadata": {
            "needs_background": "light"
          }
        }
      ]
    },
    {
      "cell_type": "markdown",
      "metadata": {
        "id": "FDWexNIqRNJB"
      },
      "source": [
        "<font size=4 color=\"blue\">**Q.** How can you explain the properties/ characteristics of each clsuter? <font>"
      ]
    },
    {
      "cell_type": "markdown",
      "metadata": {
        "id": "B58XGUMQRoFt"
      },
      "source": [
        "As the next step, let's see how the identified clusters can be related to the house types.\n",
        "\n",
        "By drawing a scatter plot (similar to the above) separating the house types: flat and house_or_bungalow, we will be able to see the similarities to the identified clusters."
      ]
    },
    {
      "cell_type": "code",
      "source": [
        "fig = plt.figure(figsize=(12, 6))\n",
        "\n",
        "plt.scatter(df.loc[df['hometype'] == 'flat']['residents'] , df.loc[df['hometype'] == 'flat']['average_income'], label='flat', color='c', alpha=0.3)\n",
        "plt.scatter(df.loc[df['hometype'] == 'house_or_bungalow']['residents'] , df.loc[df['hometype'] == 'house_or_bungalow']['average_income'] , label='house_or_bungalow', color='m', alpha=0.3)\n",
        "\n",
        "plt.xlabel(\"Residents\")\n",
        "plt.ylabel(\"Average Income\")\n",
        "\n",
        "plt.legend()\n",
        "plt.show()"
      ],
      "metadata": {
        "colab": {
          "base_uri": "https://localhost:8080/",
          "height": 388
        },
        "id": "0-YBSLVIWvRS",
        "outputId": "2ddb115a-3cb5-488a-eb4d-290dc96afac4"
      },
      "execution_count": 19,
      "outputs": [
        {
          "output_type": "display_data",
          "data": {
            "image/png": "[encoded data removed]",
            "text/plain": [
              "<Figure size 864x432 with 1 Axes>"
            ]
          },
          "metadata": {
            "needs_background": "light"
          }
        }
      ]
    }
  ]
}