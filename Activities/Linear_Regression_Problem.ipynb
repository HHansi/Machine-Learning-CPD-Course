{
  "nbformat": 4,
  "nbformat_minor": 0,
  "metadata": {
    "colab": {
      "name": "Linear Regression Problem.ipynb",
      "provenance": [],
      "collapsed_sections": [],
      "toc_visible": true,
      "authorship_tag": "ABX9TyOZvh1DiMoApQOsdolSTgDY",
      "include_colab_link": true
    },
    "kernelspec": {
      "name": "python3",
      "display_name": "Python 3"
    },
    "language_info": {
      "name": "python"
    }
  },
  "cells": [
    {
      "cell_type": "markdown",
      "metadata": {
        "id": "view-in-github",
        "colab_type": "text"
      },
      "source": [
        "<a href=\"https://colab.research.google.com/github/HHansi/Machine-Learning-CPD-Course/blob/main/Activities/Linear_Regression_Problem.ipynb\" target=\"_parent\"><img src=\"https://colab.research.google.com/assets/colab-badge.svg\" alt=\"Open In Colab\"/></a>"
      ]
    },
    {
      "cell_type": "markdown",
      "source": [
        "# Problem\n",
        "\n",
        "**Can we predict the floor area of a house based on its appliances using a simple linear regression model?**\n",
        "\n",
        "1.   Load home_appliance.csv into a DataFrame.\n",
        "2.   Clean and visualise data using appropriate techniques.\n",
        "3.   Recognise the best features to train a simple linear regression model.\n",
        "4.   Build model(s) and evaluate their performance.\n",
        "5.   Report your findings."
      ],
      "metadata": {
        "id": "lhVw3ptCQctX"
      }
    },
    {
      "cell_type": "markdown",
      "source": [
        "## Description of the Data Set\n",
        "\n",
        "\n",
        "home_appliance.csv data set consists of 6 columns describing the appliances in each house.\n",
        "\n",
        "*   homeid - unique id assigned to each home\n",
        "*   food - number of food appliances\n",
        "*   water - number of water appliances\n",
        "*   heating - number of heating appliances\n",
        "*   other - number of other appliances\n",
        "*   floorarea - total floor area of the home covering all rooms\n",
        "\n",
        "\n",
        "(This data set is taken from [IDEAL Household Energy Dataset](https://datashare.ed.ac.uk/handle/10283/3647).)"
      ],
      "metadata": {
        "id": "6NrrL9umYaBO"
      }
    },
    {
      "cell_type": "markdown",
      "source": [
        "# Libraries"
      ],
      "metadata": {
        "id": "yM37hV8vXwvD"
      }
    },
    {
      "cell_type": "code",
      "source": [
        "# Import libraries\n",
        "import numpy as np\n",
        "import pandas as pd\n",
        "import seaborn as sns\n",
        "import matplotlib.pyplot as plt\n",
        "from sklearn.preprocessing import StandardScaler\n",
        "from sklearn.model_selection import train_test_split\n",
        "from sklearn.linear_model import LinearRegression\n",
        "from sklearn.metrics import mean_squared_error\n",
        "\n",
        "# Define random state\n",
        "random_state = 1234"
      ],
      "metadata": {
        "id": "zP1_Ril8G7Zj"
      },
      "execution_count": null,
      "outputs": []
    },
    {
      "cell_type": "markdown",
      "source": [
        "# Load Data"
      ],
      "metadata": {
        "id": "qaSVQH5BXx6X"
      }
    },
    {
      "cell_type": "code",
      "source": [
        "# Load the data set\n",
        "df = pd.read_csv(\"https://raw.githubusercontent.com/HHansi/Machine-Learning-CPD-Course/main/Data/home_appliance.csv\")\n",
        "df.head(5)"
      ],
      "metadata": {
        "colab": {
          "base_uri": "https://localhost:8080/",
          "height": 206
        },
        "id": "OcNvotKlG__1",
        "outputId": "20d6e452-5f6e-46dc-8f9c-70fef01dd566"
      },
      "execution_count": null,
      "outputs": [
        {
          "output_type": "execute_result",
          "data": {
            "text/html": [
              "<div>\n",
              "<style scoped>\n",
              "    .dataframe tbody tr th:only-of-type {\n",
              "        vertical-align: middle;\n",
              "    }\n",
              "\n",
              "    .dataframe tbody tr th {\n",
              "        vertical-align: top;\n",
              "    }\n",
              "\n",
              "    .dataframe thead th {\n",
              "        text-align: right;\n",
              "    }\n",
              "</style>\n",
              "<table border=\"1\" class=\"dataframe\">\n",
              "  <thead>\n",
              "    <tr style=\"text-align: right;\">\n",
              "      <th></th>\n",
              "      <th>homeid</th>\n",
              "      <th>food</th>\n",
              "      <th>water</th>\n",
              "      <th>heating</th>\n",
              "      <th>other</th>\n",
              "      <th>floorarea</th>\n",
              "    </tr>\n",
              "  </thead>\n",
              "  <tbody>\n",
              "    <tr>\n",
              "      <th>0</th>\n",
              "      <td>47</td>\n",
              "      <td>9</td>\n",
              "      <td>5</td>\n",
              "      <td>0</td>\n",
              "      <td>0</td>\n",
              "      <td>427.0</td>\n",
              "    </tr>\n",
              "    <tr>\n",
              "      <th>1</th>\n",
              "      <td>55</td>\n",
              "      <td>11</td>\n",
              "      <td>2</td>\n",
              "      <td>0</td>\n",
              "      <td>0</td>\n",
              "      <td>NaN</td>\n",
              "    </tr>\n",
              "    <tr>\n",
              "      <th>2</th>\n",
              "      <td>59</td>\n",
              "      <td>10</td>\n",
              "      <td>0</td>\n",
              "      <td>0</td>\n",
              "      <td>0</td>\n",
              "      <td>760.0</td>\n",
              "    </tr>\n",
              "    <tr>\n",
              "      <th>3</th>\n",
              "      <td>61</td>\n",
              "      <td>9</td>\n",
              "      <td>6</td>\n",
              "      <td>1</td>\n",
              "      <td>1</td>\n",
              "      <td>685.0</td>\n",
              "    </tr>\n",
              "    <tr>\n",
              "      <th>4</th>\n",
              "      <td>62</td>\n",
              "      <td>15</td>\n",
              "      <td>5</td>\n",
              "      <td>0</td>\n",
              "      <td>1</td>\n",
              "      <td>815.0</td>\n",
              "    </tr>\n",
              "  </tbody>\n",
              "</table>\n",
              "</div>"
            ],
            "text/plain": [
              "   homeid  food  water  heating  other  floorarea\n",
              "0      47     9      5        0      0      427.0\n",
              "1      55    11      2        0      0        NaN\n",
              "2      59    10      0        0      0      760.0\n",
              "3      61     9      6        1      1      685.0\n",
              "4      62    15      5        0      1      815.0"
            ]
          },
          "metadata": {},
          "execution_count": 2
        }
      ]
    },
    {
      "cell_type": "code",
      "source": [
        "# write your code"
      ],
      "metadata": {
        "id": "CGOEJG0QMG4A"
      },
      "execution_count": null,
      "outputs": []
    },
    {
      "cell_type": "markdown",
      "source": [
        "# Data Cleaning"
      ],
      "metadata": {
        "id": "y7RU9kjYIJYw"
      }
    },
    {
      "cell_type": "code",
      "source": [
        "# write your code"
      ],
      "metadata": {
        "id": "7L7tstWlMHsP"
      },
      "execution_count": null,
      "outputs": []
    },
    {
      "cell_type": "markdown",
      "source": [
        "# EDA"
      ],
      "metadata": {
        "id": "UzrdOibPOU_Q"
      }
    },
    {
      "cell_type": "code",
      "source": [
        "# write your code"
      ],
      "metadata": {
        "id": "iLPH_CV2MK2-"
      },
      "execution_count": null,
      "outputs": []
    },
    {
      "cell_type": "markdown",
      "source": [
        "# Linear Regression"
      ],
      "metadata": {
        "id": "3_4aTEYSJ2u1"
      }
    },
    {
      "cell_type": "code",
      "source": [
        "# write your code"
      ],
      "metadata": {
        "id": "30O12ZtcML5G"
      },
      "execution_count": null,
      "outputs": []
    }
  ]
}