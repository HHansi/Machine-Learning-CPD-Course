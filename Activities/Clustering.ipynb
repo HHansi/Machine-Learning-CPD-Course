{
  "nbformat": 4,
  "nbformat_minor": 0,
  "metadata": {
    "colab": {
      "name": "Clustering.ipynb",
      "provenance": [],
      "collapsed_sections": [],
      "toc_visible": true,
      "authorship_tag": "ABX9TyOsr3L0fC4PwPBUZwjbSp8q",
      "include_colab_link": true
    },
    "kernelspec": {
      "name": "python3",
      "display_name": "Python 3"
    },
    "language_info": {
      "name": "python"
    }
  },
  "cells": [
    {
      "cell_type": "markdown",
      "metadata": {
        "id": "view-in-github",
        "colab_type": "text"
      },
      "source": [
        "<a href=\"https://colab.research.google.com/github/HHansi/Machine-Learning-CPD-Course/blob/activities/Activities/Clustering.ipynb\" target=\"_parent\"><img src=\"https://colab.research.google.com/assets/colab-badge.svg\" alt=\"Open In Colab\"/></a>"
      ]
    },
    {
      "cell_type": "markdown",
      "source": [
        "# Problem\n",
        "\n",
        "**What categories can be recognised from electricity charges?**\n",
        "\n",
        "1.   Load tariff.csv into a DataFrame.\n",
        "2.   Clean and visualise data using appropriate techniques.\n",
        "3.   Recognise optimum clusters of electricity charges using K-means algorithm.\n",
        "4.   Analyse the properties of each cluster and name the clusters.\n",
        "5.   Report your findings.\n",
        "\n"
      ],
      "metadata": {
        "id": "RvB6Mf4sxM9N"
      }
    },
    {
      "cell_type": "markdown",
      "source": [
        "## Description of the Data Set\n",
        "tariff.csv data set consists of 6 columns describing the energy consumption by different houses. \n",
        "\n",
        "\n",
        "*   homeid - unique id assigned to each home\n",
        "*   notification_date - date of notification\n",
        "*   provenancedetail - provenance tag/name\n",
        "*   energytype\t- type of energy\n",
        "*   daily_standing_charge_pence\n",
        "*   unit_charge_pence_per_kwh\n",
        "\n",
        "\n",
        "(This data set is taken from [IDEAL Household Energy Dataset](https://datashare.ed.ac.uk/handle/10283/3647).)"
      ],
      "metadata": {
        "id": "aIqJYX4yau28"
      }
    },
    {
      "cell_type": "markdown",
      "source": [
        "# Libraries"
      ],
      "metadata": {
        "id": "a1IVy-2vyPJz"
      }
    },
    {
      "cell_type": "code",
      "source": [
        "# Import libraries\n",
        "import numpy as np\n",
        "import pandas as pd\n",
        "import matplotlib.pyplot as plt\n",
        "import seaborn as sns\n",
        "from sklearn.cluster import KMeans"
      ],
      "metadata": {
        "id": "QmJkCBk1xq9n"
      },
      "execution_count": null,
      "outputs": []
    },
    {
      "cell_type": "markdown",
      "source": [
        "# Load Data"
      ],
      "metadata": {
        "id": "WtmbVUSEyRDD"
      }
    },
    {
      "cell_type": "code",
      "source": [
        "# Load the data set\n",
        "df = pd.read_csv(\"https://raw.githubusercontent.com/HHansi/Machine-Learning-CPD-Course/main/Data/tariff.csv\")\n",
        "df.head(5)"
      ],
      "metadata": {
        "colab": {
          "base_uri": "https://localhost:8080/",
          "height": 206
        },
        "id": "4vuaWHm5yMA3",
        "outputId": "2cb0a520-d03e-4637-b8a2-5ed899f8710b"
      },
      "execution_count": null,
      "outputs": [
        {
          "output_type": "execute_result",
          "data": {
            "text/html": [
              "<div>\n",
              "<style scoped>\n",
              "    .dataframe tbody tr th:only-of-type {\n",
              "        vertical-align: middle;\n",
              "    }\n",
              "\n",
              "    .dataframe tbody tr th {\n",
              "        vertical-align: top;\n",
              "    }\n",
              "\n",
              "    .dataframe thead th {\n",
              "        text-align: right;\n",
              "    }\n",
              "</style>\n",
              "<table border=\"1\" class=\"dataframe\">\n",
              "  <thead>\n",
              "    <tr style=\"text-align: right;\">\n",
              "      <th></th>\n",
              "      <th>homeid</th>\n",
              "      <th>notification_date</th>\n",
              "      <th>provenancedetail</th>\n",
              "      <th>energytype</th>\n",
              "      <th>daily_standing_charge_pence</th>\n",
              "      <th>unit_charge_pence_per_kwh</th>\n",
              "    </tr>\n",
              "  </thead>\n",
              "  <tbody>\n",
              "    <tr>\n",
              "      <th>0</th>\n",
              "      <td>167</td>\n",
              "      <td>8/25/2016</td>\n",
              "      <td>primary_facetoface_initial</td>\n",
              "      <td>electricity</td>\n",
              "      <td>23.02</td>\n",
              "      <td>NaN</td>\n",
              "    </tr>\n",
              "    <tr>\n",
              "      <th>1</th>\n",
              "      <td>62</td>\n",
              "      <td>8/26/2016</td>\n",
              "      <td>primary_facetoface_initial</td>\n",
              "      <td>electricity</td>\n",
              "      <td>31.31</td>\n",
              "      <td>NaN</td>\n",
              "    </tr>\n",
              "    <tr>\n",
              "      <th>2</th>\n",
              "      <td>62</td>\n",
              "      <td>8/26/2016</td>\n",
              "      <td>primary_facetoface_initial</td>\n",
              "      <td>gas</td>\n",
              "      <td>24.74</td>\n",
              "      <td>NaN</td>\n",
              "    </tr>\n",
              "    <tr>\n",
              "      <th>3</th>\n",
              "      <td>61</td>\n",
              "      <td>10/6/2016</td>\n",
              "      <td>primary_facetoface_initial</td>\n",
              "      <td>electricity</td>\n",
              "      <td>0.33</td>\n",
              "      <td>0.12</td>\n",
              "    </tr>\n",
              "    <tr>\n",
              "      <th>4</th>\n",
              "      <td>61</td>\n",
              "      <td>10/6/2016</td>\n",
              "      <td>primary_facetoface_initial</td>\n",
              "      <td>gas</td>\n",
              "      <td>0.30</td>\n",
              "      <td>0.33</td>\n",
              "    </tr>\n",
              "  </tbody>\n",
              "</table>\n",
              "</div>"
            ],
            "text/plain": [
              "   homeid  ... unit_charge_pence_per_kwh\n",
              "0     167  ...                       NaN\n",
              "1      62  ...                       NaN\n",
              "2      62  ...                       NaN\n",
              "3      61  ...                      0.12\n",
              "4      61  ...                      0.33\n",
              "\n",
              "[5 rows x 6 columns]"
            ]
          },
          "metadata": {},
          "execution_count": 2
        }
      ]
    },
    {
      "cell_type": "code",
      "source": [
        "df.info()"
      ],
      "metadata": {
        "colab": {
          "base_uri": "https://localhost:8080/"
        },
        "id": "NkMllqDRyTF_",
        "outputId": "de7e873b-941e-463f-b5e6-c90e27fdbd78"
      },
      "execution_count": null,
      "outputs": [
        {
          "output_type": "stream",
          "name": "stdout",
          "text": [
            "<class 'pandas.core.frame.DataFrame'>\n",
            "RangeIndex: 565 entries, 0 to 564\n",
            "Data columns (total 6 columns):\n",
            " #   Column                       Non-Null Count  Dtype  \n",
            "---  ------                       --------------  -----  \n",
            " 0   homeid                       565 non-null    int64  \n",
            " 1   notification_date            565 non-null    object \n",
            " 2   provenancedetail             565 non-null    object \n",
            " 3   energytype                   565 non-null    object \n",
            " 4   daily_standing_charge_pence  559 non-null    float64\n",
            " 5   unit_charge_pence_per_kwh    545 non-null    float64\n",
            "dtypes: float64(2), int64(1), object(3)\n",
            "memory usage: 26.6+ KB\n"
          ]
        }
      ]
    },
    {
      "cell_type": "code",
      "source": [
        "df.shape"
      ],
      "metadata": {
        "colab": {
          "base_uri": "https://localhost:8080/"
        },
        "id": "zatk1zsmyfyt",
        "outputId": "ba5b68c5-0833-42ad-c519-bd41b049f7f5"
      },
      "execution_count": null,
      "outputs": [
        {
          "output_type": "execute_result",
          "data": {
            "text/plain": [
              "(565, 6)"
            ]
          },
          "metadata": {},
          "execution_count": 4
        }
      ]
    },
    {
      "cell_type": "code",
      "source": [
        "# Find if the data set contains Null/NaN values\n",
        "df.isna().sum()"
      ],
      "metadata": {
        "colab": {
          "base_uri": "https://localhost:8080/"
        },
        "id": "gkAb5K85Io8g",
        "outputId": "dce0c7cb-97a0-40ef-ee5e-1ec2ab48eb34"
      },
      "execution_count": null,
      "outputs": [
        {
          "output_type": "execute_result",
          "data": {
            "text/plain": [
              "homeid                          0\n",
              "notification_date               0\n",
              "provenancedetail                0\n",
              "energytype                      0\n",
              "daily_standing_charge_pence     6\n",
              "unit_charge_pence_per_kwh      20\n",
              "dtype: int64"
            ]
          },
          "metadata": {},
          "execution_count": 5
        }
      ]
    },
    {
      "cell_type": "markdown",
      "source": [
        "# Data Cleaning"
      ],
      "metadata": {
        "id": "A4642rr4yiiE"
      }
    },
    {
      "cell_type": "code",
      "source": [
        "# Select important columns\n",
        "filtered_df = df[['homeid', 'energytype', 'daily_standing_charge_pence']]\n",
        "filtered_df.head(5)"
      ],
      "metadata": {
        "colab": {
          "base_uri": "https://localhost:8080/",
          "height": 206
        },
        "id": "0R_BGkb2yj3l",
        "outputId": "d424d2c4-81dc-415f-b05f-d581f5df4f9c"
      },
      "execution_count": null,
      "outputs": [
        {
          "output_type": "execute_result",
          "data": {
            "text/html": [
              "<div>\n",
              "<style scoped>\n",
              "    .dataframe tbody tr th:only-of-type {\n",
              "        vertical-align: middle;\n",
              "    }\n",
              "\n",
              "    .dataframe tbody tr th {\n",
              "        vertical-align: top;\n",
              "    }\n",
              "\n",
              "    .dataframe thead th {\n",
              "        text-align: right;\n",
              "    }\n",
              "</style>\n",
              "<table border=\"1\" class=\"dataframe\">\n",
              "  <thead>\n",
              "    <tr style=\"text-align: right;\">\n",
              "      <th></th>\n",
              "      <th>homeid</th>\n",
              "      <th>energytype</th>\n",
              "      <th>daily_standing_charge_pence</th>\n",
              "    </tr>\n",
              "  </thead>\n",
              "  <tbody>\n",
              "    <tr>\n",
              "      <th>0</th>\n",
              "      <td>167</td>\n",
              "      <td>electricity</td>\n",
              "      <td>23.02</td>\n",
              "    </tr>\n",
              "    <tr>\n",
              "      <th>1</th>\n",
              "      <td>62</td>\n",
              "      <td>electricity</td>\n",
              "      <td>31.31</td>\n",
              "    </tr>\n",
              "    <tr>\n",
              "      <th>2</th>\n",
              "      <td>62</td>\n",
              "      <td>gas</td>\n",
              "      <td>24.74</td>\n",
              "    </tr>\n",
              "    <tr>\n",
              "      <th>3</th>\n",
              "      <td>61</td>\n",
              "      <td>electricity</td>\n",
              "      <td>0.33</td>\n",
              "    </tr>\n",
              "    <tr>\n",
              "      <th>4</th>\n",
              "      <td>61</td>\n",
              "      <td>gas</td>\n",
              "      <td>0.30</td>\n",
              "    </tr>\n",
              "  </tbody>\n",
              "</table>\n",
              "</div>"
            ],
            "text/plain": [
              "   homeid   energytype  daily_standing_charge_pence\n",
              "0     167  electricity                        23.02\n",
              "1      62  electricity                        31.31\n",
              "2      62          gas                        24.74\n",
              "3      61  electricity                         0.33\n",
              "4      61          gas                         0.30"
            ]
          },
          "metadata": {},
          "execution_count": 6
        }
      ]
    },
    {
      "cell_type": "code",
      "source": [
        "# filter rows of energytype = electricity\n",
        "df_electricity = filtered_df.loc[df['energytype'] == 'electricity']\n",
        "print(df_electricity.shape)\n",
        "df_electricity.head(5)"
      ],
      "metadata": {
        "colab": {
          "base_uri": "https://localhost:8080/",
          "height": 223
        },
        "id": "EcjAilDhyn6e",
        "outputId": "be801584-f205-495d-fd80-4bc0f004dd3c"
      },
      "execution_count": null,
      "outputs": [
        {
          "output_type": "stream",
          "name": "stdout",
          "text": [
            "(281, 3)\n"
          ]
        },
        {
          "output_type": "execute_result",
          "data": {
            "text/html": [
              "<div>\n",
              "<style scoped>\n",
              "    .dataframe tbody tr th:only-of-type {\n",
              "        vertical-align: middle;\n",
              "    }\n",
              "\n",
              "    .dataframe tbody tr th {\n",
              "        vertical-align: top;\n",
              "    }\n",
              "\n",
              "    .dataframe thead th {\n",
              "        text-align: right;\n",
              "    }\n",
              "</style>\n",
              "<table border=\"1\" class=\"dataframe\">\n",
              "  <thead>\n",
              "    <tr style=\"text-align: right;\">\n",
              "      <th></th>\n",
              "      <th>homeid</th>\n",
              "      <th>energytype</th>\n",
              "      <th>daily_standing_charge_pence</th>\n",
              "    </tr>\n",
              "  </thead>\n",
              "  <tbody>\n",
              "    <tr>\n",
              "      <th>0</th>\n",
              "      <td>167</td>\n",
              "      <td>electricity</td>\n",
              "      <td>23.02</td>\n",
              "    </tr>\n",
              "    <tr>\n",
              "      <th>1</th>\n",
              "      <td>62</td>\n",
              "      <td>electricity</td>\n",
              "      <td>31.31</td>\n",
              "    </tr>\n",
              "    <tr>\n",
              "      <th>3</th>\n",
              "      <td>61</td>\n",
              "      <td>electricity</td>\n",
              "      <td>0.33</td>\n",
              "    </tr>\n",
              "    <tr>\n",
              "      <th>5</th>\n",
              "      <td>64</td>\n",
              "      <td>electricity</td>\n",
              "      <td>26.02</td>\n",
              "    </tr>\n",
              "    <tr>\n",
              "      <th>6</th>\n",
              "      <td>64</td>\n",
              "      <td>electricity</td>\n",
              "      <td>26.00</td>\n",
              "    </tr>\n",
              "  </tbody>\n",
              "</table>\n",
              "</div>"
            ],
            "text/plain": [
              "   homeid   energytype  daily_standing_charge_pence\n",
              "0     167  electricity                        23.02\n",
              "1      62  electricity                        31.31\n",
              "3      61  electricity                         0.33\n",
              "5      64  electricity                        26.02\n",
              "6      64  electricity                        26.00"
            ]
          },
          "metadata": {},
          "execution_count": 7
        }
      ]
    },
    {
      "cell_type": "code",
      "source": [
        "# remove rows and columns with Null/NaN values.\n",
        "cleaned_df_electricity = df_electricity.dropna()\n",
        "cleaned_df_electricity.shape"
      ],
      "metadata": {
        "colab": {
          "base_uri": "https://localhost:8080/"
        },
        "id": "f0igpsVoy3WW",
        "outputId": "c8d2d8c3-4ac1-4b37-8949-613144f29367"
      },
      "execution_count": null,
      "outputs": [
        {
          "output_type": "execute_result",
          "data": {
            "text/plain": [
              "(278, 3)"
            ]
          },
          "metadata": {},
          "execution_count": 8
        }
      ]
    },
    {
      "cell_type": "code",
      "source": [
        "# remove zeros\n",
        "cleaned_df_electricity = cleaned_df_electricity.loc[df['daily_standing_charge_pence'] != 0]\n",
        "cleaned_df_electricity.shape"
      ],
      "metadata": {
        "colab": {
          "base_uri": "https://localhost:8080/"
        },
        "id": "25ab9welzTJa",
        "outputId": "ae6b975e-6bdc-4ef3-d5b4-32e2ce6979b1"
      },
      "execution_count": null,
      "outputs": [
        {
          "output_type": "execute_result",
          "data": {
            "text/plain": [
              "(261, 3)"
            ]
          },
          "metadata": {},
          "execution_count": 9
        }
      ]
    },
    {
      "cell_type": "code",
      "source": [
        "cleaned_df_electricity.describe()"
      ],
      "metadata": {
        "colab": {
          "base_uri": "https://localhost:8080/",
          "height": 300
        },
        "id": "XNtA10HAzX4J",
        "outputId": "66a40bab-9848-4619-9914-93bda717675a"
      },
      "execution_count": null,
      "outputs": [
        {
          "output_type": "execute_result",
          "data": {
            "text/html": [
              "<div>\n",
              "<style scoped>\n",
              "    .dataframe tbody tr th:only-of-type {\n",
              "        vertical-align: middle;\n",
              "    }\n",
              "\n",
              "    .dataframe tbody tr th {\n",
              "        vertical-align: top;\n",
              "    }\n",
              "\n",
              "    .dataframe thead th {\n",
              "        text-align: right;\n",
              "    }\n",
              "</style>\n",
              "<table border=\"1\" class=\"dataframe\">\n",
              "  <thead>\n",
              "    <tr style=\"text-align: right;\">\n",
              "      <th></th>\n",
              "      <th>homeid</th>\n",
              "      <th>daily_standing_charge_pence</th>\n",
              "    </tr>\n",
              "  </thead>\n",
              "  <tbody>\n",
              "    <tr>\n",
              "      <th>count</th>\n",
              "      <td>261.000000</td>\n",
              "      <td>261.000000</td>\n",
              "    </tr>\n",
              "    <tr>\n",
              "      <th>mean</th>\n",
              "      <td>181.371648</td>\n",
              "      <td>21.765556</td>\n",
              "    </tr>\n",
              "    <tr>\n",
              "      <th>std</th>\n",
              "      <td>74.450989</td>\n",
              "      <td>7.596207</td>\n",
              "    </tr>\n",
              "    <tr>\n",
              "      <th>min</th>\n",
              "      <td>61.000000</td>\n",
              "      <td>0.130000</td>\n",
              "    </tr>\n",
              "    <tr>\n",
              "      <th>25%</th>\n",
              "      <td>114.000000</td>\n",
              "      <td>16.000000</td>\n",
              "    </tr>\n",
              "    <tr>\n",
              "      <th>50%</th>\n",
              "      <td>177.000000</td>\n",
              "      <td>21.000000</td>\n",
              "    </tr>\n",
              "    <tr>\n",
              "      <th>75%</th>\n",
              "      <td>246.000000</td>\n",
              "      <td>26.000000</td>\n",
              "    </tr>\n",
              "    <tr>\n",
              "      <th>max</th>\n",
              "      <td>335.000000</td>\n",
              "      <td>58.000000</td>\n",
              "    </tr>\n",
              "  </tbody>\n",
              "</table>\n",
              "</div>"
            ],
            "text/plain": [
              "           homeid  daily_standing_charge_pence\n",
              "count  261.000000                   261.000000\n",
              "mean   181.371648                    21.765556\n",
              "std     74.450989                     7.596207\n",
              "min     61.000000                     0.130000\n",
              "25%    114.000000                    16.000000\n",
              "50%    177.000000                    21.000000\n",
              "75%    246.000000                    26.000000\n",
              "max    335.000000                    58.000000"
            ]
          },
          "metadata": {},
          "execution_count": 10
        }
      ]
    },
    {
      "cell_type": "markdown",
      "source": [
        "# EDA"
      ],
      "metadata": {
        "id": "ODVYgMn3ziGj"
      }
    },
    {
      "cell_type": "code",
      "source": [
        "sns.histplot(data=cleaned_df_electricity, x='daily_standing_charge_pence', binwidth=2.5)\n",
        "\n",
        "plt.show()"
      ],
      "metadata": {
        "colab": {
          "base_uri": "https://localhost:8080/",
          "height": 280
        },
        "id": "-B0RXHyOzjKU",
        "outputId": "741d0609-c692-44b0-cde0-035ed7f3ecf1"
      },
      "execution_count": null,
      "outputs": [
        {
          "output_type": "display_data",
          "data": {
            "image/png": "[encoded data removed]",
            "text/plain": [
              "<Figure size 432x288 with 1 Axes>"
            ]
          },
          "metadata": {
            "needs_background": "light"
          }
        }
      ]
    },
    {
      "cell_type": "markdown",
      "source": [
        "# K-means clustering"
      ],
      "metadata": {
        "id": "RIzpZiWXz_CU"
      }
    },
    {
      "cell_type": "code",
      "source": [
        "# To train K-means model, as the input, we need provide X: array-like/sparse matrix of shape (n_samples, n_features).\n",
        "x = np.array(cleaned_df_electricity['daily_standing_charge_pence']).reshape(-1,1)\n",
        "x.shape"
      ],
      "metadata": {
        "colab": {
          "base_uri": "https://localhost:8080/"
        },
        "id": "hSWhJ5j_0Il2",
        "outputId": "5c7695c9-eda7-4ec5-fee3-ba22552f467b"
      },
      "execution_count": null,
      "outputs": [
        {
          "output_type": "execute_result",
          "data": {
            "text/plain": [
              "(261, 1)"
            ]
          },
          "metadata": {},
          "execution_count": 12
        }
      ]
    },
    {
      "cell_type": "markdown",
      "source": [
        "## Elbow Method"
      ],
      "metadata": {
        "id": "rAmkWQsq0Ccg"
      }
    },
    {
      "cell_type": "code",
      "source": [
        "wcss = []\n",
        "\n",
        "for i in range(1, 11):\n",
        "    kmeans = KMeans(n_clusters = i, init = 'k-means++', random_state=1234)\n",
        "    kmeans.fit(x)\n",
        "    wcss.append(kmeans.inertia_)  # get within cluster sum of squares (squared distances)\n",
        "    \n",
        "# Plot the results onto a line graph, allowing us to observe 'The elbow'\n",
        "plt.plot(range(1, 11), wcss)\n",
        "plt.title('The elbow method')\n",
        "plt.xlabel('Number of clusters')\n",
        "plt.ylabel('WCSS')\n",
        "plt.show()"
      ],
      "metadata": {
        "colab": {
          "base_uri": "https://localhost:8080/",
          "height": 295
        },
        "id": "gXRonw8k0F7W",
        "outputId": "e8558005-e3ec-4171-dae4-5cd46421e27e"
      },
      "execution_count": null,
      "outputs": [
        {
          "output_type": "display_data",
          "data": {
            "image/png": "[encoded data removed]",
            "text/plain": [
              "<Figure size 432x288 with 1 Axes>"
            ]
          },
          "metadata": {
            "needs_background": "light"
          }
        }
      ]
    },
    {
      "cell_type": "markdown",
      "source": [
        "According to Elbow method, optimal k=5."
      ],
      "metadata": {
        "id": "aMJP42SQ1qb0"
      }
    },
    {
      "cell_type": "markdown",
      "source": [
        "## Optimal Clusters"
      ],
      "metadata": {
        "id": "GK7zft2P14dY"
      }
    },
    {
      "cell_type": "code",
      "source": [
        "kmeans = KMeans(n_clusters=5, random_state=1234)  # create an instance of the class KMeans, giving number of clusters and random state as parameters\n",
        "kmeans.fit(x)  # train model \n",
        " \n",
        "# predict assigned cluster labels\n",
        "labels = kmeans.predict(x)\n",
        "print(f'predicted clusters:\\n {labels}\\n')\n",
        "\n",
        "# get cluster centroids\n",
        "centroids = kmeans.cluster_centers_\n",
        "print(f'cluster centroids:\\n {centroids}\\n')\n",
        "\n",
        "fig = plt.figure(figsize=(8, 6))\n",
        "colors = ['b', 'g', 'r', 'y', 'm']\n",
        "\n",
        "# plot data points\n",
        "for i in range(len(x)):\n",
        "  plt.plot(i, x[i], color=colors[labels[i]], marker='o', alpha=0.3)\n",
        "\n",
        "# plot centroids\n",
        "for n, y in enumerate(centroids):\n",
        "  plt.plot(len(x)/2, y, marker='^', color=colors[n], ms=10)\n",
        "\n",
        "plt.xlabel(\"index\")\n",
        "plt.ylabel(\"daily_standing_charge_pence\")\n",
        "  \n",
        "plt.show()"
      ],
      "metadata": {
        "colab": {
          "base_uri": "https://localhost:8080/",
          "height": 683
        },
        "id": "EA38I4xQ1y6y",
        "outputId": "5c874b51-3426-4471-c1c6-088b11d36171"
      },
      "execution_count": null,
      "outputs": [
        {
          "output_type": "stream",
          "name": "stdout",
          "text": [
            "predicted clusters:\n",
            " [2 0 3 2 2 1 3 1 1 1 2 2 2 2 3 1 1 1 1 1 1 3 1 1 1 2 2 2 2 2 2 0 0 1 1 2 1\n",
            " 1 1 1 3 1 3 1 1 1 2 2 2 2 1 2 1 1 1 1 1 1 1 1 3 3 1 2 2 2 3 2 2 2 2 2 2 1\n",
            " 1 1 1 3 1 2 1 3 2 1 1 2 2 2 2 2 1 1 2 1 1 2 1 1 2 1 0 0 1 0 0 2 2 1 1 4 4\n",
            " 1 1 2 1 1 2 2 2 2 2 1 1 1 1 1 1 1 2 1 2 0 0 1 1 2 2 0 1 2 2 2 0 2 1 2 2 2\n",
            " 1 1 2 1 2 1 2 2 1 1 1 1 1 2 2 1 3 2 1 2 2 2 2 1 3 2 2 0 1 1 1 1 1 1 1 2 1\n",
            " 1 3 2 2 1 1 2 2 2 1 1 1 1 2 2 0 0 1 2 2 2 2 1 2 1 2 2 1 1 2 1 2 2 1 2 2 2\n",
            " 1 1 1 2 2 1 2 2 2 1 1 2 1 2 1 1 2 3 2 2 2 0 2 2 2 2 1 1 1 2 1 1 2 1 0 2 1\n",
            " 2 1]\n",
            "\n",
            "cluster centroids:\n",
            " [[35.938125  ]\n",
            " [17.16771186]\n",
            " [26.01645455]\n",
            " [ 6.81333333]\n",
            " [58.        ]]\n",
            "\n"
          ]
        },
        {
          "output_type": "display_data",
          "data": {
            "image/png": "[encoded data removed]",
            "text/plain": [
              "<Figure size 576x432 with 1 Axes>"
            ]
          },
          "metadata": {
            "needs_background": "light"
          }
        }
      ]
    },
    {
      "cell_type": "code",
      "source": [
        "# replace cluster IDs by names\n",
        "conditions = [labels==0, labels==1, labels==2, labels==3, labels==4]\n",
        "choice = ['high', 'low', 'mid', 'very low', 'very high']\n",
        "\n",
        "label_names = np.select(conditions, choice)\n",
        "print(label_names)"
      ],
      "metadata": {
        "colab": {
          "base_uri": "https://localhost:8080/"
        },
        "id": "IK1cYndS2x44",
        "outputId": "cabc485b-8fcf-4c65-f0b1-e44f1b9e27ad"
      },
      "execution_count": null,
      "outputs": [
        {
          "output_type": "stream",
          "name": "stdout",
          "text": [
            "['mid' 'high' 'very low' 'mid' 'mid' 'low' 'very low' 'low' 'low' 'low'\n",
            " 'mid' 'mid' 'mid' 'mid' 'very low' 'low' 'low' 'low' 'low' 'low' 'low'\n",
            " 'very low' 'low' 'low' 'low' 'mid' 'mid' 'mid' 'mid' 'mid' 'mid' 'high'\n",
            " 'high' 'low' 'low' 'mid' 'low' 'low' 'low' 'low' 'very low' 'low'\n",
            " 'very low' 'low' 'low' 'low' 'mid' 'mid' 'mid' 'mid' 'low' 'mid' 'low'\n",
            " 'low' 'low' 'low' 'low' 'low' 'low' 'low' 'very low' 'very low' 'low'\n",
            " 'mid' 'mid' 'mid' 'very low' 'mid' 'mid' 'mid' 'mid' 'mid' 'mid' 'low'\n",
            " 'low' 'low' 'low' 'very low' 'low' 'mid' 'low' 'very low' 'mid' 'low'\n",
            " 'low' 'mid' 'mid' 'mid' 'mid' 'mid' 'low' 'low' 'mid' 'low' 'low' 'mid'\n",
            " 'low' 'low' 'mid' 'low' 'high' 'high' 'low' 'high' 'high' 'mid' 'mid'\n",
            " 'low' 'low' 'very high' 'very high' 'low' 'low' 'mid' 'low' 'low' 'mid'\n",
            " 'mid' 'mid' 'mid' 'mid' 'low' 'low' 'low' 'low' 'low' 'low' 'low' 'mid'\n",
            " 'low' 'mid' 'high' 'high' 'low' 'low' 'mid' 'mid' 'high' 'low' 'mid'\n",
            " 'mid' 'mid' 'high' 'mid' 'low' 'mid' 'mid' 'mid' 'low' 'low' 'mid' 'low'\n",
            " 'mid' 'low' 'mid' 'mid' 'low' 'low' 'low' 'low' 'low' 'mid' 'mid' 'low'\n",
            " 'very low' 'mid' 'low' 'mid' 'mid' 'mid' 'mid' 'low' 'very low' 'mid'\n",
            " 'mid' 'high' 'low' 'low' 'low' 'low' 'low' 'low' 'low' 'mid' 'low' 'low'\n",
            " 'very low' 'mid' 'mid' 'low' 'low' 'mid' 'mid' 'mid' 'low' 'low' 'low'\n",
            " 'low' 'mid' 'mid' 'high' 'high' 'low' 'mid' 'mid' 'mid' 'mid' 'low' 'mid'\n",
            " 'low' 'mid' 'mid' 'low' 'low' 'mid' 'low' 'mid' 'mid' 'low' 'mid' 'mid'\n",
            " 'mid' 'low' 'low' 'low' 'mid' 'mid' 'low' 'mid' 'mid' 'mid' 'low' 'low'\n",
            " 'mid' 'low' 'mid' 'low' 'low' 'mid' 'very low' 'mid' 'mid' 'mid' 'high'\n",
            " 'mid' 'mid' 'mid' 'mid' 'low' 'low' 'low' 'mid' 'low' 'low' 'mid' 'low'\n",
            " 'high' 'mid' 'low' 'mid' 'low']\n"
          ]
        }
      ]
    },
    {
      "cell_type": "code",
      "source": [
        "# update DataFrame with clusters column\n",
        "cleaned_df_electricity['clusters'] = label_names\n",
        "cleaned_df_electricity.head(5)"
      ],
      "metadata": {
        "colab": {
          "base_uri": "https://localhost:8080/",
          "height": 206
        },
        "id": "crNxajBl3aUl",
        "outputId": "e7e88d62-fcc2-4dbc-b048-e7f592bd942a"
      },
      "execution_count": null,
      "outputs": [
        {
          "output_type": "execute_result",
          "data": {
            "text/html": [
              "<div>\n",
              "<style scoped>\n",
              "    .dataframe tbody tr th:only-of-type {\n",
              "        vertical-align: middle;\n",
              "    }\n",
              "\n",
              "    .dataframe tbody tr th {\n",
              "        vertical-align: top;\n",
              "    }\n",
              "\n",
              "    .dataframe thead th {\n",
              "        text-align: right;\n",
              "    }\n",
              "</style>\n",
              "<table border=\"1\" class=\"dataframe\">\n",
              "  <thead>\n",
              "    <tr style=\"text-align: right;\">\n",
              "      <th></th>\n",
              "      <th>homeid</th>\n",
              "      <th>energytype</th>\n",
              "      <th>daily_standing_charge_pence</th>\n",
              "      <th>clusters</th>\n",
              "    </tr>\n",
              "  </thead>\n",
              "  <tbody>\n",
              "    <tr>\n",
              "      <th>0</th>\n",
              "      <td>167</td>\n",
              "      <td>electricity</td>\n",
              "      <td>23.02</td>\n",
              "      <td>mid</td>\n",
              "    </tr>\n",
              "    <tr>\n",
              "      <th>1</th>\n",
              "      <td>62</td>\n",
              "      <td>electricity</td>\n",
              "      <td>31.31</td>\n",
              "      <td>high</td>\n",
              "    </tr>\n",
              "    <tr>\n",
              "      <th>3</th>\n",
              "      <td>61</td>\n",
              "      <td>electricity</td>\n",
              "      <td>0.33</td>\n",
              "      <td>very low</td>\n",
              "    </tr>\n",
              "    <tr>\n",
              "      <th>5</th>\n",
              "      <td>64</td>\n",
              "      <td>electricity</td>\n",
              "      <td>26.02</td>\n",
              "      <td>mid</td>\n",
              "    </tr>\n",
              "    <tr>\n",
              "      <th>6</th>\n",
              "      <td>64</td>\n",
              "      <td>electricity</td>\n",
              "      <td>26.00</td>\n",
              "      <td>mid</td>\n",
              "    </tr>\n",
              "  </tbody>\n",
              "</table>\n",
              "</div>"
            ],
            "text/plain": [
              "   homeid   energytype  daily_standing_charge_pence  clusters\n",
              "0     167  electricity                        23.02       mid\n",
              "1      62  electricity                        31.31      high\n",
              "3      61  electricity                         0.33  very low\n",
              "5      64  electricity                        26.02       mid\n",
              "6      64  electricity                        26.00       mid"
            ]
          },
          "metadata": {},
          "execution_count": 16
        }
      ]
    },
    {
      "cell_type": "code",
      "source": [
        "# save updated DataFrame\n",
        "cleaned_df_electricity.to_csv(\"/content/tariff_electricity_clusters.csv\", index=False)"
      ],
      "metadata": {
        "id": "PubPRvwv3iyE"
      },
      "execution_count": null,
      "outputs": []
    }
  ]
}