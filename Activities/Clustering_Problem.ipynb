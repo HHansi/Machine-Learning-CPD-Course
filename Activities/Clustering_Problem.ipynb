{
  "nbformat": 4,
  "nbformat_minor": 0,
  "metadata": {
    "colab": {
      "name": "Clustering Problem.ipynb",
      "provenance": [],
      "collapsed_sections": [],
      "toc_visible": true,
      "authorship_tag": "ABX9TyNgByZt/YD2r1yRzsx0nwGZ",
      "include_colab_link": true
    },
    "kernelspec": {
      "name": "python3",
      "display_name": "Python 3"
    },
    "language_info": {
      "name": "python"
    }
  },
  "cells": [
    {
      "cell_type": "markdown",
      "metadata": {
        "id": "view-in-github",
        "colab_type": "text"
      },
      "source": [
        "<a href=\"https://colab.research.google.com/github/HHansi/Machine-Learning-CPD-Course/blob/main/Activities/Clustering_Problem.ipynb\" target=\"_parent\"><img src=\"https://colab.research.google.com/assets/colab-badge.svg\" alt=\"Open In Colab\"/></a>"
      ]
    },
    {
      "cell_type": "markdown",
      "source": [
        "# Problem\n",
        "\n",
        "**What categories can be recognised from electricity charges?**\n",
        "\n",
        "1.   Load tariff.csv into a DataFrame.\n",
        "2.   Clean and visualise data using appropriate techniques.\n",
        "3.   Recognise optimum clusters of electricity charges using K-means algorithm.\n",
        "4.   Analyse the properties of each cluster and name the clusters.\n",
        "5.   Report your findings.\n",
        "\n"
      ],
      "metadata": {
        "id": "RvB6Mf4sxM9N"
      }
    },
    {
      "cell_type": "markdown",
      "source": [
        "## Description of the Data Set\n",
        "tariff.csv data set consists of 6 columns describing the energy consumption by different houses. \n",
        "\n",
        "\n",
        "*   homeid - unique id assigned to each home\n",
        "*   notification_date - date of notification\n",
        "*   provenancedetail - provenance tag/name\n",
        "*   energytype\t- type of energy\n",
        "*   daily_standing_charge_pence\n",
        "*   unit_charge_pence_per_kwh\n",
        "\n",
        "\n",
        "(This data set is taken from [IDEAL Household Energy Dataset](https://datashare.ed.ac.uk/handle/10283/3647).)"
      ],
      "metadata": {
        "id": "aIqJYX4yau28"
      }
    },
    {
      "cell_type": "markdown",
      "source": [
        "# Libraries"
      ],
      "metadata": {
        "id": "a1IVy-2vyPJz"
      }
    },
    {
      "cell_type": "code",
      "source": [
        "# Import libraries\n",
        "import numpy as np\n",
        "import pandas as pd\n",
        "import matplotlib.pyplot as plt\n",
        "import seaborn as sns\n",
        "from sklearn.cluster import KMeans"
      ],
      "metadata": {
        "id": "QmJkCBk1xq9n"
      },
      "execution_count": null,
      "outputs": []
    },
    {
      "cell_type": "markdown",
      "source": [
        "# Load Data"
      ],
      "metadata": {
        "id": "WtmbVUSEyRDD"
      }
    },
    {
      "cell_type": "code",
      "source": [
        "# Load the data set\n",
        "df = pd.read_csv(\"https://raw.githubusercontent.com/HHansi/Machine-Learning-CPD-Course/main/Data/tariff.csv\")\n",
        "df.head(5)"
      ],
      "metadata": {
        "colab": {
          "base_uri": "https://localhost:8080/",
          "height": 206
        },
        "id": "4vuaWHm5yMA3",
        "outputId": "2cb0a520-d03e-4637-b8a2-5ed899f8710b"
      },
      "execution_count": null,
      "outputs": [
        {
          "output_type": "execute_result",
          "data": {
            "text/html": [
              "<div>\n",
              "<style scoped>\n",
              "    .dataframe tbody tr th:only-of-type {\n",
              "        vertical-align: middle;\n",
              "    }\n",
              "\n",
              "    .dataframe tbody tr th {\n",
              "        vertical-align: top;\n",
              "    }\n",
              "\n",
              "    .dataframe thead th {\n",
              "        text-align: right;\n",
              "    }\n",
              "</style>\n",
              "<table border=\"1\" class=\"dataframe\">\n",
              "  <thead>\n",
              "    <tr style=\"text-align: right;\">\n",
              "      <th></th>\n",
              "      <th>homeid</th>\n",
              "      <th>notification_date</th>\n",
              "      <th>provenancedetail</th>\n",
              "      <th>energytype</th>\n",
              "      <th>daily_standing_charge_pence</th>\n",
              "      <th>unit_charge_pence_per_kwh</th>\n",
              "    </tr>\n",
              "  </thead>\n",
              "  <tbody>\n",
              "    <tr>\n",
              "      <th>0</th>\n",
              "      <td>167</td>\n",
              "      <td>8/25/2016</td>\n",
              "      <td>primary_facetoface_initial</td>\n",
              "      <td>electricity</td>\n",
              "      <td>23.02</td>\n",
              "      <td>NaN</td>\n",
              "    </tr>\n",
              "    <tr>\n",
              "      <th>1</th>\n",
              "      <td>62</td>\n",
              "      <td>8/26/2016</td>\n",
              "      <td>primary_facetoface_initial</td>\n",
              "      <td>electricity</td>\n",
              "      <td>31.31</td>\n",
              "      <td>NaN</td>\n",
              "    </tr>\n",
              "    <tr>\n",
              "      <th>2</th>\n",
              "      <td>62</td>\n",
              "      <td>8/26/2016</td>\n",
              "      <td>primary_facetoface_initial</td>\n",
              "      <td>gas</td>\n",
              "      <td>24.74</td>\n",
              "      <td>NaN</td>\n",
              "    </tr>\n",
              "    <tr>\n",
              "      <th>3</th>\n",
              "      <td>61</td>\n",
              "      <td>10/6/2016</td>\n",
              "      <td>primary_facetoface_initial</td>\n",
              "      <td>electricity</td>\n",
              "      <td>0.33</td>\n",
              "      <td>0.12</td>\n",
              "    </tr>\n",
              "    <tr>\n",
              "      <th>4</th>\n",
              "      <td>61</td>\n",
              "      <td>10/6/2016</td>\n",
              "      <td>primary_facetoface_initial</td>\n",
              "      <td>gas</td>\n",
              "      <td>0.30</td>\n",
              "      <td>0.33</td>\n",
              "    </tr>\n",
              "  </tbody>\n",
              "</table>\n",
              "</div>"
            ],
            "text/plain": [
              "   homeid  ... unit_charge_pence_per_kwh\n",
              "0     167  ...                       NaN\n",
              "1      62  ...                       NaN\n",
              "2      62  ...                       NaN\n",
              "3      61  ...                      0.12\n",
              "4      61  ...                      0.33\n",
              "\n",
              "[5 rows x 6 columns]"
            ]
          },
          "metadata": {},
          "execution_count": 2
        }
      ]
    },
    {
      "cell_type": "code",
      "source": [
        "# write your code"
      ],
      "metadata": {
        "id": "2AfY18V3H6Gw"
      },
      "execution_count": null,
      "outputs": []
    },
    {
      "cell_type": "markdown",
      "source": [
        "# Data Cleaning"
      ],
      "metadata": {
        "id": "A4642rr4yiiE"
      }
    },
    {
      "cell_type": "code",
      "source": [
        "# write your code"
      ],
      "metadata": {
        "id": "hYSAbeDvHFL9"
      },
      "execution_count": null,
      "outputs": []
    },
    {
      "cell_type": "markdown",
      "source": [
        "# EDA"
      ],
      "metadata": {
        "id": "ODVYgMn3ziGj"
      }
    },
    {
      "cell_type": "code",
      "source": [
        "# write your code"
      ],
      "metadata": {
        "id": "4M6kZ9GhHX_u"
      },
      "execution_count": null,
      "outputs": []
    },
    {
      "cell_type": "markdown",
      "source": [
        "# K-means clustering"
      ],
      "metadata": {
        "id": "RIzpZiWXz_CU"
      }
    },
    {
      "cell_type": "code",
      "source": [
        "# write your code"
      ],
      "metadata": {
        "id": "KBF0xoDAHd38"
      },
      "execution_count": null,
      "outputs": []
    }
  ]
}