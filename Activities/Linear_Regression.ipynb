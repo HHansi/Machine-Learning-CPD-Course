{
  "nbformat": 4,
  "nbformat_minor": 0,
  "metadata": {
    "colab": {
      "name": "Linear Regression.ipynb",
      "provenance": [],
      "collapsed_sections": [],
      "toc_visible": true,
      "authorship_tag": "ABX9TyOkyyd3Vao/A/csNa65qgSN",
      "include_colab_link": true
    },
    "kernelspec": {
      "name": "python3",
      "display_name": "Python 3"
    },
    "language_info": {
      "name": "python"
    }
  },
  "cells": [
    {
      "cell_type": "markdown",
      "metadata": {
        "id": "view-in-github",
        "colab_type": "text"
      },
      "source": [
        "<a href=\"https://colab.research.google.com/github/HHansi/Machine-Learning-CPD-Course/blob/activities/Activities/Linear_Regression.ipynb\" target=\"_parent\"><img src=\"https://colab.research.google.com/assets/colab-badge.svg\" alt=\"Open In Colab\"/></a>"
      ]
    },
    {
      "cell_type": "markdown",
      "source": [
        "# Problem\n",
        "\n",
        "**Can we predict the floor area of a house based on its appliances using a simple linear regression model?**\n",
        "\n",
        "1.   Load home_appliance.csv into a DataFrame.\n",
        "2.   Clean and visualise data using appropriate techniques.\n",
        "3.   Recognise the best features to train a simple linear regression model.\n",
        "4.   Build model(s) and evaluate their performance.\n",
        "5.   Report your findings."
      ],
      "metadata": {
        "id": "lhVw3ptCQctX"
      }
    },
    {
      "cell_type": "markdown",
      "source": [
        "## Description of the Data Set\n",
        "\n",
        "\n",
        "home_appliance.csv data set consists of 6 columns describing the appliances in each house.\n",
        "\n",
        "*   homeid - unique id assigned to each home\n",
        "*   food - number of food appliances\n",
        "*   water - number of water appliances\n",
        "*   heating - number of heating appliances\n",
        "*   other - number of other appliances\n",
        "*   floorarea - total floor area of the home covering all rooms\n",
        "\n",
        "\n",
        "(This data set is taken from [IDEAL Household Energy Dataset](https://datashare.ed.ac.uk/handle/10283/3647).)"
      ],
      "metadata": {
        "id": "6NrrL9umYaBO"
      }
    },
    {
      "cell_type": "markdown",
      "source": [
        "# Libraries"
      ],
      "metadata": {
        "id": "yM37hV8vXwvD"
      }
    },
    {
      "cell_type": "code",
      "source": [
        "# Import libraries\n",
        "import numpy as np\n",
        "import pandas as pd\n",
        "import seaborn as sns\n",
        "import matplotlib.pyplot as plt\n",
        "from sklearn.preprocessing import StandardScaler\n",
        "from sklearn.model_selection import train_test_split\n",
        "from sklearn.linear_model import LinearRegression\n",
        "from sklearn.metrics import mean_squared_error\n",
        "\n",
        "# Define random state\n",
        "random_state = 1234"
      ],
      "metadata": {
        "id": "zP1_Ril8G7Zj"
      },
      "execution_count": null,
      "outputs": []
    },
    {
      "cell_type": "markdown",
      "source": [
        "# Load Data"
      ],
      "metadata": {
        "id": "qaSVQH5BXx6X"
      }
    },
    {
      "cell_type": "code",
      "source": [
        "# Load the data set\n",
        "df = pd.read_csv(\"https://raw.githubusercontent.com/HHansi/Machine-Learning-CPD-Course/main/Data/home_appliance.csv\")\n",
        "df.head(5)"
      ],
      "metadata": {
        "colab": {
          "base_uri": "https://localhost:8080/",
          "height": 206
        },
        "id": "OcNvotKlG__1",
        "outputId": "20d6e452-5f6e-46dc-8f9c-70fef01dd566"
      },
      "execution_count": null,
      "outputs": [
        {
          "output_type": "execute_result",
          "data": {
            "text/html": [
              "<div>\n",
              "<style scoped>\n",
              "    .dataframe tbody tr th:only-of-type {\n",
              "        vertical-align: middle;\n",
              "    }\n",
              "\n",
              "    .dataframe tbody tr th {\n",
              "        vertical-align: top;\n",
              "    }\n",
              "\n",
              "    .dataframe thead th {\n",
              "        text-align: right;\n",
              "    }\n",
              "</style>\n",
              "<table border=\"1\" class=\"dataframe\">\n",
              "  <thead>\n",
              "    <tr style=\"text-align: right;\">\n",
              "      <th></th>\n",
              "      <th>homeid</th>\n",
              "      <th>food</th>\n",
              "      <th>water</th>\n",
              "      <th>heating</th>\n",
              "      <th>other</th>\n",
              "      <th>floorarea</th>\n",
              "    </tr>\n",
              "  </thead>\n",
              "  <tbody>\n",
              "    <tr>\n",
              "      <th>0</th>\n",
              "      <td>47</td>\n",
              "      <td>9</td>\n",
              "      <td>5</td>\n",
              "      <td>0</td>\n",
              "      <td>0</td>\n",
              "      <td>427.0</td>\n",
              "    </tr>\n",
              "    <tr>\n",
              "      <th>1</th>\n",
              "      <td>55</td>\n",
              "      <td>11</td>\n",
              "      <td>2</td>\n",
              "      <td>0</td>\n",
              "      <td>0</td>\n",
              "      <td>NaN</td>\n",
              "    </tr>\n",
              "    <tr>\n",
              "      <th>2</th>\n",
              "      <td>59</td>\n",
              "      <td>10</td>\n",
              "      <td>0</td>\n",
              "      <td>0</td>\n",
              "      <td>0</td>\n",
              "      <td>760.0</td>\n",
              "    </tr>\n",
              "    <tr>\n",
              "      <th>3</th>\n",
              "      <td>61</td>\n",
              "      <td>9</td>\n",
              "      <td>6</td>\n",
              "      <td>1</td>\n",
              "      <td>1</td>\n",
              "      <td>685.0</td>\n",
              "    </tr>\n",
              "    <tr>\n",
              "      <th>4</th>\n",
              "      <td>62</td>\n",
              "      <td>15</td>\n",
              "      <td>5</td>\n",
              "      <td>0</td>\n",
              "      <td>1</td>\n",
              "      <td>815.0</td>\n",
              "    </tr>\n",
              "  </tbody>\n",
              "</table>\n",
              "</div>"
            ],
            "text/plain": [
              "   homeid  food  water  heating  other  floorarea\n",
              "0      47     9      5        0      0      427.0\n",
              "1      55    11      2        0      0        NaN\n",
              "2      59    10      0        0      0      760.0\n",
              "3      61     9      6        1      1      685.0\n",
              "4      62    15      5        0      1      815.0"
            ]
          },
          "metadata": {},
          "execution_count": 2
        }
      ]
    },
    {
      "cell_type": "code",
      "source": [
        "df.info()"
      ],
      "metadata": {
        "colab": {
          "base_uri": "https://localhost:8080/"
        },
        "id": "qnBFIYhSHpUM",
        "outputId": "38824fc3-2d3c-42e1-9c12-dc72e0c767ad"
      },
      "execution_count": null,
      "outputs": [
        {
          "output_type": "stream",
          "name": "stdout",
          "text": [
            "<class 'pandas.core.frame.DataFrame'>\n",
            "RangeIndex: 256 entries, 0 to 255\n",
            "Data columns (total 6 columns):\n",
            " #   Column     Non-Null Count  Dtype  \n",
            "---  ------     --------------  -----  \n",
            " 0   homeid     256 non-null    int64  \n",
            " 1   food       256 non-null    int64  \n",
            " 2   water      256 non-null    int64  \n",
            " 3   heating    256 non-null    int64  \n",
            " 4   other      256 non-null    int64  \n",
            " 5   floorarea  255 non-null    float64\n",
            "dtypes: float64(1), int64(5)\n",
            "memory usage: 12.1 KB\n"
          ]
        }
      ]
    },
    {
      "cell_type": "code",
      "source": [
        "# Find if the data set contains Null/NaN values\n",
        "df.isna().sum()"
      ],
      "metadata": {
        "colab": {
          "base_uri": "https://localhost:8080/"
        },
        "id": "0RrmsRs4IkAQ",
        "outputId": "92ed2b27-9784-4144-edf0-4e90e0bb3859"
      },
      "execution_count": null,
      "outputs": [
        {
          "output_type": "execute_result",
          "data": {
            "text/plain": [
              "homeid       0\n",
              "food         0\n",
              "water        0\n",
              "heating      0\n",
              "other        0\n",
              "floorarea    1\n",
              "dtype: int64"
            ]
          },
          "metadata": {},
          "execution_count": 4
        }
      ]
    },
    {
      "cell_type": "markdown",
      "source": [
        "# Data Cleaning"
      ],
      "metadata": {
        "id": "y7RU9kjYIJYw"
      }
    },
    {
      "cell_type": "code",
      "source": [
        "# remove rows and columns with Null/NaN values.\n",
        "cleaned_df = df.dropna()\n",
        "print(cleaned_df.shape)\n",
        "cleaned_df.head(5)"
      ],
      "metadata": {
        "colab": {
          "base_uri": "https://localhost:8080/",
          "height": 223
        },
        "id": "eIDjDtjmIIRa",
        "outputId": "02f645a8-8f3a-43cb-8bf1-5ef994282e89"
      },
      "execution_count": null,
      "outputs": [
        {
          "output_type": "stream",
          "name": "stdout",
          "text": [
            "(255, 6)\n"
          ]
        },
        {
          "output_type": "execute_result",
          "data": {
            "text/html": [
              "<div>\n",
              "<style scoped>\n",
              "    .dataframe tbody tr th:only-of-type {\n",
              "        vertical-align: middle;\n",
              "    }\n",
              "\n",
              "    .dataframe tbody tr th {\n",
              "        vertical-align: top;\n",
              "    }\n",
              "\n",
              "    .dataframe thead th {\n",
              "        text-align: right;\n",
              "    }\n",
              "</style>\n",
              "<table border=\"1\" class=\"dataframe\">\n",
              "  <thead>\n",
              "    <tr style=\"text-align: right;\">\n",
              "      <th></th>\n",
              "      <th>homeid</th>\n",
              "      <th>food</th>\n",
              "      <th>water</th>\n",
              "      <th>heating</th>\n",
              "      <th>other</th>\n",
              "      <th>floorarea</th>\n",
              "    </tr>\n",
              "  </thead>\n",
              "  <tbody>\n",
              "    <tr>\n",
              "      <th>0</th>\n",
              "      <td>47</td>\n",
              "      <td>9</td>\n",
              "      <td>5</td>\n",
              "      <td>0</td>\n",
              "      <td>0</td>\n",
              "      <td>427.0</td>\n",
              "    </tr>\n",
              "    <tr>\n",
              "      <th>2</th>\n",
              "      <td>59</td>\n",
              "      <td>10</td>\n",
              "      <td>0</td>\n",
              "      <td>0</td>\n",
              "      <td>0</td>\n",
              "      <td>760.0</td>\n",
              "    </tr>\n",
              "    <tr>\n",
              "      <th>3</th>\n",
              "      <td>61</td>\n",
              "      <td>9</td>\n",
              "      <td>6</td>\n",
              "      <td>1</td>\n",
              "      <td>1</td>\n",
              "      <td>685.0</td>\n",
              "    </tr>\n",
              "    <tr>\n",
              "      <th>4</th>\n",
              "      <td>62</td>\n",
              "      <td>15</td>\n",
              "      <td>5</td>\n",
              "      <td>0</td>\n",
              "      <td>1</td>\n",
              "      <td>815.0</td>\n",
              "    </tr>\n",
              "    <tr>\n",
              "      <th>5</th>\n",
              "      <td>63</td>\n",
              "      <td>11</td>\n",
              "      <td>5</td>\n",
              "      <td>1</td>\n",
              "      <td>1</td>\n",
              "      <td>725.0</td>\n",
              "    </tr>\n",
              "  </tbody>\n",
              "</table>\n",
              "</div>"
            ],
            "text/plain": [
              "   homeid  food  water  heating  other  floorarea\n",
              "0      47     9      5        0      0      427.0\n",
              "2      59    10      0        0      0      760.0\n",
              "3      61     9      6        1      1      685.0\n",
              "4      62    15      5        0      1      815.0\n",
              "5      63    11      5        1      1      725.0"
            ]
          },
          "metadata": {},
          "execution_count": 5
        }
      ]
    },
    {
      "cell_type": "code",
      "source": [
        "cleaned_df.describe()"
      ],
      "metadata": {
        "colab": {
          "base_uri": "https://localhost:8080/",
          "height": 300
        },
        "id": "PF2ufgd1JDJL",
        "outputId": "6dad4214-d1be-4ca5-b35d-2f19f553dbad"
      },
      "execution_count": null,
      "outputs": [
        {
          "output_type": "execute_result",
          "data": {
            "text/html": [
              "<div>\n",
              "<style scoped>\n",
              "    .dataframe tbody tr th:only-of-type {\n",
              "        vertical-align: middle;\n",
              "    }\n",
              "\n",
              "    .dataframe tbody tr th {\n",
              "        vertical-align: top;\n",
              "    }\n",
              "\n",
              "    .dataframe thead th {\n",
              "        text-align: right;\n",
              "    }\n",
              "</style>\n",
              "<table border=\"1\" class=\"dataframe\">\n",
              "  <thead>\n",
              "    <tr style=\"text-align: right;\">\n",
              "      <th></th>\n",
              "      <th>homeid</th>\n",
              "      <th>food</th>\n",
              "      <th>water</th>\n",
              "      <th>heating</th>\n",
              "      <th>other</th>\n",
              "      <th>floorarea</th>\n",
              "    </tr>\n",
              "  </thead>\n",
              "  <tbody>\n",
              "    <tr>\n",
              "      <th>count</th>\n",
              "      <td>255.000000</td>\n",
              "      <td>255.000000</td>\n",
              "      <td>255.000000</td>\n",
              "      <td>255.000000</td>\n",
              "      <td>255.000000</td>\n",
              "      <td>255.000000</td>\n",
              "    </tr>\n",
              "    <tr>\n",
              "      <th>mean</th>\n",
              "      <td>198.901961</td>\n",
              "      <td>11.282353</td>\n",
              "      <td>6.364706</td>\n",
              "      <td>0.388235</td>\n",
              "      <td>0.298039</td>\n",
              "      <td>848.360784</td>\n",
              "    </tr>\n",
              "    <tr>\n",
              "      <th>std</th>\n",
              "      <td>80.249918</td>\n",
              "      <td>2.317063</td>\n",
              "      <td>1.895999</td>\n",
              "      <td>0.563191</td>\n",
              "      <td>0.920777</td>\n",
              "      <td>291.104459</td>\n",
              "    </tr>\n",
              "    <tr>\n",
              "      <th>min</th>\n",
              "      <td>47.000000</td>\n",
              "      <td>5.000000</td>\n",
              "      <td>0.000000</td>\n",
              "      <td>0.000000</td>\n",
              "      <td>0.000000</td>\n",
              "      <td>325.000000</td>\n",
              "    </tr>\n",
              "    <tr>\n",
              "      <th>25%</th>\n",
              "      <td>133.500000</td>\n",
              "      <td>10.000000</td>\n",
              "      <td>5.000000</td>\n",
              "      <td>0.000000</td>\n",
              "      <td>0.000000</td>\n",
              "      <td>645.000000</td>\n",
              "    </tr>\n",
              "    <tr>\n",
              "      <th>50%</th>\n",
              "      <td>201.000000</td>\n",
              "      <td>11.000000</td>\n",
              "      <td>6.000000</td>\n",
              "      <td>0.000000</td>\n",
              "      <td>0.000000</td>\n",
              "      <td>805.000000</td>\n",
              "    </tr>\n",
              "    <tr>\n",
              "      <th>75%</th>\n",
              "      <td>267.500000</td>\n",
              "      <td>13.000000</td>\n",
              "      <td>7.000000</td>\n",
              "      <td>1.000000</td>\n",
              "      <td>0.000000</td>\n",
              "      <td>1007.500000</td>\n",
              "    </tr>\n",
              "    <tr>\n",
              "      <th>max</th>\n",
              "      <td>335.000000</td>\n",
              "      <td>22.000000</td>\n",
              "      <td>14.000000</td>\n",
              "      <td>3.000000</td>\n",
              "      <td>7.000000</td>\n",
              "      <td>1865.000000</td>\n",
              "    </tr>\n",
              "  </tbody>\n",
              "</table>\n",
              "</div>"
            ],
            "text/plain": [
              "           homeid        food       water     heating       other    floorarea\n",
              "count  255.000000  255.000000  255.000000  255.000000  255.000000   255.000000\n",
              "mean   198.901961   11.282353    6.364706    0.388235    0.298039   848.360784\n",
              "std     80.249918    2.317063    1.895999    0.563191    0.920777   291.104459\n",
              "min     47.000000    5.000000    0.000000    0.000000    0.000000   325.000000\n",
              "25%    133.500000   10.000000    5.000000    0.000000    0.000000   645.000000\n",
              "50%    201.000000   11.000000    6.000000    0.000000    0.000000   805.000000\n",
              "75%    267.500000   13.000000    7.000000    1.000000    0.000000  1007.500000\n",
              "max    335.000000   22.000000   14.000000    3.000000    7.000000  1865.000000"
            ]
          },
          "metadata": {},
          "execution_count": 6
        }
      ]
    },
    {
      "cell_type": "markdown",
      "source": [
        "As seen in the above output, we have data from different value ranges (e.g. food 5-22, floorarea 325-1865).\n",
        "\n",
        "Thus, we need to scale the values, to support the learning process. "
      ],
      "metadata": {
        "id": "MvVQ2sNAJEd1"
      }
    },
    {
      "cell_type": "code",
      "source": [
        "# Scale data using StandardScaler\n",
        "scaler = StandardScaler().fit(cleaned_df)\n",
        "scaled_data = scaler.transform(cleaned_df)\n",
        "\n",
        "# Print the output of first 5 rows\n",
        "scaled_data[:5]"
      ],
      "metadata": {
        "colab": {
          "base_uri": "https://localhost:8080/"
        },
        "id": "5syKA_zHJDwM",
        "outputId": "28aeb34d-ed7c-48e8-91d0-d51280874698"
      },
      "execution_count": null,
      "outputs": [
        {
          "output_type": "execute_result",
          "data": {
            "text/plain": [
              "array([[-1.89658369, -0.98695683, -0.72119744, -0.69070515, -0.32431875,\n",
              "        -1.45030214],\n",
              "       [-1.74675676, -0.55452729, -3.36351567, -0.69070515, -0.32431875,\n",
              "        -0.30413327],\n",
              "       [-1.72178561, -0.98695683, -0.1927338 ,  1.08838387,  0.76385599,\n",
              "        -0.56227941],\n",
              "       [-1.70930003,  1.60762041, -0.72119744, -0.69070515,  0.76385599,\n",
              "        -0.1148261 ],\n",
              "       [-1.69681445, -0.12209775, -0.72119744,  1.08838387,  0.76385599,\n",
              "        -0.42460147]])"
            ]
          },
          "metadata": {},
          "execution_count": 7
        }
      ]
    },
    {
      "cell_type": "markdown",
      "source": [
        "Separate the data set into two partitions: (1) train and (2) test."
      ],
      "metadata": {
        "id": "uXVpLX9eJt_y"
      }
    },
    {
      "cell_type": "code",
      "source": [
        "'''\n",
        "Randomly split data into train(75%) and test(15%) using sklearn train_test_split function.\n",
        "random_state controls the shuffling applied to the data and is used to reproduce the outputs.\n",
        "'''\n",
        "train, test = train_test_split(scaled_data, test_size=0.15, random_state=random_state)\n",
        "\n",
        "# Print the size of datasets and few initial samples\n",
        "print(f'Train set size: {train.shape}')\n",
        "print(f'Train set sample: \\n {train[:5]}')\n",
        "\n",
        "print(f'Test set size: {test.shape}')\n",
        "print(f'Test set sample: \\n {test[:5]}')"
      ],
      "metadata": {
        "colab": {
          "base_uri": "https://localhost:8080/"
        },
        "id": "vMutL6CUJvZd",
        "outputId": "7d74732c-8bf9-4e51-98b3-88ac4e0bd550"
      },
      "execution_count": null,
      "outputs": [
        {
          "output_type": "stream",
          "name": "stdout",
          "text": [
            "Train set size: (216, 6)\n",
            "Train set sample: \n",
            " [[ 1.07498374  0.31033179  0.33572984 -0.69070515 -0.32431875 -0.90647427]\n",
            " [ 0.53810391  1.17519087  0.33572984 -0.69070515  1.85203074  1.27916306]\n",
            " [ 1.33718086 -0.98695683 -0.72119744 -0.69070515 -0.32431875 -0.20087482]\n",
            " [ 0.52561833 -0.98695683 -0.72119744 -0.69070515 -0.32431875 -1.68091269]\n",
            " [-1.22236251 -0.55452729 -1.24966109 -0.69070515 -0.32431875 -0.13203585]]\n",
            "Test set size: (39, 6)\n",
            "Test set sample: \n",
            " [[ 1.22407622e-03  1.17519087e+00 -1.92733800e-01  2.86747288e+00\n",
            "  -3.24318746e-01  9.86597431e-01]\n",
            " [ 1.57440683e+00  1.17519087e+00  2.44958442e+00  1.08838387e+00\n",
            "  -3.24318746e-01  1.95034302e+00]\n",
            " [-1.01010770e+00 -1.22097752e-01 -7.21197444e-01 -6.90705146e-01\n",
            "  -3.24318746e-01 -6.31968748e-02]\n",
            " [-1.67184330e+00 -5.54527292e-01 -1.24966109e+00 -6.90705146e-01\n",
            "   2.94020548e+00  5.21934378e-01]\n",
            " [-3.48372092e-01 -5.54527292e-01 -1.92733800e-01  1.08838387e+00\n",
            "   1.85203074e+00 -4.07391729e-01]]\n"
          ]
        }
      ]
    },
    {
      "cell_type": "markdown",
      "source": [
        "# EDA"
      ],
      "metadata": {
        "id": "UzrdOibPOU_Q"
      }
    },
    {
      "cell_type": "code",
      "source": [
        "fig = plt.figure(figsize=(8, 6))\n",
        "sns.scatterplot(data=cleaned_df, x='food', y='floorarea')\n",
        "\n",
        "plt.show()"
      ],
      "metadata": {
        "colab": {
          "base_uri": "https://localhost:8080/",
          "height": 388
        },
        "id": "7Dl-EwChOWAU",
        "outputId": "fa427069-3aa8-4eb0-8d71-cf6e2775e95f"
      },
      "execution_count": null,
      "outputs": [
        {
          "output_type": "display_data",
          "data": {
            "image/png": "[encoded data removed]",
            "text/plain": [
              "<Figure size 576x432 with 1 Axes>"
            ]
          },
          "metadata": {
            "needs_background": "light"
          }
        }
      ]
    },
    {
      "cell_type": "code",
      "source": [
        "fig = plt.figure(figsize=(8, 6))\n",
        "sns.scatterplot(data=cleaned_df, x='water', y='floorarea')\n",
        "\n",
        "plt.show()"
      ],
      "metadata": {
        "colab": {
          "base_uri": "https://localhost:8080/",
          "height": 388
        },
        "id": "veuHgMb5O2b9",
        "outputId": "1a3e8d4a-8415-4e8f-a5c1-d4f4a70a3a89"
      },
      "execution_count": null,
      "outputs": [
        {
          "output_type": "display_data",
          "data": {
            "image/png": "[encoded data removed]",
            "text/plain": [
              "<Figure size 576x432 with 1 Axes>"
            ]
          },
          "metadata": {
            "needs_background": "light"
          }
        }
      ]
    },
    {
      "cell_type": "code",
      "source": [
        "fig = plt.figure(figsize=(8, 6))\n",
        "sns.scatterplot(data=cleaned_df, x='heating', y='floorarea')\n",
        "\n",
        "plt.show()"
      ],
      "metadata": {
        "colab": {
          "base_uri": "https://localhost:8080/",
          "height": 388
        },
        "id": "27i5Y4d2PAJa",
        "outputId": "56cb78e4-dce8-45f3-a7fe-9da83dcfd0ae"
      },
      "execution_count": null,
      "outputs": [
        {
          "output_type": "display_data",
          "data": {
            "image/png": "[encoded data removed]",
            "text/plain": [
              "<Figure size 576x432 with 1 Axes>"
            ]
          },
          "metadata": {
            "needs_background": "light"
          }
        }
      ]
    },
    {
      "cell_type": "code",
      "source": [
        "fig = plt.figure(figsize=(8, 6))\n",
        "sns.scatterplot(data=cleaned_df, x='other', y='floorarea')\n",
        "\n",
        "plt.show()"
      ],
      "metadata": {
        "colab": {
          "base_uri": "https://localhost:8080/",
          "height": 388
        },
        "id": "dQWQ6vtWPC6Q",
        "outputId": "f35a3283-add2-4002-b7de-59f35b830789"
      },
      "execution_count": null,
      "outputs": [
        {
          "output_type": "display_data",
          "data": {
            "image/png": "[encoded data removed]",
            "text/plain": [
              "<Figure size 576x432 with 1 Axes>"
            ]
          },
          "metadata": {
            "needs_background": "light"
          }
        }
      ]
    },
    {
      "cell_type": "markdown",
      "source": [
        "# Linear Regression"
      ],
      "metadata": {
        "id": "3_4aTEYSJ2u1"
      }
    },
    {
      "cell_type": "markdown",
      "source": [
        "As the variable/ feature for a simple linear regression model to predict floor area, we can use either the count of food appliances or water appliances in the house. Since most of the houses do not have heating or other appliances, their count will not be helpful for the model."
      ],
      "metadata": {
        "id": "xHHJyIlNP1ZQ"
      }
    },
    {
      "cell_type": "markdown",
      "source": [
        "## Model 1\n",
        "* x = food\n",
        "* y = floorarea"
      ],
      "metadata": {
        "id": "GJJSNbmZMfKR"
      }
    },
    {
      "cell_type": "code",
      "source": [
        "x = train[:, 1]  # get food appliance count from train data\n",
        "y = train[:, 5]  # get floorarea from train data\n",
        "\n",
        "x = x.reshape(-1, 1)  # format to shape (n_samples, n_features)\n",
        "y = y.reshape(-1, 1)  # format to shape (n_samples, n_targets)\n",
        "\n",
        "regr = LinearRegression()  # create an instance of the class LinearRegression  \n",
        "regr.fit(x, y)  # train model \n",
        "\n",
        "# print coefficient(s)\n",
        "print(f'Coefficients: {regr.coef_}')\n",
        "\n",
        "# print intercept\n",
        "print(f'intercept: {regr.intercept_}')"
      ],
      "metadata": {
        "colab": {
          "base_uri": "https://localhost:8080/"
        },
        "id": "FlR2IJL1J_z5",
        "outputId": "e8c7f394-237f-476d-ba53-d7684b226aca"
      },
      "execution_count": null,
      "outputs": [
        {
          "output_type": "stream",
          "name": "stdout",
          "text": [
            "Coefficients: [[0.07935413]]\n",
            "intercept: [-0.01384676]\n"
          ]
        }
      ]
    },
    {
      "cell_type": "code",
      "source": [
        "# make predictions on test data\n",
        "test_x = test[:, 1].reshape(-1, 1)  # get food appliance count from test set and format\n",
        "\n",
        "y_pred = regr.predict(test_x)  # make predictions\n",
        "\n",
        "test_y = test[:, 5].reshape(-1, 1)  # get floorarea from test set to compare with predictions\n",
        "\n",
        "# calcuate mean squared error\n",
        "error = mean_squared_error(test_y, y_pred)\n",
        "print(f'Mean squared error: {error:.2f}')"
      ],
      "metadata": {
        "colab": {
          "base_uri": "https://localhost:8080/"
        },
        "id": "ybm-ESMxND5Z",
        "outputId": "e90181c0-91c8-4de6-a6ef-0bef140cef52"
      },
      "execution_count": null,
      "outputs": [
        {
          "output_type": "stream",
          "name": "stdout",
          "text": [
            "Mean squared error: 0.85\n"
          ]
        }
      ]
    },
    {
      "cell_type": "code",
      "source": [
        "fig = plt.figure(figsize=(7, 5))\n",
        "\n",
        "# plot data points\n",
        "plt.scatter(test_x, test_y, color ='b', alpha=0.6)\n",
        "# plot regression line\n",
        "plt.plot(test_x, y_pred, color ='k')\n",
        "\n",
        "plt.xlabel(\"Food Appliances\")\n",
        "plt.ylabel(\"Floor Area\")\n",
        "  \n",
        "plt.show()"
      ],
      "metadata": {
        "colab": {
          "base_uri": "https://localhost:8080/",
          "height": 334
        },
        "id": "6TjFYvgJNMyr",
        "outputId": "606347b9-6a26-4029-914e-86ecea8661e5"
      },
      "execution_count": null,
      "outputs": [
        {
          "output_type": "display_data",
          "data": {
            "image/png": "[encoded data removed]",
            "text/plain": [
              "<Figure size 504x360 with 1 Axes>"
            ]
          },
          "metadata": {
            "needs_background": "light"
          }
        }
      ]
    },
    {
      "cell_type": "markdown",
      "source": [
        "## Model2\n",
        "* x = water\n",
        "* y = floorarea"
      ],
      "metadata": {
        "id": "X7WCOZTyNZka"
      }
    },
    {
      "cell_type": "code",
      "source": [
        "x = train[:, 2]  # get water appliance count from train data\n",
        "y = train[:, 5]  # get floorarea from train data\n",
        "\n",
        "x = x.reshape(-1, 1)  # format to shape (n_samples, n_features)\n",
        "y = y.reshape(-1, 1)  # format to shape (n_samples, n_targets)\n",
        "\n",
        "regr = LinearRegression()  # create an instance of the class LinearRegression  \n",
        "regr.fit(x, y)  # train model \n",
        "\n",
        "# print coefficient(s)\n",
        "print(f'Coefficients: {regr.coef_}')\n",
        "\n",
        "# print intercept\n",
        "print(f'intercept: {regr.intercept_}')"
      ],
      "metadata": {
        "colab": {
          "base_uri": "https://localhost:8080/"
        },
        "id": "zikYS12INrXh",
        "outputId": "4e097a2e-153a-4e8c-e90b-d5232bd3ac61"
      },
      "execution_count": null,
      "outputs": [
        {
          "output_type": "stream",
          "name": "stdout",
          "text": [
            "Coefficients: [[0.44025994]]\n",
            "intercept: [-0.02868897]\n"
          ]
        }
      ]
    },
    {
      "cell_type": "code",
      "source": [
        "# make predictions on test data\n",
        "test_x = test[:, 2].reshape(-1, 1)  # get water appliance count from test set and format\n",
        "\n",
        "y_pred = regr.predict(test_x)  # make predictions\n",
        "\n",
        "test_y = test[:, 5].reshape(-1, 1)  # get floorarea from test set to compare with predictions\n",
        "\n",
        "# calcuate mean squared error\n",
        "error = mean_squared_error(test_y, y_pred)\n",
        "print(f'Mean squared error: {error:.2f}')"
      ],
      "metadata": {
        "colab": {
          "base_uri": "https://localhost:8080/"
        },
        "id": "vs1HbEiZNzQw",
        "outputId": "58763d1e-a7ac-4657-e3ad-fa5f853c7579"
      },
      "execution_count": null,
      "outputs": [
        {
          "output_type": "stream",
          "name": "stdout",
          "text": [
            "Mean squared error: 0.76\n"
          ]
        }
      ]
    },
    {
      "cell_type": "code",
      "source": [
        "fig = plt.figure(figsize=(7, 5))\n",
        "\n",
        "# plot data points\n",
        "plt.scatter(test_x, test_y, color ='b', alpha=0.6)\n",
        "# plot regression line\n",
        "plt.plot(test_x, y_pred, color ='k')\n",
        "\n",
        "plt.xlabel(\"Water Appliances\")\n",
        "plt.ylabel(\"Floor Area\")\n",
        "  \n",
        "plt.show()"
      ],
      "metadata": {
        "colab": {
          "base_uri": "https://localhost:8080/",
          "height": 334
        },
        "id": "_cO_vG_ON1xG",
        "outputId": "260ad06d-4237-449c-de53-87900ae2a6a6"
      },
      "execution_count": null,
      "outputs": [
        {
          "output_type": "display_data",
          "data": {
            "image/png": "[encoded data removed]",
            "text/plain": [
              "<Figure size 504x360 with 1 Axes>"
            ]
          },
          "metadata": {
            "needs_background": "light"
          }
        }
      ]
    }
  ]
}