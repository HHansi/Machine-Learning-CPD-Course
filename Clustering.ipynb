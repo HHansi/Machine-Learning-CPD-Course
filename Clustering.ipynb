{
  "nbformat": 4,
  "nbformat_minor": 0,
  "metadata": {
    "colab": {
      "name": "Clustering.ipynb",
      "provenance": [],
      "authorship_tag": "ABX9TyNXzUK6MQB7NtDdsFmDZVwB",
      "include_colab_link": true
    },
    "kernelspec": {
      "name": "python3",
      "display_name": "Python 3"
    },
    "language_info": {
      "name": "python"
    }
  },
  "cells": [
    {
      "cell_type": "markdown",
      "metadata": {
        "id": "view-in-github",
        "colab_type": "text"
      },
      "source": [
        "<a href=\"https://colab.research.google.com/github/HHansi/Machine-Learning-CPD-Course/blob/main/Clustering.ipynb\" target=\"_parent\"><img src=\"https://colab.research.google.com/assets/colab-badge.svg\" alt=\"Open In Colab\"/></a>"
      ]
    },
    {
      "cell_type": "markdown",
      "metadata": {
        "id": "0HNVrmSn9CTy"
      },
      "source": [
        "<font size=\"5.5\">Targeted Problem <font>\n",
        "\n",
        "**Can we predict the type of the house or its floor area, knowing the number of family members and income?**\n",
        "\n",
        "Let's apply K-means clustering on the number of family members and income and see how the identified clusters can be related to the house types.\n"
      ]
    },
    {
      "cell_type": "code",
      "metadata": {
        "id": "ZQkjVa_-TX18"
      },
      "source": [
        "# Import libraries\n",
        "import numpy as np\n",
        "import matplotlib.pyplot as plt\n",
        "import pandas as pd\n",
        "from sklearn.preprocessing import StandardScaler\n",
        "from sklearn.cluster import KMeans"
      ],
      "execution_count": 1,
      "outputs": []
    },
    {
      "cell_type": "markdown",
      "metadata": {
        "id": "BVaA4eMX-BIq"
      },
      "source": [
        "# Data Loading\n",
        "\n",
        "Don't forget to load the cleaned data set."
      ]
    },
    {
      "cell_type": "code",
      "metadata": {
        "colab": {
          "base_uri": "https://localhost:8080/",
          "height": 206
        },
        "id": "r0ZcleL3TZ6s",
        "outputId": "da87f947-f005-4d3e-bd68-1ca5ad6f2e73"
      },
      "source": [
        "# Load the data set\n",
        "df = pd.read_csv(\"/content/cleaned_home_data.csv\")\n",
        "df.head(5)"
      ],
      "execution_count": 2,
      "outputs": [
        {
          "output_type": "execute_result",
          "data": {
            "text/html": [
              "<div>\n",
              "<style scoped>\n",
              "    .dataframe tbody tr th:only-of-type {\n",
              "        vertical-align: middle;\n",
              "    }\n",
              "\n",
              "    .dataframe tbody tr th {\n",
              "        vertical-align: top;\n",
              "    }\n",
              "\n",
              "    .dataframe thead th {\n",
              "        text-align: right;\n",
              "    }\n",
              "</style>\n",
              "<table border=\"1\" class=\"dataframe\">\n",
              "  <thead>\n",
              "    <tr style=\"text-align: right;\">\n",
              "      <th></th>\n",
              "      <th>homeid</th>\n",
              "      <th>residents</th>\n",
              "      <th>income_band</th>\n",
              "      <th>hometype</th>\n",
              "      <th>floorarea</th>\n",
              "      <th>average_income</th>\n",
              "    </tr>\n",
              "  </thead>\n",
              "  <tbody>\n",
              "    <tr>\n",
              "      <th>0</th>\n",
              "      <td>59</td>\n",
              "      <td>2</td>\n",
              "      <td>£90,000 or more</td>\n",
              "      <td>flat</td>\n",
              "      <td>760</td>\n",
              "      <td>90000.0</td>\n",
              "    </tr>\n",
              "    <tr>\n",
              "      <th>1</th>\n",
              "      <td>61</td>\n",
              "      <td>2</td>\n",
              "      <td>£48,600 to £53,999</td>\n",
              "      <td>house_or_bungalow</td>\n",
              "      <td>685</td>\n",
              "      <td>51299.5</td>\n",
              "    </tr>\n",
              "    <tr>\n",
              "      <th>2</th>\n",
              "      <td>62</td>\n",
              "      <td>2</td>\n",
              "      <td>£43,200 to £48,599</td>\n",
              "      <td>flat</td>\n",
              "      <td>815</td>\n",
              "      <td>45899.5</td>\n",
              "    </tr>\n",
              "    <tr>\n",
              "      <th>3</th>\n",
              "      <td>64</td>\n",
              "      <td>4</td>\n",
              "      <td>£66,000 to £77,999</td>\n",
              "      <td>flat</td>\n",
              "      <td>650</td>\n",
              "      <td>71999.5</td>\n",
              "    </tr>\n",
              "    <tr>\n",
              "      <th>4</th>\n",
              "      <td>63</td>\n",
              "      <td>2</td>\n",
              "      <td>£54,000 to £65,999</td>\n",
              "      <td>house_or_bungalow</td>\n",
              "      <td>725</td>\n",
              "      <td>59999.5</td>\n",
              "    </tr>\n",
              "  </tbody>\n",
              "</table>\n",
              "</div>"
            ],
            "text/plain": [
              "   homeid  residents  ... floorarea average_income\n",
              "0      59          2  ...       760        90000.0\n",
              "1      61          2  ...       685        51299.5\n",
              "2      62          2  ...       815        45899.5\n",
              "3      64          4  ...       650        71999.5\n",
              "4      63          2  ...       725        59999.5\n",
              "\n",
              "[5 rows x 6 columns]"
            ]
          },
          "metadata": {},
          "execution_count": 2
        }
      ]
    },
    {
      "cell_type": "markdown",
      "metadata": {
        "id": "XK743kWL-ZYO"
      },
      "source": [
        "Let's filter out the data columns which we are intended to use for our experiments. "
      ]
    },
    {
      "cell_type": "code",
      "metadata": {
        "colab": {
          "base_uri": "https://localhost:8080/",
          "height": 223
        },
        "id": "y9-sLFQbTgUI",
        "outputId": "a2833ee9-0129-4913-f96b-7f345f2c9835"
      },
      "source": [
        "selected_df = df[['residents', 'average_income']]\n",
        "print(f'Selected data size: {selected_df.shape}')\n",
        "selected_df.head(5)"
      ],
      "execution_count": 3,
      "outputs": [
        {
          "output_type": "stream",
          "name": "stdout",
          "text": [
            "Selected data size: (245, 2)\n"
          ]
        },
        {
          "output_type": "execute_result",
          "data": {
            "text/html": [
              "<div>\n",
              "<style scoped>\n",
              "    .dataframe tbody tr th:only-of-type {\n",
              "        vertical-align: middle;\n",
              "    }\n",
              "\n",
              "    .dataframe tbody tr th {\n",
              "        vertical-align: top;\n",
              "    }\n",
              "\n",
              "    .dataframe thead th {\n",
              "        text-align: right;\n",
              "    }\n",
              "</style>\n",
              "<table border=\"1\" class=\"dataframe\">\n",
              "  <thead>\n",
              "    <tr style=\"text-align: right;\">\n",
              "      <th></th>\n",
              "      <th>residents</th>\n",
              "      <th>average_income</th>\n",
              "    </tr>\n",
              "  </thead>\n",
              "  <tbody>\n",
              "    <tr>\n",
              "      <th>0</th>\n",
              "      <td>2</td>\n",
              "      <td>90000.0</td>\n",
              "    </tr>\n",
              "    <tr>\n",
              "      <th>1</th>\n",
              "      <td>2</td>\n",
              "      <td>51299.5</td>\n",
              "    </tr>\n",
              "    <tr>\n",
              "      <th>2</th>\n",
              "      <td>2</td>\n",
              "      <td>45899.5</td>\n",
              "    </tr>\n",
              "    <tr>\n",
              "      <th>3</th>\n",
              "      <td>4</td>\n",
              "      <td>71999.5</td>\n",
              "    </tr>\n",
              "    <tr>\n",
              "      <th>4</th>\n",
              "      <td>2</td>\n",
              "      <td>59999.5</td>\n",
              "    </tr>\n",
              "  </tbody>\n",
              "</table>\n",
              "</div>"
            ],
            "text/plain": [
              "   residents  average_income\n",
              "0          2         90000.0\n",
              "1          2         51299.5\n",
              "2          2         45899.5\n",
              "3          4         71999.5\n",
              "4          2         59999.5"
            ]
          },
          "metadata": {},
          "execution_count": 3
        }
      ]
    },
    {
      "cell_type": "markdown",
      "metadata": {
        "id": "OjEpziij-fY3"
      },
      "source": [
        "As seen in the above output, we have data from different value ranges (e.g. residents 0-10, average_income 10,000-90,000).\n",
        "\n",
        "Thus, we need to scale the values, to support the learning process."
      ]
    },
    {
      "cell_type": "code",
      "metadata": {
        "colab": {
          "base_uri": "https://localhost:8080/"
        },
        "id": "jjgYfZKUTvUX",
        "outputId": "fe473a6e-ad3b-4032-b201-d2a9c8f727d4"
      },
      "source": [
        "# Scale data using StandardScaler\n",
        "scaler = StandardScaler().fit(selected_df)\n",
        "scaled_data = scaler.transform(selected_df)\n",
        "\n",
        "# Print the output of first 5 rows\n",
        "scaled_data[:5]"
      ],
      "execution_count": 4,
      "outputs": [
        {
          "output_type": "execute_result",
          "data": {
            "text/plain": [
              "array([[-0.38198211,  1.90922419],\n",
              "       [-0.38198211,  0.21773864],\n",
              "       [-0.38198211, -0.01827955],\n",
              "       [ 1.36728175,  1.12247503],\n",
              "       [-0.38198211,  0.59799017]])"
            ]
          },
          "metadata": {},
          "execution_count": 4
        }
      ]
    },
    {
      "cell_type": "markdown",
      "metadata": {
        "id": "HHEDvF2S_BMc"
      },
      "source": [
        "# K-means Clustering\n",
        "\n",
        "For K-means clustering, we have to define the number of clusters as a parameter. We usually use domain knowledge and statistical methods to pick this value. \n",
        "\n",
        "For this experiment, without going into more details, let's assume we need to find 2 clusters."
      ]
    },
    {
      "cell_type": "code",
      "metadata": {
        "colab": {
          "base_uri": "https://localhost:8080/"
        },
        "id": "fIMv6JKTUB9B",
        "outputId": "ef8f85d2-1f3c-4c4e-f10e-fb74b7556c16"
      },
      "source": [
        "kmeans = KMeans(n_clusters = 2, random_state=1234)  # create an instance of the class KMeans, giving number of clusters and random state as parameters\n",
        "kmeans.fit(scaled_data)  # train model \n",
        " \n",
        "# predict assigned cluster labels\n",
        "labels = kmeans.predict(scaled_data)\n",
        "print(labels)"
      ],
      "execution_count": 5,
      "outputs": [
        {
          "output_type": "stream",
          "name": "stdout",
          "text": [
            "[1 0 0 1 1 1 0 1 0 0 0 0 0 0 0 0 0 1 0 0 0 0 0 0 1 0 1 0 0 0 1 1 0 0 1 1 0\n",
            " 0 1 1 0 0 1 1 0 0 0 0 0 0 1 0 1 0 1 1 1 0 1 1 0 0 0 0 1 1 1 1 1 1 0 1 1 1\n",
            " 0 0 1 1 1 0 1 1 1 1 0 1 0 0 1 0 1 0 0 1 1 0 0 1 0 0 0 0 1 1 1 0 0 0 0 0 1\n",
            " 0 1 1 0 0 1 0 1 1 1 0 0 1 0 0 1 1 0 1 0 1 0 1 1 0 0 0 0 0 1 1 0 0 1 0 1 0\n",
            " 1 1 1 1 0 0 0 1 0 0 1 1 1 1 1 0 0 0 1 1 1 0 1 0 0 0 0 1 1 1 1 1 0 0 0 1 0\n",
            " 1 0 0 0 0 0 1 0 1 0 0 1 1 1 0 1 1 0 0 1 0 1 0 1 0 0 0 1 0 0 0 0 0 1 0 1 1\n",
            " 1 0 1 1 1 0 0 0 0 1 0 0 0 0 1 1 1 0 1 0 1 1 1]\n"
          ]
        }
      ]
    },
    {
      "cell_type": "markdown",
      "metadata": {
        "id": "Sy1tAFcFCsQK"
      },
      "source": [
        "We can use centroid details to know about the characteristics of the generated clusters."
      ]
    },
    {
      "cell_type": "code",
      "metadata": {
        "colab": {
          "base_uri": "https://localhost:8080/"
        },
        "id": "nwGia-KHC0po",
        "outputId": "da98eaae-98ab-42d1-e5df-ba4c5f54f509"
      },
      "source": [
        "# get centroids\n",
        "centroids = kmeans.cluster_centers_\n",
        "print(centroids)"
      ],
      "execution_count": 6,
      "outputs": [
        {
          "output_type": "stream",
          "name": "stdout",
          "text": [
            "[[-0.56088409 -0.64760973]\n",
            " [ 0.65519204  0.75649986]]\n"
          ]
        }
      ]
    },
    {
      "cell_type": "markdown",
      "metadata": {
        "id": "6EuuYoSXDHoc"
      },
      "source": [
        "Since we used scaled data for the model, centroids are also in scaled formats. \n",
        "\n",
        "However, these values will make more sense once they are converted to the normal form."
      ]
    },
    {
      "cell_type": "code",
      "metadata": {
        "colab": {
          "base_uri": "https://localhost:8080/"
        },
        "id": "zGu1QA9FD9qo",
        "outputId": "4cfae214-386a-4d0e-d466-2c41d527f688"
      },
      "source": [
        "inverse_scaled_centroids = scaler.inverse_transform(centroids)  # inverse scale centroids\n",
        "print(f'{inverse_scaled_centroids}\\n')\n",
        "\n",
        "# convert complex to real numbers and round off the values\n",
        "for row in inverse_scaled_centroids:\n",
        "  real_values = [round(val.real) for val in row]\n",
        "  print(real_values)"
      ],
      "execution_count": 7,
      "outputs": [
        {
          "output_type": "stream",
          "name": "stdout",
          "text": [
            "[[1.79545455e+00 3.15006818e+04]\n",
            " [3.18584071e+00 6.36261372e+04]]\n",
            "\n",
            "[2, 31501]\n",
            "[3, 63626]\n"
          ]
        }
      ]
    },
    {
      "cell_type": "markdown",
      "metadata": {
        "id": "UivPqiJLF9Jd"
      },
      "source": [
        "Let's plot the clusters in a scatter plot to get an overview."
      ]
    },
    {
      "cell_type": "code",
      "metadata": {
        "colab": {
          "base_uri": "https://localhost:8080/",
          "height": 388
        },
        "id": "cVbD0FphF6Tu",
        "outputId": "59d5306c-5c6a-4cb7-bb86-ce44a295b65f"
      },
      "source": [
        "n_labels = np.unique(labels)  # count number of unique labels to use with graph\n",
        "\n",
        "fig = plt.figure(figsize=(12, 6))\n",
        "\n",
        "for i in n_labels:\n",
        "    plt.scatter(selected_df[labels == i].iloc[: , 0] , selected_df[labels == i].iloc[: , 1] , label = i, alpha=0.4)\n",
        "plt.scatter(inverse_scaled_centroids[:,0] , inverse_scaled_centroids[:,1] , s = 80, color = 'k')\n",
        "\n",
        "plt.xlabel(\"Residents\")\n",
        "plt.ylabel(\"Average Income\")\n",
        "\n",
        "plt.legend()\n",
        "plt.show()"
      ],
      "execution_count": 8,
      "outputs": [
        {
          "output_type": "display_data",
          "data": {
            "image/png": "[encoded data removed]",
            "text/plain": [
              "<Figure size 864x432 with 1 Axes>"
            ]
          },
          "metadata": {
            "needs_background": "light"
          }
        }
      ]
    },
    {
      "cell_type": "markdown",
      "metadata": {
        "id": "FDWexNIqRNJB"
      },
      "source": [
        "<font size=4 color=\"blue\">**Q.** How can you explain the properties/ characteristics of each clsuter? <font>"
      ]
    },
    {
      "cell_type": "markdown",
      "metadata": {
        "id": "B58XGUMQRoFt"
      },
      "source": [
        "As the next step, let's see how the identified clusters can be related to the house types.\n",
        "\n",
        "By drawing a scatter plot (similar to the above) separating the house types: flat and house_or_bungalow, we will be able to see the similarities to the identified clusters."
      ]
    },
    {
      "cell_type": "code",
      "metadata": {
        "colab": {
          "base_uri": "https://localhost:8080/",
          "height": 388
        },
        "id": "5dkxhed4SC7i",
        "outputId": "a67fcbb4-f9bc-4acc-feb9-3925a8e97644"
      },
      "source": [
        "fig = plt.figure(figsize=(12, 6))\n",
        "plt.scatter(df.loc[df['hometype'] == 'flat']['residents'] , df.loc[df['hometype'] == 'flat']['average_income'] , label = 'flat', color = 'c', alpha=0.4)\n",
        "plt.scatter(df.loc[df['hometype'] == 'house_or_bungalow']['residents'] , df.loc[df['hometype'] == 'house_or_bungalow']['average_income'] , label = 'house_or_bungalow', color='m', alpha=0.4)\n",
        "\n",
        "plt.xlabel(\"Residents\")\n",
        "plt.ylabel(\"Average Income\")\n",
        "\n",
        "plt.legend()\n",
        "plt.show()"
      ],
      "execution_count": null,
      "outputs": [
        {
          "output_type": "display_data",
          "data": {
            "image/png": "[encoded data removed]",
            "text/plain": [
              "<Figure size 864x432 with 1 Axes>"
            ]
          },
          "metadata": {
            "needs_background": "light"
          }
        }
      ]
    }
  ]
}