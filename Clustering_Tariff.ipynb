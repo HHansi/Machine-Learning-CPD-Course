{
  "nbformat": 4,
  "nbformat_minor": 0,
  "metadata": {
    "colab": {
      "name": "Clustering-Tariff.ipynb",
      "provenance": [],
      "toc_visible": true,
      "authorship_tag": "ABX9TyOIyECBdCNaoDK3HRu1p8i1",
      "include_colab_link": true
    },
    "kernelspec": {
      "name": "python3",
      "display_name": "Python 3"
    },
    "language_info": {
      "name": "python"
    }
  },
  "cells": [
    {
      "cell_type": "markdown",
      "metadata": {
        "id": "view-in-github",
        "colab_type": "text"
      },
      "source": [
        "<a href=\"https://colab.research.google.com/github/HHansi/Machine-Learning-CPD-Course/blob/main/Clustering_Tariff.ipynb\" target=\"_parent\"><img src=\"https://colab.research.google.com/assets/colab-badge.svg\" alt=\"Open In Colab\"/></a>"
      ]
    },
    {
      "cell_type": "markdown",
      "source": [
        "# Exercise - K-means Clustering\n",
        "\n",
        "[Online Tool](https://www.naftaliharris.com/blog/visualizing-k-means-clustering/)"
      ],
      "metadata": {
        "id": "3eQi9tlE3h8I"
      }
    },
    {
      "cell_type": "markdown",
      "source": [
        "# Problem\n",
        "\n",
        "**How can we optimally categorise the tariff for each energy type?**\n",
        "\n"
      ],
      "metadata": {
        "id": "ckz6HccRYQNq"
      }
    },
    {
      "cell_type": "markdown",
      "source": [
        "# Libraries"
      ],
      "metadata": {
        "id": "YWBuidkW3vrH"
      }
    },
    {
      "cell_type": "code",
      "source": [
        "# Import libraries\n",
        "import numpy as np\n",
        "import pandas as pd\n",
        "import matplotlib.pyplot as plt\n",
        "import seaborn as sns\n",
        "from sklearn.cluster import KMeans"
      ],
      "metadata": {
        "id": "Eqg0qZN1sV1r"
      },
      "execution_count": 1,
      "outputs": []
    },
    {
      "cell_type": "markdown",
      "source": [
        "# Load Data"
      ],
      "metadata": {
        "id": "mRVzMDcrWOZV"
      }
    },
    {
      "cell_type": "code",
      "source": [
        "# Load the data set\n",
        "df = pd.read_csv(\"https://raw.githubusercontent.com/HHansi/Machine-Learning-CPD-Course/main/Data/tariff.csv\")\n",
        "df.head(5)"
      ],
      "metadata": {
        "colab": {
          "base_uri": "https://localhost:8080/",
          "height": 206
        },
        "id": "XnOLhiLLsYbc",
        "outputId": "ec938171-f9a7-435a-e67b-be834c2f39ff"
      },
      "execution_count": 2,
      "outputs": [
        {
          "output_type": "execute_result",
          "data": {
            "text/html": [
              "<div>\n",
              "<style scoped>\n",
              "    .dataframe tbody tr th:only-of-type {\n",
              "        vertical-align: middle;\n",
              "    }\n",
              "\n",
              "    .dataframe tbody tr th {\n",
              "        vertical-align: top;\n",
              "    }\n",
              "\n",
              "    .dataframe thead th {\n",
              "        text-align: right;\n",
              "    }\n",
              "</style>\n",
              "<table border=\"1\" class=\"dataframe\">\n",
              "  <thead>\n",
              "    <tr style=\"text-align: right;\">\n",
              "      <th></th>\n",
              "      <th>homeid</th>\n",
              "      <th>notification_date</th>\n",
              "      <th>provenancedetail</th>\n",
              "      <th>energytype</th>\n",
              "      <th>daily_standing_charge_pence</th>\n",
              "      <th>unit_charge_pence_per_kwh</th>\n",
              "    </tr>\n",
              "  </thead>\n",
              "  <tbody>\n",
              "    <tr>\n",
              "      <th>0</th>\n",
              "      <td>167</td>\n",
              "      <td>8/25/2016</td>\n",
              "      <td>primary_facetoface_initial</td>\n",
              "      <td>electricity</td>\n",
              "      <td>23.02</td>\n",
              "      <td>NaN</td>\n",
              "    </tr>\n",
              "    <tr>\n",
              "      <th>1</th>\n",
              "      <td>62</td>\n",
              "      <td>8/26/2016</td>\n",
              "      <td>primary_facetoface_initial</td>\n",
              "      <td>electricity</td>\n",
              "      <td>31.31</td>\n",
              "      <td>NaN</td>\n",
              "    </tr>\n",
              "    <tr>\n",
              "      <th>2</th>\n",
              "      <td>62</td>\n",
              "      <td>8/26/2016</td>\n",
              "      <td>primary_facetoface_initial</td>\n",
              "      <td>gas</td>\n",
              "      <td>24.74</td>\n",
              "      <td>NaN</td>\n",
              "    </tr>\n",
              "    <tr>\n",
              "      <th>3</th>\n",
              "      <td>61</td>\n",
              "      <td>10/6/2016</td>\n",
              "      <td>primary_facetoface_initial</td>\n",
              "      <td>electricity</td>\n",
              "      <td>0.33</td>\n",
              "      <td>0.12</td>\n",
              "    </tr>\n",
              "    <tr>\n",
              "      <th>4</th>\n",
              "      <td>61</td>\n",
              "      <td>10/6/2016</td>\n",
              "      <td>primary_facetoface_initial</td>\n",
              "      <td>gas</td>\n",
              "      <td>0.30</td>\n",
              "      <td>0.33</td>\n",
              "    </tr>\n",
              "  </tbody>\n",
              "</table>\n",
              "</div>"
            ],
            "text/plain": [
              "   homeid  ... unit_charge_pence_per_kwh\n",
              "0     167  ...                       NaN\n",
              "1      62  ...                       NaN\n",
              "2      62  ...                       NaN\n",
              "3      61  ...                      0.12\n",
              "4      61  ...                      0.33\n",
              "\n",
              "[5 rows x 6 columns]"
            ]
          },
          "metadata": {},
          "execution_count": 2
        }
      ]
    },
    {
      "cell_type": "markdown",
      "source": [
        "## Description of the Data Set\n",
        "As can be seen in the above output (first 5 rows of the data set), this data set consists of 6 columns describing the energy consumption by different houses. \n",
        "\n",
        "\n",
        "*   homeid - unique id assigned to each home\n",
        "*   notification_date - date of notification\n",
        "*   provenancedetail - provenance tag/name\n",
        "*   energytype\t- type of energy\n",
        "*   daily_standing_charge_pence\n",
        "*   unit_charge_pence_per_kwh\n",
        "\n",
        "\n",
        "(This data set is taken from [IDEAL Household Energy Dataset](https://datashare.ed.ac.uk/handle/10283/3647).)"
      ],
      "metadata": {
        "id": "k5IQvzV1WR-1"
      }
    },
    {
      "cell_type": "code",
      "source": [
        "df.info()"
      ],
      "metadata": {
        "colab": {
          "base_uri": "https://localhost:8080/"
        },
        "id": "WvGENIU7Z6ic",
        "outputId": "600cab94-3ece-411d-ff06-e1b8f189bf5b"
      },
      "execution_count": 3,
      "outputs": [
        {
          "output_type": "stream",
          "name": "stdout",
          "text": [
            "<class 'pandas.core.frame.DataFrame'>\n",
            "RangeIndex: 565 entries, 0 to 564\n",
            "Data columns (total 6 columns):\n",
            " #   Column                       Non-Null Count  Dtype  \n",
            "---  ------                       --------------  -----  \n",
            " 0   homeid                       565 non-null    int64  \n",
            " 1   notification_date            565 non-null    object \n",
            " 2   provenancedetail             565 non-null    object \n",
            " 3   energytype                   565 non-null    object \n",
            " 4   daily_standing_charge_pence  559 non-null    float64\n",
            " 5   unit_charge_pence_per_kwh    545 non-null    float64\n",
            "dtypes: float64(2), int64(1), object(3)\n",
            "memory usage: 26.6+ KB\n"
          ]
        }
      ]
    },
    {
      "cell_type": "code",
      "source": [
        "df.shape"
      ],
      "metadata": {
        "colab": {
          "base_uri": "https://localhost:8080/"
        },
        "id": "8xDbFe48aAHl",
        "outputId": "11f40288-8420-48fd-e409-994e02fe89be"
      },
      "execution_count": 4,
      "outputs": [
        {
          "output_type": "execute_result",
          "data": {
            "text/plain": [
              "(565, 6)"
            ]
          },
          "metadata": {},
          "execution_count": 4
        }
      ]
    },
    {
      "cell_type": "code",
      "source": [
        "# get unique energy types in data\n",
        "df['energytype'].unique()"
      ],
      "metadata": {
        "colab": {
          "base_uri": "https://localhost:8080/"
        },
        "id": "MsI7Sk3iY5oM",
        "outputId": "bd28d58e-17ea-45ab-bffe-5d8b10478431"
      },
      "execution_count": 5,
      "outputs": [
        {
          "output_type": "execute_result",
          "data": {
            "text/plain": [
              "array(['electricity', 'gas'], dtype=object)"
            ]
          },
          "metadata": {},
          "execution_count": 5
        }
      ]
    },
    {
      "cell_type": "markdown",
      "source": [
        "This data set consists of 2 energy types: gas and electricity.\n",
        "\n",
        "As the initial problem, let's focus on **How can we optimally categorise the tariff for gas?**. We can use K-means clustering algorithm to optimally cluster the values.\n"
      ],
      "metadata": {
        "id": "IvQBougXYyhc"
      }
    },
    {
      "cell_type": "markdown",
      "source": [
        "# Data Cleaning"
      ],
      "metadata": {
        "id": "Tbrqeoi_vKnZ"
      }
    },
    {
      "cell_type": "code",
      "source": [
        "# Select important columns\n",
        "filtered_df = df[['homeid', 'energytype', 'daily_standing_charge_pence']]\n",
        "filtered_df.head(5)"
      ],
      "metadata": {
        "colab": {
          "base_uri": "https://localhost:8080/",
          "height": 206
        },
        "id": "HYx11I9-s5I9",
        "outputId": "8ae42832-8220-40d4-c9ad-b509d59c41e5"
      },
      "execution_count": 6,
      "outputs": [
        {
          "output_type": "execute_result",
          "data": {
            "text/html": [
              "<div>\n",
              "<style scoped>\n",
              "    .dataframe tbody tr th:only-of-type {\n",
              "        vertical-align: middle;\n",
              "    }\n",
              "\n",
              "    .dataframe tbody tr th {\n",
              "        vertical-align: top;\n",
              "    }\n",
              "\n",
              "    .dataframe thead th {\n",
              "        text-align: right;\n",
              "    }\n",
              "</style>\n",
              "<table border=\"1\" class=\"dataframe\">\n",
              "  <thead>\n",
              "    <tr style=\"text-align: right;\">\n",
              "      <th></th>\n",
              "      <th>homeid</th>\n",
              "      <th>energytype</th>\n",
              "      <th>daily_standing_charge_pence</th>\n",
              "    </tr>\n",
              "  </thead>\n",
              "  <tbody>\n",
              "    <tr>\n",
              "      <th>0</th>\n",
              "      <td>167</td>\n",
              "      <td>electricity</td>\n",
              "      <td>23.02</td>\n",
              "    </tr>\n",
              "    <tr>\n",
              "      <th>1</th>\n",
              "      <td>62</td>\n",
              "      <td>electricity</td>\n",
              "      <td>31.31</td>\n",
              "    </tr>\n",
              "    <tr>\n",
              "      <th>2</th>\n",
              "      <td>62</td>\n",
              "      <td>gas</td>\n",
              "      <td>24.74</td>\n",
              "    </tr>\n",
              "    <tr>\n",
              "      <th>3</th>\n",
              "      <td>61</td>\n",
              "      <td>electricity</td>\n",
              "      <td>0.33</td>\n",
              "    </tr>\n",
              "    <tr>\n",
              "      <th>4</th>\n",
              "      <td>61</td>\n",
              "      <td>gas</td>\n",
              "      <td>0.30</td>\n",
              "    </tr>\n",
              "  </tbody>\n",
              "</table>\n",
              "</div>"
            ],
            "text/plain": [
              "   homeid   energytype  daily_standing_charge_pence\n",
              "0     167  electricity                        23.02\n",
              "1      62  electricity                        31.31\n",
              "2      62          gas                        24.74\n",
              "3      61  electricity                         0.33\n",
              "4      61          gas                         0.30"
            ]
          },
          "metadata": {},
          "execution_count": 6
        }
      ]
    },
    {
      "cell_type": "code",
      "source": [
        "# filter rows of energytype = gas\n",
        "df_gas = filtered_df.loc[df['energytype'] == 'gas']\n",
        "print(df_gas.shape)\n",
        "df_gas.head(5)"
      ],
      "metadata": {
        "colab": {
          "base_uri": "https://localhost:8080/",
          "height": 223
        },
        "id": "bEc0c_Yys29O",
        "outputId": "d73fa361-48d7-4f53-d1d2-bb670827cd0a"
      },
      "execution_count": 7,
      "outputs": [
        {
          "output_type": "stream",
          "name": "stdout",
          "text": [
            "(284, 3)\n"
          ]
        },
        {
          "output_type": "execute_result",
          "data": {
            "text/html": [
              "<div>\n",
              "<style scoped>\n",
              "    .dataframe tbody tr th:only-of-type {\n",
              "        vertical-align: middle;\n",
              "    }\n",
              "\n",
              "    .dataframe tbody tr th {\n",
              "        vertical-align: top;\n",
              "    }\n",
              "\n",
              "    .dataframe thead th {\n",
              "        text-align: right;\n",
              "    }\n",
              "</style>\n",
              "<table border=\"1\" class=\"dataframe\">\n",
              "  <thead>\n",
              "    <tr style=\"text-align: right;\">\n",
              "      <th></th>\n",
              "      <th>homeid</th>\n",
              "      <th>energytype</th>\n",
              "      <th>daily_standing_charge_pence</th>\n",
              "    </tr>\n",
              "  </thead>\n",
              "  <tbody>\n",
              "    <tr>\n",
              "      <th>2</th>\n",
              "      <td>62</td>\n",
              "      <td>gas</td>\n",
              "      <td>24.74</td>\n",
              "    </tr>\n",
              "    <tr>\n",
              "      <th>4</th>\n",
              "      <td>61</td>\n",
              "      <td>gas</td>\n",
              "      <td>0.30</td>\n",
              "    </tr>\n",
              "    <tr>\n",
              "      <th>7</th>\n",
              "      <td>64</td>\n",
              "      <td>gas</td>\n",
              "      <td>22.00</td>\n",
              "    </tr>\n",
              "    <tr>\n",
              "      <th>8</th>\n",
              "      <td>64</td>\n",
              "      <td>gas</td>\n",
              "      <td>21.00</td>\n",
              "    </tr>\n",
              "    <tr>\n",
              "      <th>10</th>\n",
              "      <td>65</td>\n",
              "      <td>gas</td>\n",
              "      <td>3.45</td>\n",
              "    </tr>\n",
              "  </tbody>\n",
              "</table>\n",
              "</div>"
            ],
            "text/plain": [
              "    homeid energytype  daily_standing_charge_pence\n",
              "2       62        gas                        24.74\n",
              "4       61        gas                         0.30\n",
              "7       64        gas                        22.00\n",
              "8       64        gas                        21.00\n",
              "10      65        gas                         3.45"
            ]
          },
          "metadata": {},
          "execution_count": 7
        }
      ]
    },
    {
      "cell_type": "code",
      "source": [
        "# remove rows and columns with Null/NaN values.\n",
        "cleaned_df_gas = df_gas.dropna()\n",
        "cleaned_df_gas.shape"
      ],
      "metadata": {
        "colab": {
          "base_uri": "https://localhost:8080/"
        },
        "id": "r1jJ1NBOusmK",
        "outputId": "913787ac-eb94-4f7a-e7cd-7fba03d04a9d"
      },
      "execution_count": 8,
      "outputs": [
        {
          "output_type": "execute_result",
          "data": {
            "text/plain": [
              "(281, 3)"
            ]
          },
          "metadata": {},
          "execution_count": 8
        }
      ]
    },
    {
      "cell_type": "code",
      "source": [
        "# remove zeros\n",
        "cleaned_df_gas = cleaned_df_gas.loc[df['daily_standing_charge_pence'] != 0]\n",
        "cleaned_df_gas.shape"
      ],
      "metadata": {
        "colab": {
          "base_uri": "https://localhost:8080/"
        },
        "id": "fZwMGG8ivg1K",
        "outputId": "a00dfe5a-5d24-44d7-d245-ebca9712161d"
      },
      "execution_count": 9,
      "outputs": [
        {
          "output_type": "execute_result",
          "data": {
            "text/plain": [
              "(269, 3)"
            ]
          },
          "metadata": {},
          "execution_count": 9
        }
      ]
    },
    {
      "cell_type": "code",
      "source": [
        "cleaned_df_gas.describe()"
      ],
      "metadata": {
        "colab": {
          "base_uri": "https://localhost:8080/",
          "height": 300
        },
        "id": "m_cSFkomuQTL",
        "outputId": "42bcd67e-a6a9-4ce7-fd62-34676233b091"
      },
      "execution_count": 10,
      "outputs": [
        {
          "output_type": "execute_result",
          "data": {
            "text/html": [
              "<div>\n",
              "<style scoped>\n",
              "    .dataframe tbody tr th:only-of-type {\n",
              "        vertical-align: middle;\n",
              "    }\n",
              "\n",
              "    .dataframe tbody tr th {\n",
              "        vertical-align: top;\n",
              "    }\n",
              "\n",
              "    .dataframe thead th {\n",
              "        text-align: right;\n",
              "    }\n",
              "</style>\n",
              "<table border=\"1\" class=\"dataframe\">\n",
              "  <thead>\n",
              "    <tr style=\"text-align: right;\">\n",
              "      <th></th>\n",
              "      <th>homeid</th>\n",
              "      <th>daily_standing_charge_pence</th>\n",
              "    </tr>\n",
              "  </thead>\n",
              "  <tbody>\n",
              "    <tr>\n",
              "      <th>count</th>\n",
              "      <td>269.000000</td>\n",
              "      <td>269.000000</td>\n",
              "    </tr>\n",
              "    <tr>\n",
              "      <th>mean</th>\n",
              "      <td>180.550186</td>\n",
              "      <td>21.116729</td>\n",
              "    </tr>\n",
              "    <tr>\n",
              "      <th>std</th>\n",
              "      <td>76.260223</td>\n",
              "      <td>7.630907</td>\n",
              "    </tr>\n",
              "    <tr>\n",
              "      <th>min</th>\n",
              "      <td>59.000000</td>\n",
              "      <td>0.080000</td>\n",
              "    </tr>\n",
              "    <tr>\n",
              "      <th>25%</th>\n",
              "      <td>106.000000</td>\n",
              "      <td>17.000000</td>\n",
              "    </tr>\n",
              "    <tr>\n",
              "      <th>50%</th>\n",
              "      <td>183.000000</td>\n",
              "      <td>22.000000</td>\n",
              "    </tr>\n",
              "    <tr>\n",
              "      <th>75%</th>\n",
              "      <td>244.000000</td>\n",
              "      <td>26.000000</td>\n",
              "    </tr>\n",
              "    <tr>\n",
              "      <th>max</th>\n",
              "      <td>335.000000</td>\n",
              "      <td>60.000000</td>\n",
              "    </tr>\n",
              "  </tbody>\n",
              "</table>\n",
              "</div>"
            ],
            "text/plain": [
              "           homeid  daily_standing_charge_pence\n",
              "count  269.000000                   269.000000\n",
              "mean   180.550186                    21.116729\n",
              "std     76.260223                     7.630907\n",
              "min     59.000000                     0.080000\n",
              "25%    106.000000                    17.000000\n",
              "50%    183.000000                    22.000000\n",
              "75%    244.000000                    26.000000\n",
              "max    335.000000                    60.000000"
            ]
          },
          "metadata": {},
          "execution_count": 10
        }
      ]
    },
    {
      "cell_type": "markdown",
      "source": [
        "# EDA\n",
        "\n",
        "Let's plot a histogram to visualise the distribution of daily_standing_charge_pence corresponding to the energy type of gas."
      ],
      "metadata": {
        "id": "wxLIKNqDxJOH"
      }
    },
    {
      "cell_type": "code",
      "source": [
        "sns.histplot(data=cleaned_df_gas, x='daily_standing_charge_pence', binwidth=2.5)\n",
        "\n",
        "plt.show()"
      ],
      "metadata": {
        "colab": {
          "base_uri": "https://localhost:8080/",
          "height": 280
        },
        "id": "D8RjmPcCxMML",
        "outputId": "61cb1938-4a6e-40ae-f124-e4a6009c0532"
      },
      "execution_count": 11,
      "outputs": [
        {
          "output_type": "display_data",
          "data": {
            "image/png": "[encoded data removed]",
            "text/plain": [
              "<Figure size 432x288 with 1 Axes>"
            ]
          },
          "metadata": {
            "needs_background": "light"
          }
        }
      ]
    },
    {
      "cell_type": "markdown",
      "source": [
        "# K-means clustering\n",
        "\n",
        "We use [sklearn.cluster.KMeans](https://scikit-learn.org/stable/modules/generated/sklearn.cluster.KMeans.html) for K-means clustering experiments."
      ],
      "metadata": {
        "id": "q0jt9bC1zG2P"
      }
    },
    {
      "cell_type": "code",
      "source": [
        "# To train K-means model, as the input, we need provide X: array-like/sparse matrix of shape (n_samples, n_features).\n",
        "x = np.array(cleaned_df_gas['daily_standing_charge_pence']).reshape(-1,1)\n",
        "x.shape"
      ],
      "metadata": {
        "colab": {
          "base_uri": "https://localhost:8080/"
        },
        "id": "1FEBfG8mzJL1",
        "outputId": "a42244ec-2e17-4edc-c4c4-c9637164a2f6"
      },
      "execution_count": 13,
      "outputs": [
        {
          "output_type": "execute_result",
          "data": {
            "text/plain": [
              "(269, 1)"
            ]
          },
          "metadata": {},
          "execution_count": 13
        }
      ]
    },
    {
      "cell_type": "markdown",
      "source": [
        "For K-means clustering, we have to define the number of clusters as a parameter. \n",
        "\n",
        "Let's run K-means algorithm with k (number of cluster) = 2, 3, 4, 5"
      ],
      "metadata": {
        "id": "eahW5QL3-_GZ"
      }
    },
    {
      "cell_type": "markdown",
      "source": [
        "## k=2"
      ],
      "metadata": {
        "id": "2IYzixwu_P6i"
      }
    },
    {
      "cell_type": "code",
      "source": [
        "kmeans = KMeans(n_clusters=2, random_state=1234)  # create an instance of the class KMeans, giving number of clusters and random state as parameters\n",
        "kmeans.fit(x)  # train model \n",
        " \n",
        "# predict assigned cluster labels\n",
        "labels = kmeans.predict(x)\n",
        "print(f'predicted clusters:\\n {labels}')"
      ],
      "metadata": {
        "colab": {
          "base_uri": "https://localhost:8080/"
        },
        "id": "PKWMGVqO1Ot8",
        "outputId": "a9122234-f139-4af7-ab8f-db793be544ed"
      },
      "execution_count": 14,
      "outputs": [
        {
          "output_type": "stream",
          "name": "stdout",
          "text": [
            "predicted clusters:\n",
            " [0 1 0 0 1 1 0 0 1 1 0 0 0 0 1 1 1 0 0 1 1 0 0 1 1 1 1 1 0 0 0 0 0 0 0 0 0\n",
            " 0 0 0 0 1 0 0 1 1 1 0 0 0 0 0 0 0 1 1 0 1 0 0 0 0 1 1 0 1 1 1 0 0 0 1 0 0\n",
            " 0 0 0 0 0 0 1 0 1 0 1 0 0 0 0 0 1 1 1 0 0 1 0 1 0 0 0 0 1 1 1 1 0 0 0 1 0\n",
            " 0 0 1 1 0 0 0 0 0 0 0 0 0 1 1 0 0 0 0 1 0 0 0 0 0 1 1 0 0 0 1 0 0 0 0 1 0\n",
            " 1 0 0 0 0 0 1 1 0 0 0 0 0 0 0 0 0 1 0 0 0 0 1 0 0 0 0 1 0 0 1 0 0 0 0 0 0\n",
            " 0 0 0 0 0 0 0 1 1 0 0 0 1 0 0 0 0 0 1 0 0 0 0 0 1 0 0 1 1 1 1 0 0 0 0 0 1\n",
            " 0 0 0 1 0 0 0 0 1 0 0 0 0 1 0 0 0 0 0 0 0 0 0 0 0 1 0 0 0 0 0 0 1 0 1 0 0\n",
            " 1 1 0 0 0 1 0 0 0 0]\n"
          ]
        }
      ]
    },
    {
      "cell_type": "code",
      "source": [
        "# get cluster centroids\n",
        "centroids = kmeans.cluster_centers_\n",
        "print(f'cluster centroids:\\n {centroids}')"
      ],
      "metadata": {
        "colab": {
          "base_uri": "https://localhost:8080/"
        },
        "id": "L13O5BZJ-oV4",
        "outputId": "d6615c0e-8abd-480a-d114-987da66bddf1"
      },
      "execution_count": 15,
      "outputs": [
        {
          "output_type": "stream",
          "name": "stdout",
          "text": [
            "cluster centroids:\n",
            " [[24.76870466]\n",
            " [11.84263158]]\n"
          ]
        }
      ]
    },
    {
      "cell_type": "code",
      "source": [
        "fig = plt.figure(figsize=(8, 6))\n",
        "colors = ['r', 'b']\n",
        "\n",
        "# plot data points\n",
        "for i in range(len(x)):\n",
        "  plt.plot(i, x[i], color=colors[labels[i]], marker='o', alpha=0.3)\n",
        "\n",
        "# plot centroids\n",
        "for n, y in enumerate(centroids):\n",
        "  plt.plot(len(x)/2, y, marker='^', color=colors[n], ms=10)\n",
        "\n",
        "plt.xlabel(\"index\")\n",
        "plt.ylabel(\"daily_standing_charge_pence\")\n",
        "\n",
        "plt.show()\n"
      ],
      "metadata": {
        "colab": {
          "base_uri": "https://localhost:8080/",
          "height": 388
        },
        "id": "RxzRNs5z5yB0",
        "outputId": "d07d2ff9-4f34-40c0-8d81-0c2986c3cf75"
      },
      "execution_count": 18,
      "outputs": [
        {
          "output_type": "display_data",
          "data": {
            "image/png": "[encoded data removed]",
            "text/plain": [
              "<Figure size 576x432 with 1 Axes>"
            ]
          },
          "metadata": {
            "needs_background": "light"
          }
        }
      ]
    },
    {
      "cell_type": "markdown",
      "source": [
        "To support the visualisations, we use index of data points as the x-axis."
      ],
      "metadata": {
        "id": "lhuw8eOVARbP"
      }
    },
    {
      "cell_type": "markdown",
      "source": [
        "## k=3"
      ],
      "metadata": {
        "id": "1PfnEwX9_tyY"
      }
    },
    {
      "cell_type": "code",
      "source": [
        "kmeans = KMeans(n_clusters=3, random_state=1234)  # create an instance of the class KMeans, giving number of clusters and random state as parameters\n",
        "kmeans.fit(x)  # train model \n",
        " \n",
        "# predict assigned cluster labels\n",
        "labels = kmeans.predict(x)\n",
        "print(f'predicted clusters:\\n {labels}\\n')\n",
        "\n",
        "# get cluster centroids\n",
        "centroids = kmeans.cluster_centers_\n",
        "print(f'cluster centroids:\\n {centroids}\\n')\n",
        "\n",
        "fig = plt.figure(figsize=(8, 6))\n",
        "colors = ['b', 'g', 'r']\n",
        "\n",
        "# plot data points\n",
        "for i in range(len(x)):\n",
        "  plt.plot(i, x[i], color=colors[labels[i]], marker='o', alpha=0.3)\n",
        "\n",
        "# plot centroids\n",
        "for n, y in enumerate(centroids):\n",
        "  plt.plot(len(x)/2, y, marker='^', color=colors[n], ms=10)\n",
        "\n",
        "plt.xlabel(\"index\")\n",
        "plt.ylabel(\"daily_standing_charge_pence\")\n",
        "  \n",
        "plt.show()"
      ],
      "metadata": {
        "colab": {
          "base_uri": "https://localhost:8080/",
          "height": 648
        },
        "id": "Oeb7UnoQ_xv_",
        "outputId": "43257d5a-1985-43e0-9e10-1300e2a450d6"
      },
      "execution_count": 19,
      "outputs": [
        {
          "output_type": "stream",
          "name": "stdout",
          "text": [
            "predicted clusters:\n",
            " [0 1 2 2 1 1 2 2 1 1 0 0 0 0 2 2 1 2 2 2 2 2 2 1 2 2 1 1 0 0 0 0 0 0 0 0 0\n",
            " 0 0 2 2 1 0 2 1 2 1 0 2 0 0 0 0 0 1 2 0 2 2 2 2 2 2 2 2 2 1 1 0 0 0 1 0 0\n",
            " 0 0 0 0 0 0 2 0 1 2 2 0 2 0 0 2 2 2 2 0 2 1 0 2 2 2 0 2 1 2 1 1 0 0 2 2 0\n",
            " 0 0 2 2 0 0 0 0 0 0 0 2 2 2 2 2 2 0 0 2 2 0 2 0 0 2 2 0 0 0 2 0 0 0 0 2 0\n",
            " 2 0 2 0 0 0 1 2 0 0 0 0 0 0 2 0 0 2 0 0 0 0 1 0 0 0 0 2 0 2 1 0 0 0 2 0 0\n",
            " 2 0 2 2 0 0 0 2 1 0 0 0 2 0 0 2 0 2 2 2 2 0 0 2 2 0 0 2 2 2 2 0 0 0 0 2 2\n",
            " 0 2 0 1 2 0 2 0 2 0 2 0 0 1 0 0 2 0 0 0 2 2 2 0 2 2 0 0 0 0 0 0 2 2 2 2 0\n",
            " 2 2 0 2 2 1 2 0 2 2]\n",
            "\n",
            "cluster centroids:\n",
            " [[26.50421053]\n",
            " [ 5.10285714]\n",
            " [18.63388889]]\n",
            "\n"
          ]
        },
        {
          "output_type": "display_data",
          "data": {
            "image/png": "[encoded data removed]",
            "text/plain": [
              "<Figure size 576x432 with 1 Axes>"
            ]
          },
          "metadata": {
            "needs_background": "light"
          }
        }
      ]
    },
    {
      "cell_type": "markdown",
      "source": [
        "## k=4"
      ],
      "metadata": {
        "id": "l6Evu8LpBlIb"
      }
    },
    {
      "cell_type": "code",
      "source": [
        "kmeans = KMeans(n_clusters=4, random_state=1234)  # create an instance of the class KMeans, giving number of clusters and random state as parameters\n",
        "kmeans.fit(x)  # train model \n",
        " \n",
        "# predict assigned cluster labels\n",
        "labels = kmeans.predict(x)\n",
        "print(f'predicted clusters:\\n {labels}\\n')\n",
        "\n",
        "# get cluster centroids\n",
        "centroids = kmeans.cluster_centers_\n",
        "print(f'cluster centroids:\\n {centroids}\\n')\n",
        "\n",
        "fig = plt.figure(figsize=(8, 6))\n",
        "colors = ['b', 'g', 'r', 'y']\n",
        "\n",
        "# plot data points\n",
        "for i in range(len(x)):\n",
        "  plt.plot(i, x[i], color=colors[labels[i]], marker='o', alpha=0.3)\n",
        "\n",
        "# plot centroids\n",
        "for n, y in enumerate(centroids):\n",
        "  plt.plot(len(x)/2, y, marker='^', color=colors[n], ms=10)\n",
        "\n",
        "plt.xlabel(\"index\")\n",
        "plt.ylabel(\"daily_standing_charge_pence\")\n",
        "  \n",
        "plt.show()"
      ],
      "metadata": {
        "colab": {
          "base_uri": "https://localhost:8080/",
          "height": 666
        },
        "id": "zOBQm6XUBmjB",
        "outputId": "572e82a9-98a8-464b-cade-6efa735073d7"
      },
      "execution_count": 20,
      "outputs": [
        {
          "output_type": "stream",
          "name": "stdout",
          "text": [
            "predicted clusters:\n",
            " [0 1 0 2 1 1 0 2 1 1 0 0 0 0 2 2 1 0 2 2 2 0 0 1 2 2 1 1 0 0 0 0 0 0 0 0 0\n",
            " 0 0 0 0 1 0 2 1 2 1 0 0 0 0 0 0 0 1 2 0 2 2 2 2 2 2 2 0 2 1 1 0 0 0 1 0 0\n",
            " 0 0 0 0 0 0 2 0 1 0 2 0 2 0 0 0 2 2 2 0 0 1 0 2 2 2 0 0 1 2 1 1 0 0 2 2 0\n",
            " 3 3 2 2 0 0 0 0 0 0 0 0 2 2 2 2 2 0 0 2 0 0 2 0 0 2 2 0 0 0 2 0 0 0 0 2 0\n",
            " 2 0 0 0 0 0 1 2 0 0 0 0 0 0 2 0 0 2 0 0 0 0 1 0 0 0 0 2 0 0 1 0 0 0 2 0 0\n",
            " 2 0 0 0 0 0 0 2 1 0 0 0 2 0 0 2 0 0 2 0 2 0 0 0 2 0 0 2 2 2 2 0 0 0 0 0 2\n",
            " 0 2 0 1 2 0 2 0 2 0 0 0 0 1 0 0 0 0 0 0 0 0 2 0 0 2 0 0 0 0 0 0 2 2 2 0 0\n",
            " 2 2 0 0 2 1 2 0 0 2]\n",
            "\n",
            "cluster centroids:\n",
            " [[25.23679012]\n",
            " [ 5.10285714]\n",
            " [17.28779221]\n",
            " [59.        ]]\n",
            "\n"
          ]
        },
        {
          "output_type": "display_data",
          "data": {
            "image/png": "[encoded data removed]",
            "text/plain": [
              "<Figure size 576x432 with 1 Axes>"
            ]
          },
          "metadata": {
            "needs_background": "light"
          }
        }
      ]
    },
    {
      "cell_type": "markdown",
      "source": [
        "## k=5"
      ],
      "metadata": {
        "id": "MlL8gkF1CC8q"
      }
    },
    {
      "cell_type": "code",
      "source": [
        "kmeans = KMeans(n_clusters=5, random_state=1234)  # create an instance of the class KMeans, giving number of clusters and random state as parameters\n",
        "kmeans.fit(x)  # train model \n",
        " \n",
        "# predict assigned cluster labels\n",
        "labels = kmeans.predict(x)\n",
        "print(f'predicted clusters:\\n {labels}\\n')\n",
        "\n",
        "# get cluster centroids\n",
        "centroids = kmeans.cluster_centers_\n",
        "print(f'cluster centroids:\\n {centroids}\\n')\n",
        "\n",
        "fig = plt.figure(figsize=(8, 6))\n",
        "colors = ['b', 'g', 'r', 'y', 'm']\n",
        "\n",
        "# plot data points\n",
        "for i in range(len(x)):\n",
        "  plt.plot(i, x[i], color=colors[labels[i]], marker='o', alpha=0.3)\n",
        "\n",
        "# plot centroids\n",
        "for n, y in enumerate(centroids):\n",
        "  plt.plot(len(x)/2, y, marker='^', color=colors[n], ms=10)\n",
        "\n",
        "plt.xlabel(\"index\")\n",
        "plt.ylabel(\"daily_standing_charge_pence\")\n",
        "  \n",
        "plt.show()"
      ],
      "metadata": {
        "colab": {
          "base_uri": "https://localhost:8080/",
          "height": 683
        },
        "id": "HKvI-9qUCFEP",
        "outputId": "52d187b2-9e86-4fd5-b811-27bf71b07785"
      },
      "execution_count": 21,
      "outputs": [
        {
          "output_type": "stream",
          "name": "stdout",
          "text": [
            "predicted clusters:\n",
            " [3 1 0 0 1 1 0 0 1 1 3 3 0 0 4 4 1 0 0 4 4 0 0 1 4 4 1 1 0 0 0 0 3 3 3 3 3\n",
            " 3 3 0 0 1 0 4 1 4 1 3 0 3 3 3 3 3 1 4 3 4 0 4 4 0 4 4 0 4 4 1 0 3 0 1 3 3\n",
            " 3 3 3 0 0 0 4 3 1 0 4 3 0 3 3 0 4 4 4 0 0 1 3 4 0 4 3 0 1 4 1 1 3 3 4 4 3\n",
            " 2 2 4 4 3 0 0 3 3 3 3 0 0 4 4 0 4 0 0 4 0 3 4 3 3 4 4 3 3 3 4 0 0 3 3 4 3\n",
            " 4 0 0 0 3 3 1 4 0 3 3 3 3 3 4 3 0 4 0 0 0 3 1 3 3 3 3 4 3 0 1 3 3 3 4 3 0\n",
            " 4 3 0 0 3 3 3 4 1 3 3 3 4 3 0 4 3 0 4 0 0 3 3 0 4 3 0 4 4 4 4 3 3 3 0 0 4\n",
            " 3 4 3 1 4 3 0 3 4 0 0 3 3 1 3 3 0 3 0 3 0 0 0 3 0 4 3 3 3 3 3 0 4 4 4 0 3\n",
            " 4 4 0 0 0 1 0 0 0 0]\n",
            "\n",
            "cluster centroids:\n",
            " [[22.30469136]\n",
            " [ 4.88444444]\n",
            " [59.        ]\n",
            " [26.97583333]\n",
            " [16.4152381 ]]\n",
            "\n"
          ]
        },
        {
          "output_type": "display_data",
          "data": {
            "image/png": "[encoded data removed]",
            "text/plain": [
              "<Figure size 576x432 with 1 Axes>"
            ]
          },
          "metadata": {
            "needs_background": "light"
          }
        }
      ]
    },
    {
      "cell_type": "markdown",
      "source": [
        "## Elbow Method\n",
        "\n",
        "The Elbow Method is one of the most popular methods to determine the optimal value of k.\n",
        "\n",
        "This runs k-means clustering on the dataset for a range of values for k and then for each value of k computes an average score for all clusters (e.g. within cluster sum of squares). The optimal k can be visually determined when these overall metrics for each model are plotted in a line chart. If the line chart looks like an arm, then the *elbow* is the best value of k. In other words, this is when the within cluster sum of squares (WCSS) doesn't decrease significantly with every iteration. \n"
      ],
      "metadata": {
        "id": "6JIOV9jwCNqd"
      }
    },
    {
      "cell_type": "code",
      "source": [
        "wcss = []\n",
        "\n",
        "for i in range(1, 11):\n",
        "    kmeans = KMeans(n_clusters = i, init = 'k-means++', random_state=1234)\n",
        "    kmeans.fit(x)\n",
        "    wcss.append(kmeans.inertia_)  # get within cluster sum of squares (squared distances)\n",
        "    \n",
        "# Plot the results onto a line graph, allowing us to observe 'The elbow'\n",
        "plt.plot(range(1, 11), wcss)\n",
        "plt.title('The elbow method')\n",
        "plt.xlabel('Number of clusters')\n",
        "plt.ylabel('WCSS')\n",
        "plt.show()"
      ],
      "metadata": {
        "colab": {
          "base_uri": "https://localhost:8080/",
          "height": 295
        },
        "id": "KDAr334-CTlB",
        "outputId": "a1717f31-26db-47fa-dec2-2c363318d142"
      },
      "execution_count": 22,
      "outputs": [
        {
          "output_type": "display_data",
          "data": {
            "image/png": "[encoded data removed]",
            "text/plain": [
              "<Figure size 432x288 with 1 Axes>"
            ]
          },
          "metadata": {
            "needs_background": "light"
          }
        }
      ]
    },
    {
      "cell_type": "markdown",
      "source": [
        "Looking at the above graph, we can recognise that the optimal k=4."
      ],
      "metadata": {
        "id": "q8h16OWXOuz-"
      }
    },
    {
      "cell_type": "markdown",
      "source": [
        "## Optimal Clusters"
      ],
      "metadata": {
        "id": "QwkxPKTEQj2k"
      }
    },
    {
      "cell_type": "code",
      "source": [
        "kmeans = KMeans(n_clusters = 4, random_state=1234)  # create an instance of the class KMeans, giving number of clusters and random state as parameters\n",
        "kmeans.fit(x)  # train model \n",
        " \n",
        "# predict assigned cluster labels\n",
        "labels = kmeans.predict(x)\n",
        "print(f'predicted clusters:\\n {labels}\\n')\n",
        "\n",
        "# get cluster centroids\n",
        "centroids = kmeans.cluster_centers_\n",
        "print(f'cluster centroids:\\n {centroids}\\n')\n",
        "\n",
        "fig = plt.figure(figsize=(8, 6))\n",
        "colors = ['b', 'g', 'r', 'y']\n",
        "\n",
        "# plot data points\n",
        "for i in range(len(x)):\n",
        "  plt.plot(i, x[i], color=colors[labels[i]], marker='o', alpha=0.3)\n",
        "\n",
        "# plot centroids\n",
        "for n, y in enumerate(centroids):\n",
        "  plt.plot(len(x)/2, y, marker='^', color=colors[n], ms=10)\n",
        "\n",
        "plt.xlabel(\"index\")\n",
        "plt.ylabel(\"daily_standing_charge_pence\")\n",
        "  \n",
        "plt.show()"
      ],
      "metadata": {
        "colab": {
          "base_uri": "https://localhost:8080/",
          "height": 666
        },
        "id": "HwWBLFmlQ8Ya",
        "outputId": "c58cbce5-29a7-4046-c1df-0e203b981c0e"
      },
      "execution_count": 23,
      "outputs": [
        {
          "output_type": "stream",
          "name": "stdout",
          "text": [
            "predicted clusters:\n",
            " [0 1 0 2 1 1 0 2 1 1 0 0 0 0 2 2 1 0 2 2 2 0 0 1 2 2 1 1 0 0 0 0 0 0 0 0 0\n",
            " 0 0 0 0 1 0 2 1 2 1 0 0 0 0 0 0 0 1 2 0 2 2 2 2 2 2 2 0 2 1 1 0 0 0 1 0 0\n",
            " 0 0 0 0 0 0 2 0 1 0 2 0 2 0 0 0 2 2 2 0 0 1 0 2 2 2 0 0 1 2 1 1 0 0 2 2 0\n",
            " 3 3 2 2 0 0 0 0 0 0 0 0 2 2 2 2 2 0 0 2 0 0 2 0 0 2 2 0 0 0 2 0 0 0 0 2 0\n",
            " 2 0 0 0 0 0 1 2 0 0 0 0 0 0 2 0 0 2 0 0 0 0 1 0 0 0 0 2 0 0 1 0 0 0 2 0 0\n",
            " 2 0 0 0 0 0 0 2 1 0 0 0 2 0 0 2 0 0 2 0 2 0 0 0 2 0 0 2 2 2 2 0 0 0 0 0 2\n",
            " 0 2 0 1 2 0 2 0 2 0 0 0 0 1 0 0 0 0 0 0 0 0 2 0 0 2 0 0 0 0 0 0 2 2 2 0 0\n",
            " 2 2 0 0 2 1 2 0 0 2]\n",
            "\n",
            "cluster centroids:\n",
            " [[25.23679012]\n",
            " [ 5.10285714]\n",
            " [17.28779221]\n",
            " [59.        ]]\n",
            "\n"
          ]
        },
        {
          "output_type": "display_data",
          "data": {
            "image/png": "[encoded data removed]",
            "text/plain": [
              "<Figure size 576x432 with 1 Axes>"
            ]
          },
          "metadata": {
            "needs_background": "light"
          }
        }
      ]
    },
    {
      "cell_type": "markdown",
      "source": [
        "K-means returns a number as the cluster ID (0, 1, 2, 3). Let's convert them to meaningful names.\n",
        "\n",
        "To understand the properties of each cluster, we can simply use the cluster centroid values.\n",
        "\n",
        "| cluster ID  | Centroid  |  Color    |  Name     |\n",
        "| ----------- | --------: | -------:  | -------:  |\n",
        "| 0           | 25.2368   | blue (b)  | high      |\n",
        "| 1           |  5.1029   | green (g) | very low  |\n",
        "| 2           | 17.2878   | red (r)   | low       |\n",
        "| 3           | 59.0000   | yellow (y)| very high |"
      ],
      "metadata": {
        "id": "IpQFDRRHRDDV"
      }
    },
    {
      "cell_type": "code",
      "source": [
        "# replace cluster IDs by names\n",
        "conditions = [labels==0, labels==1, labels==2, labels==3]\n",
        "choice = ['high', 'very low', 'low', 'very high']\n",
        "\n",
        "label_names = np.select(conditions, choice)\n",
        "print(label_names)"
      ],
      "metadata": {
        "colab": {
          "base_uri": "https://localhost:8080/"
        },
        "id": "Tk3bWhNdTBxS",
        "outputId": "eb17238c-82e0-4e1e-95ee-b4c370e8276b"
      },
      "execution_count": 24,
      "outputs": [
        {
          "output_type": "stream",
          "name": "stdout",
          "text": [
            "['high' 'very low' 'high' 'low' 'very low' 'very low' 'high' 'low'\n",
            " 'very low' 'very low' 'high' 'high' 'high' 'high' 'low' 'low' 'very low'\n",
            " 'high' 'low' 'low' 'low' 'high' 'high' 'very low' 'low' 'low' 'very low'\n",
            " 'very low' 'high' 'high' 'high' 'high' 'high' 'high' 'high' 'high' 'high'\n",
            " 'high' 'high' 'high' 'high' 'very low' 'high' 'low' 'very low' 'low'\n",
            " 'very low' 'high' 'high' 'high' 'high' 'high' 'high' 'high' 'very low'\n",
            " 'low' 'high' 'low' 'low' 'low' 'low' 'low' 'low' 'low' 'high' 'low'\n",
            " 'very low' 'very low' 'high' 'high' 'high' 'very low' 'high' 'high'\n",
            " 'high' 'high' 'high' 'high' 'high' 'high' 'low' 'high' 'very low' 'high'\n",
            " 'low' 'high' 'low' 'high' 'high' 'high' 'low' 'low' 'low' 'high' 'high'\n",
            " 'very low' 'high' 'low' 'low' 'low' 'high' 'high' 'very low' 'low'\n",
            " 'very low' 'very low' 'high' 'high' 'low' 'low' 'high' 'very high'\n",
            " 'very high' 'low' 'low' 'high' 'high' 'high' 'high' 'high' 'high' 'high'\n",
            " 'high' 'low' 'low' 'low' 'low' 'low' 'high' 'high' 'low' 'high' 'high'\n",
            " 'low' 'high' 'high' 'low' 'low' 'high' 'high' 'high' 'low' 'high' 'high'\n",
            " 'high' 'high' 'low' 'high' 'low' 'high' 'high' 'high' 'high' 'high'\n",
            " 'very low' 'low' 'high' 'high' 'high' 'high' 'high' 'high' 'low' 'high'\n",
            " 'high' 'low' 'high' 'high' 'high' 'high' 'very low' 'high' 'high' 'high'\n",
            " 'high' 'low' 'high' 'high' 'very low' 'high' 'high' 'high' 'low' 'high'\n",
            " 'high' 'low' 'high' 'high' 'high' 'high' 'high' 'high' 'low' 'very low'\n",
            " 'high' 'high' 'high' 'low' 'high' 'high' 'low' 'high' 'high' 'low' 'high'\n",
            " 'low' 'high' 'high' 'high' 'low' 'high' 'high' 'low' 'low' 'low' 'low'\n",
            " 'high' 'high' 'high' 'high' 'high' 'low' 'high' 'low' 'high' 'very low'\n",
            " 'low' 'high' 'low' 'high' 'low' 'high' 'high' 'high' 'high' 'very low'\n",
            " 'high' 'high' 'high' 'high' 'high' 'high' 'high' 'high' 'low' 'high'\n",
            " 'high' 'low' 'high' 'high' 'high' 'high' 'high' 'high' 'low' 'low' 'low'\n",
            " 'high' 'high' 'low' 'low' 'high' 'high' 'low' 'very low' 'low' 'high'\n",
            " 'high' 'low']\n"
          ]
        }
      ]
    },
    {
      "cell_type": "code",
      "source": [
        "# update DataFrame with clusters column\n",
        "cleaned_df_gas['clusters'] = label_names\n",
        "cleaned_df_gas.head(5)"
      ],
      "metadata": {
        "colab": {
          "base_uri": "https://localhost:8080/",
          "height": 206
        },
        "id": "sT49QPBtVs7v",
        "outputId": "61b076b3-6881-4313-efae-401737930717"
      },
      "execution_count": 25,
      "outputs": [
        {
          "output_type": "execute_result",
          "data": {
            "text/html": [
              "<div>\n",
              "<style scoped>\n",
              "    .dataframe tbody tr th:only-of-type {\n",
              "        vertical-align: middle;\n",
              "    }\n",
              "\n",
              "    .dataframe tbody tr th {\n",
              "        vertical-align: top;\n",
              "    }\n",
              "\n",
              "    .dataframe thead th {\n",
              "        text-align: right;\n",
              "    }\n",
              "</style>\n",
              "<table border=\"1\" class=\"dataframe\">\n",
              "  <thead>\n",
              "    <tr style=\"text-align: right;\">\n",
              "      <th></th>\n",
              "      <th>homeid</th>\n",
              "      <th>energytype</th>\n",
              "      <th>daily_standing_charge_pence</th>\n",
              "      <th>clusters</th>\n",
              "    </tr>\n",
              "  </thead>\n",
              "  <tbody>\n",
              "    <tr>\n",
              "      <th>2</th>\n",
              "      <td>62</td>\n",
              "      <td>gas</td>\n",
              "      <td>24.74</td>\n",
              "      <td>high</td>\n",
              "    </tr>\n",
              "    <tr>\n",
              "      <th>4</th>\n",
              "      <td>61</td>\n",
              "      <td>gas</td>\n",
              "      <td>0.30</td>\n",
              "      <td>very low</td>\n",
              "    </tr>\n",
              "    <tr>\n",
              "      <th>7</th>\n",
              "      <td>64</td>\n",
              "      <td>gas</td>\n",
              "      <td>22.00</td>\n",
              "      <td>high</td>\n",
              "    </tr>\n",
              "    <tr>\n",
              "      <th>8</th>\n",
              "      <td>64</td>\n",
              "      <td>gas</td>\n",
              "      <td>21.00</td>\n",
              "      <td>low</td>\n",
              "    </tr>\n",
              "    <tr>\n",
              "      <th>10</th>\n",
              "      <td>65</td>\n",
              "      <td>gas</td>\n",
              "      <td>3.45</td>\n",
              "      <td>very low</td>\n",
              "    </tr>\n",
              "  </tbody>\n",
              "</table>\n",
              "</div>"
            ],
            "text/plain": [
              "    homeid energytype  daily_standing_charge_pence  clusters\n",
              "2       62        gas                        24.74      high\n",
              "4       61        gas                         0.30  very low\n",
              "7       64        gas                        22.00      high\n",
              "8       64        gas                        21.00       low\n",
              "10      65        gas                         3.45  very low"
            ]
          },
          "metadata": {},
          "execution_count": 25
        }
      ]
    },
    {
      "cell_type": "code",
      "source": [
        "# save updated DataFrame\n",
        "cleaned_df_gas.to_csv(\"/content/tariff_gas_clusters.csv\", index=False)"
      ],
      "metadata": {
        "id": "Qf_Op6n4dkSv"
      },
      "execution_count": 26,
      "outputs": []
    }
  ]
}