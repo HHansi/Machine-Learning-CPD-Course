{
  "nbformat": 4,
  "nbformat_minor": 0,
  "metadata": {
    "colab": {
      "name": "Data Cleaning and Visualisation.ipynb",
      "provenance": [],
      "authorship_tag": "ABX9TyOuoVXEeh4vAjuZIZd8d4HP",
      "include_colab_link": true
    },
    "kernelspec": {
      "name": "python3",
      "display_name": "Python 3"
    },
    "language_info": {
      "name": "python"
    }
  },
  "cells": [
    {
      "cell_type": "markdown",
      "metadata": {
        "id": "view-in-github",
        "colab_type": "text"
      },
      "source": [
        "<a href=\"https://colab.research.google.com/github/HHansi/Machine-Learning-CPD-Course/blob/main/Data_Cleaning_and_Visualisation.ipynb\" target=\"_parent\"><img src=\"https://colab.research.google.com/assets/colab-badge.svg\" alt=\"Open In Colab\"/></a>"
      ]
    },
    {
      "cell_type": "markdown",
      "metadata": {
        "id": "vQikltBsLGLL"
      },
      "source": [
        "<font size=\"5.5\">Targeted Problem <font>\n",
        "\n",
        "**Can we predict the type of the house or its floor area, knowing the number of family members and income?**\n",
        "\n",
        "Before considering how machine learning can be used to solve this problem, let's be familiar with the available data set."
      ]
    },
    {
      "cell_type": "code",
      "metadata": {
        "id": "Y1jdsPZ2vagA"
      },
      "source": [
        "# Import libraries\n",
        "import pandas as pd"
      ],
      "execution_count": 1,
      "outputs": []
    },
    {
      "cell_type": "code",
      "source": [
        "'''\n",
        "Load the data set\n",
        "Pandas read_csv() function reads a comma-separated values (csv) file into DataFrame.\n",
        "As the parameter, the file path should be provided. Additionally, GitHub URL also provided as folloes.\n",
        "'''\n",
        "df = pd.read_csv(\"https://raw.githubusercontent.com/HHansi/Machine-Learning-CPD-Course/main/Data/home_data.csv\")\n",
        "df.head(5)  # see first 5 rows of the DataFrame"
      ],
      "metadata": {
        "colab": {
          "base_uri": "https://localhost:8080/",
          "height": 206
        },
        "id": "-pdJzChHgmAI",
        "outputId": "86b218b9-d73c-4538-d8f2-c37ba5b54bf9"
      },
      "execution_count": 3,
      "outputs": [
        {
          "output_type": "execute_result",
          "data": {
            "text/html": [
              "<div>\n",
              "<style scoped>\n",
              "    .dataframe tbody tr th:only-of-type {\n",
              "        vertical-align: middle;\n",
              "    }\n",
              "\n",
              "    .dataframe tbody tr th {\n",
              "        vertical-align: top;\n",
              "    }\n",
              "\n",
              "    .dataframe thead th {\n",
              "        text-align: right;\n",
              "    }\n",
              "</style>\n",
              "<table border=\"1\" class=\"dataframe\">\n",
              "  <thead>\n",
              "    <tr style=\"text-align: right;\">\n",
              "      <th></th>\n",
              "      <th>homeid</th>\n",
              "      <th>install_type</th>\n",
              "      <th>location</th>\n",
              "      <th>residents</th>\n",
              "      <th>income_band</th>\n",
              "      <th>hometype</th>\n",
              "      <th>floorarea</th>\n",
              "    </tr>\n",
              "  </thead>\n",
              "  <tbody>\n",
              "    <tr>\n",
              "      <th>0</th>\n",
              "      <td>47</td>\n",
              "      <td>standard</td>\n",
              "      <td>Edinburgh</td>\n",
              "      <td>2</td>\n",
              "      <td>NaN</td>\n",
              "      <td>flat</td>\n",
              "      <td>427</td>\n",
              "    </tr>\n",
              "    <tr>\n",
              "      <th>1</th>\n",
              "      <td>59</td>\n",
              "      <td>standard</td>\n",
              "      <td>Edinburgh</td>\n",
              "      <td>2</td>\n",
              "      <td>£90,000 or more</td>\n",
              "      <td>flat</td>\n",
              "      <td>760</td>\n",
              "    </tr>\n",
              "    <tr>\n",
              "      <th>2</th>\n",
              "      <td>61</td>\n",
              "      <td>enhanced</td>\n",
              "      <td>Edinburgh</td>\n",
              "      <td>2</td>\n",
              "      <td>£48,600 to £53,999</td>\n",
              "      <td>house_or_bungalow</td>\n",
              "      <td>685</td>\n",
              "    </tr>\n",
              "    <tr>\n",
              "      <th>3</th>\n",
              "      <td>62</td>\n",
              "      <td>enhanced</td>\n",
              "      <td>Edinburgh</td>\n",
              "      <td>2</td>\n",
              "      <td>£43,200 to £48,599</td>\n",
              "      <td>flat</td>\n",
              "      <td>815</td>\n",
              "    </tr>\n",
              "    <tr>\n",
              "      <th>4</th>\n",
              "      <td>64</td>\n",
              "      <td>standard</td>\n",
              "      <td>Edinburgh</td>\n",
              "      <td>4</td>\n",
              "      <td>£66,000 to £77,999</td>\n",
              "      <td>flat</td>\n",
              "      <td>650</td>\n",
              "    </tr>\n",
              "  </tbody>\n",
              "</table>\n",
              "</div>"
            ],
            "text/plain": [
              "   homeid install_type  ...           hometype  floorarea\n",
              "0      47     standard  ...               flat        427\n",
              "1      59     standard  ...               flat        760\n",
              "2      61     enhanced  ...  house_or_bungalow        685\n",
              "3      62     enhanced  ...               flat        815\n",
              "4      64     standard  ...               flat        650\n",
              "\n",
              "[5 rows x 7 columns]"
            ]
          },
          "metadata": {},
          "execution_count": 3
        }
      ]
    },
    {
      "cell_type": "markdown",
      "metadata": {
        "id": "RG7OGfJlwIA4"
      },
      "source": [
        "## Description of the Data Set\n",
        "As can be seen in the above output (first 5 rows of the data set), this data set consists of 7 columns describing different household compositions with the space.\n",
        "\n",
        "\n",
        "*   homeid - unique id assigned to each home\n",
        "*   install_type - home installation type\n",
        "*   location - home location\n",
        "*   residents - number of residents in the home\n",
        "*   income_band - income of the residents formatted into a set of categories/bands\n",
        "*   hometype - type of the home\n",
        "*   floorarea - total floor area of the home covering all rooms\n",
        "\n",
        "\n",
        "(This data set is taken from [IDEAL Household Energy Dataset](https://datashare.ed.ac.uk/handle/10283/3647).)"
      ]
    },
    {
      "cell_type": "code",
      "metadata": {
        "colab": {
          "base_uri": "https://localhost:8080/"
        },
        "id": "rEoMdYhRy8a1",
        "outputId": "b4ac5a40-5ee3-4c3b-b12d-8cf0b4514099"
      },
      "source": [
        "'''\n",
        "Print a concise summary of a DataFrame.\n",
        "Pandas info() function prints information about a DataFrame including the index dtype and columns, non-null values and memory usage.\n",
        "'''\n",
        "df.info()"
      ],
      "execution_count": 4,
      "outputs": [
        {
          "output_type": "stream",
          "name": "stdout",
          "text": [
            "<class 'pandas.core.frame.DataFrame'>\n",
            "RangeIndex: 255 entries, 0 to 254\n",
            "Data columns (total 7 columns):\n",
            " #   Column        Non-Null Count  Dtype \n",
            "---  ------        --------------  ----- \n",
            " 0   homeid        255 non-null    int64 \n",
            " 1   install_type  255 non-null    object\n",
            " 2   location      255 non-null    object\n",
            " 3   residents     255 non-null    int64 \n",
            " 4   income_band   245 non-null    object\n",
            " 5   hometype      255 non-null    object\n",
            " 6   floorarea     255 non-null    int64 \n",
            "dtypes: int64(3), object(4)\n",
            "memory usage: 14.1+ KB\n"
          ]
        }
      ]
    },
    {
      "cell_type": "code",
      "metadata": {
        "colab": {
          "base_uri": "https://localhost:8080/"
        },
        "id": "O12FzSxTHwy2",
        "outputId": "dad00ddd-ad29-4354-b97b-eab9679b2142"
      },
      "source": [
        "# Get number of rows and columns\n",
        "df.shape"
      ],
      "execution_count": 5,
      "outputs": [
        {
          "output_type": "execute_result",
          "data": {
            "text/plain": [
              "(255, 7)"
            ]
          },
          "metadata": {},
          "execution_count": 5
        }
      ]
    },
    {
      "cell_type": "code",
      "metadata": {
        "colab": {
          "base_uri": "https://localhost:8080/"
        },
        "id": "2FLdgOykIHx9",
        "outputId": "dedd4f63-a811-4c06-e476-b63d9416d6f4"
      },
      "source": [
        "# Get number of unique values in each column\n",
        "df.nunique()"
      ],
      "execution_count": 6,
      "outputs": [
        {
          "output_type": "execute_result",
          "data": {
            "text/plain": [
              "homeid          255\n",
              "install_type      2\n",
              "location          5\n",
              "residents         6\n",
              "income_band      15\n",
              "hometype          2\n",
              "floorarea       147\n",
              "dtype: int64"
            ]
          },
          "metadata": {},
          "execution_count": 6
        }
      ]
    },
    {
      "cell_type": "code",
      "metadata": {
        "colab": {
          "base_uri": "https://localhost:8080/"
        },
        "id": "joO0CFNnIjpE",
        "outputId": "9d3f4271-7ff6-42f4-8c3a-6f58db94cf21"
      },
      "source": [
        "# Find if the data set contains Null/NaN values\n",
        "df.isna().sum()"
      ],
      "execution_count": 7,
      "outputs": [
        {
          "output_type": "execute_result",
          "data": {
            "text/plain": [
              "homeid           0\n",
              "install_type     0\n",
              "location         0\n",
              "residents        0\n",
              "income_band     10\n",
              "hometype         0\n",
              "floorarea        0\n",
              "dtype: int64"
            ]
          },
          "metadata": {},
          "execution_count": 7
        }
      ]
    },
    {
      "cell_type": "markdown",
      "metadata": {
        "id": "5fFBlkoSMfdA"
      },
      "source": [
        "# Data Cleaning\n",
        "\n",
        "The above output shows that the data set has null/ missing values. As the first step under data cleaning, let's remove the instances/ rows which hold missing values."
      ]
    },
    {
      "cell_type": "code",
      "metadata": {
        "colab": {
          "base_uri": "https://localhost:8080/"
        },
        "id": "DiG1YTuqIthD",
        "outputId": "e94f791c-c543-4ffd-ee79-8a385ebbfcf5"
      },
      "source": [
        "'''\n",
        "Remove all missing values in the DataFrame. \n",
        "Pandas dropna() function removes rows and columns with Null/NaN values.\n",
        "'''\n",
        "cleaned_df = df.dropna()\n",
        "\n",
        "# Verify whether the cleaned output contains any null values\n",
        "cleaned_df.isna().sum()"
      ],
      "execution_count": 8,
      "outputs": [
        {
          "output_type": "execute_result",
          "data": {
            "text/plain": [
              "homeid          0\n",
              "install_type    0\n",
              "location        0\n",
              "residents       0\n",
              "income_band     0\n",
              "hometype        0\n",
              "floorarea       0\n",
              "dtype: int64"
            ]
          },
          "metadata": {},
          "execution_count": 8
        }
      ]
    },
    {
      "cell_type": "markdown",
      "metadata": {
        "id": "EJrMFaBvO6bf"
      },
      "source": [
        "In addition to the removal, we can have a closer look at missing values for further analyses. "
      ]
    },
    {
      "cell_type": "code",
      "metadata": {
        "colab": {
          "base_uri": "https://localhost:8080/",
          "height": 363
        },
        "id": "KYp9cilpOdYo",
        "outputId": "d48b77e8-8241-4f9e-cf7a-ac690c5b22e8"
      },
      "source": [
        "# Filter DataFrame rows which do not have income_band details\n",
        "df[df['income_band'].isna()]"
      ],
      "execution_count": 9,
      "outputs": [
        {
          "output_type": "execute_result",
          "data": {
            "text/html": [
              "<div>\n",
              "<style scoped>\n",
              "    .dataframe tbody tr th:only-of-type {\n",
              "        vertical-align: middle;\n",
              "    }\n",
              "\n",
              "    .dataframe tbody tr th {\n",
              "        vertical-align: top;\n",
              "    }\n",
              "\n",
              "    .dataframe thead th {\n",
              "        text-align: right;\n",
              "    }\n",
              "</style>\n",
              "<table border=\"1\" class=\"dataframe\">\n",
              "  <thead>\n",
              "    <tr style=\"text-align: right;\">\n",
              "      <th></th>\n",
              "      <th>homeid</th>\n",
              "      <th>install_type</th>\n",
              "      <th>location</th>\n",
              "      <th>residents</th>\n",
              "      <th>income_band</th>\n",
              "      <th>hometype</th>\n",
              "      <th>floorarea</th>\n",
              "    </tr>\n",
              "  </thead>\n",
              "  <tbody>\n",
              "    <tr>\n",
              "      <th>0</th>\n",
              "      <td>47</td>\n",
              "      <td>standard</td>\n",
              "      <td>Edinburgh</td>\n",
              "      <td>2</td>\n",
              "      <td>NaN</td>\n",
              "      <td>flat</td>\n",
              "      <td>427</td>\n",
              "    </tr>\n",
              "    <tr>\n",
              "      <th>11</th>\n",
              "      <td>73</td>\n",
              "      <td>enhanced</td>\n",
              "      <td>Edinburgh</td>\n",
              "      <td>3</td>\n",
              "      <td>NaN</td>\n",
              "      <td>flat</td>\n",
              "      <td>695</td>\n",
              "    </tr>\n",
              "    <tr>\n",
              "      <th>48</th>\n",
              "      <td>115</td>\n",
              "      <td>standard</td>\n",
              "      <td>Midlothian</td>\n",
              "      <td>3</td>\n",
              "      <td>NaN</td>\n",
              "      <td>house_or_bungalow</td>\n",
              "      <td>655</td>\n",
              "    </tr>\n",
              "    <tr>\n",
              "      <th>53</th>\n",
              "      <td>126</td>\n",
              "      <td>standard</td>\n",
              "      <td>Midlothian</td>\n",
              "      <td>1</td>\n",
              "      <td>NaN</td>\n",
              "      <td>house_or_bungalow</td>\n",
              "      <td>470</td>\n",
              "    </tr>\n",
              "    <tr>\n",
              "      <th>79</th>\n",
              "      <td>150</td>\n",
              "      <td>standard</td>\n",
              "      <td>Edinburgh</td>\n",
              "      <td>2</td>\n",
              "      <td>NaN</td>\n",
              "      <td>flat</td>\n",
              "      <td>865</td>\n",
              "    </tr>\n",
              "    <tr>\n",
              "      <th>113</th>\n",
              "      <td>185</td>\n",
              "      <td>standard</td>\n",
              "      <td>Edinburgh</td>\n",
              "      <td>3</td>\n",
              "      <td>NaN</td>\n",
              "      <td>house_or_bungalow</td>\n",
              "      <td>1065</td>\n",
              "    </tr>\n",
              "    <tr>\n",
              "      <th>119</th>\n",
              "      <td>192</td>\n",
              "      <td>standard</td>\n",
              "      <td>Edinburgh</td>\n",
              "      <td>4</td>\n",
              "      <td>NaN</td>\n",
              "      <td>house_or_bungalow</td>\n",
              "      <td>1190</td>\n",
              "    </tr>\n",
              "    <tr>\n",
              "      <th>148</th>\n",
              "      <td>225</td>\n",
              "      <td>enhanced</td>\n",
              "      <td>Edinburgh</td>\n",
              "      <td>2</td>\n",
              "      <td>NaN</td>\n",
              "      <td>flat</td>\n",
              "      <td>1275</td>\n",
              "    </tr>\n",
              "    <tr>\n",
              "      <th>171</th>\n",
              "      <td>249</td>\n",
              "      <td>enhanced</td>\n",
              "      <td>Edinburgh</td>\n",
              "      <td>2</td>\n",
              "      <td>NaN</td>\n",
              "      <td>flat</td>\n",
              "      <td>440</td>\n",
              "    </tr>\n",
              "    <tr>\n",
              "      <th>248</th>\n",
              "      <td>330</td>\n",
              "      <td>standard</td>\n",
              "      <td>EastLothian</td>\n",
              "      <td>4</td>\n",
              "      <td>NaN</td>\n",
              "      <td>house_or_bungalow</td>\n",
              "      <td>950</td>\n",
              "    </tr>\n",
              "  </tbody>\n",
              "</table>\n",
              "</div>"
            ],
            "text/plain": [
              "     homeid install_type     location  ...  income_band           hometype floorarea\n",
              "0        47     standard    Edinburgh  ...          NaN               flat       427\n",
              "11       73     enhanced    Edinburgh  ...          NaN               flat       695\n",
              "48      115     standard   Midlothian  ...          NaN  house_or_bungalow       655\n",
              "53      126     standard   Midlothian  ...          NaN  house_or_bungalow       470\n",
              "79      150     standard    Edinburgh  ...          NaN               flat       865\n",
              "113     185     standard    Edinburgh  ...          NaN  house_or_bungalow      1065\n",
              "119     192     standard    Edinburgh  ...          NaN  house_or_bungalow      1190\n",
              "148     225     enhanced    Edinburgh  ...          NaN               flat      1275\n",
              "171     249     enhanced    Edinburgh  ...          NaN               flat       440\n",
              "248     330     standard  EastLothian  ...          NaN  house_or_bungalow       950\n",
              "\n",
              "[10 rows x 7 columns]"
            ]
          },
          "metadata": {},
          "execution_count": 9
        }
      ]
    },
    {
      "cell_type": "code",
      "metadata": {
        "colab": {
          "base_uri": "https://localhost:8080/",
          "height": 423
        },
        "id": "yQ45D2L_REzo",
        "outputId": "a97e1e20-da9f-411d-c836-e76b3e478369"
      },
      "source": [
        "# Filter DataFrame rows which have income_band details\n",
        "df[df['income_band'].notna()]"
      ],
      "execution_count": 10,
      "outputs": [
        {
          "output_type": "execute_result",
          "data": {
            "text/html": [
              "<div>\n",
              "<style scoped>\n",
              "    .dataframe tbody tr th:only-of-type {\n",
              "        vertical-align: middle;\n",
              "    }\n",
              "\n",
              "    .dataframe tbody tr th {\n",
              "        vertical-align: top;\n",
              "    }\n",
              "\n",
              "    .dataframe thead th {\n",
              "        text-align: right;\n",
              "    }\n",
              "</style>\n",
              "<table border=\"1\" class=\"dataframe\">\n",
              "  <thead>\n",
              "    <tr style=\"text-align: right;\">\n",
              "      <th></th>\n",
              "      <th>homeid</th>\n",
              "      <th>install_type</th>\n",
              "      <th>location</th>\n",
              "      <th>residents</th>\n",
              "      <th>income_band</th>\n",
              "      <th>hometype</th>\n",
              "      <th>floorarea</th>\n",
              "    </tr>\n",
              "  </thead>\n",
              "  <tbody>\n",
              "    <tr>\n",
              "      <th>1</th>\n",
              "      <td>59</td>\n",
              "      <td>standard</td>\n",
              "      <td>Edinburgh</td>\n",
              "      <td>2</td>\n",
              "      <td>£90,000 or more</td>\n",
              "      <td>flat</td>\n",
              "      <td>760</td>\n",
              "    </tr>\n",
              "    <tr>\n",
              "      <th>2</th>\n",
              "      <td>61</td>\n",
              "      <td>enhanced</td>\n",
              "      <td>Edinburgh</td>\n",
              "      <td>2</td>\n",
              "      <td>£48,600 to £53,999</td>\n",
              "      <td>house_or_bungalow</td>\n",
              "      <td>685</td>\n",
              "    </tr>\n",
              "    <tr>\n",
              "      <th>3</th>\n",
              "      <td>62</td>\n",
              "      <td>enhanced</td>\n",
              "      <td>Edinburgh</td>\n",
              "      <td>2</td>\n",
              "      <td>£43,200 to £48,599</td>\n",
              "      <td>flat</td>\n",
              "      <td>815</td>\n",
              "    </tr>\n",
              "    <tr>\n",
              "      <th>4</th>\n",
              "      <td>64</td>\n",
              "      <td>standard</td>\n",
              "      <td>Edinburgh</td>\n",
              "      <td>4</td>\n",
              "      <td>£66,000 to £77,999</td>\n",
              "      <td>flat</td>\n",
              "      <td>650</td>\n",
              "    </tr>\n",
              "    <tr>\n",
              "      <th>5</th>\n",
              "      <td>63</td>\n",
              "      <td>enhanced</td>\n",
              "      <td>Edinburgh</td>\n",
              "      <td>2</td>\n",
              "      <td>£54,000 to £65,999</td>\n",
              "      <td>house_or_bungalow</td>\n",
              "      <td>725</td>\n",
              "    </tr>\n",
              "    <tr>\n",
              "      <th>...</th>\n",
              "      <td>...</td>\n",
              "      <td>...</td>\n",
              "      <td>...</td>\n",
              "      <td>...</td>\n",
              "      <td>...</td>\n",
              "      <td>...</td>\n",
              "      <td>...</td>\n",
              "    </tr>\n",
              "    <tr>\n",
              "      <th>250</th>\n",
              "      <td>331</td>\n",
              "      <td>standard</td>\n",
              "      <td>Fife</td>\n",
              "      <td>2</td>\n",
              "      <td>£54,000 to £65,999</td>\n",
              "      <td>house_or_bungalow</td>\n",
              "      <td>900</td>\n",
              "    </tr>\n",
              "    <tr>\n",
              "      <th>251</th>\n",
              "      <td>332</td>\n",
              "      <td>standard</td>\n",
              "      <td>Edinburgh</td>\n",
              "      <td>1</td>\n",
              "      <td>£32,400 to £37,799</td>\n",
              "      <td>flat</td>\n",
              "      <td>515</td>\n",
              "    </tr>\n",
              "    <tr>\n",
              "      <th>252</th>\n",
              "      <td>334</td>\n",
              "      <td>standard</td>\n",
              "      <td>Edinburgh</td>\n",
              "      <td>5</td>\n",
              "      <td>less than £10,800</td>\n",
              "      <td>flat</td>\n",
              "      <td>805</td>\n",
              "    </tr>\n",
              "    <tr>\n",
              "      <th>253</th>\n",
              "      <td>335</td>\n",
              "      <td>standard</td>\n",
              "      <td>EastLothian</td>\n",
              "      <td>4</td>\n",
              "      <td>£78,000 to £89,999</td>\n",
              "      <td>house_or_bungalow</td>\n",
              "      <td>1120</td>\n",
              "    </tr>\n",
              "    <tr>\n",
              "      <th>254</th>\n",
              "      <td>333</td>\n",
              "      <td>standard</td>\n",
              "      <td>Edinburgh</td>\n",
              "      <td>3</td>\n",
              "      <td>£54,000 to £65,999</td>\n",
              "      <td>flat</td>\n",
              "      <td>945</td>\n",
              "    </tr>\n",
              "  </tbody>\n",
              "</table>\n",
              "<p>245 rows × 7 columns</p>\n",
              "</div>"
            ],
            "text/plain": [
              "     homeid install_type  ...           hometype  floorarea\n",
              "1        59     standard  ...               flat        760\n",
              "2        61     enhanced  ...  house_or_bungalow        685\n",
              "3        62     enhanced  ...               flat        815\n",
              "4        64     standard  ...               flat        650\n",
              "5        63     enhanced  ...  house_or_bungalow        725\n",
              "..      ...          ...  ...                ...        ...\n",
              "250     331     standard  ...  house_or_bungalow        900\n",
              "251     332     standard  ...               flat        515\n",
              "252     334     standard  ...               flat        805\n",
              "253     335     standard  ...  house_or_bungalow       1120\n",
              "254     333     standard  ...               flat        945\n",
              "\n",
              "[245 rows x 7 columns]"
            ]
          },
          "metadata": {},
          "execution_count": 10
        }
      ]
    },
    {
      "cell_type": "markdown",
      "metadata": {
        "id": "6FXFUJ7IRYCz"
      },
      "source": [
        "<font size=4 color=\"blue\">**Q.** What do you think about the outputs generated by df.dropna() and df[df['income_band'].notna()]? <font>"
      ]
    },
    {
      "cell_type": "markdown",
      "metadata": {
        "id": "sYu-RXA9SON1"
      },
      "source": [
        "Now, we have a cleaned data set with no missing values. To further tidy up our data, we can consider removing unnecessary columns.\n",
        "\n",
        "According the targeted problem, we need to predict type of the house or its floor area using the number of family members and income. Thus, installation_type and location details will not be necessary. \n"
      ]
    },
    {
      "cell_type": "code",
      "metadata": {
        "colab": {
          "base_uri": "https://localhost:8080/",
          "height": 206
        },
        "id": "3uqy2phaRw6t",
        "outputId": "d83e7372-7516-4a02-db4f-198d78a23190"
      },
      "source": [
        "'''\n",
        "Remove columns installation_type and location from the DataFrame. \n",
        "Pandas drop() function removes specified labels from rows or columns.\n",
        "'''\n",
        "cleaned_df = cleaned_df.drop(['install_type', 'location'], axis=1)  # make sure to apply drop() on cleaned DataFrame\n",
        "cleaned_df.head(5)"
      ],
      "execution_count": 11,
      "outputs": [
        {
          "output_type": "execute_result",
          "data": {
            "text/html": [
              "<div>\n",
              "<style scoped>\n",
              "    .dataframe tbody tr th:only-of-type {\n",
              "        vertical-align: middle;\n",
              "    }\n",
              "\n",
              "    .dataframe tbody tr th {\n",
              "        vertical-align: top;\n",
              "    }\n",
              "\n",
              "    .dataframe thead th {\n",
              "        text-align: right;\n",
              "    }\n",
              "</style>\n",
              "<table border=\"1\" class=\"dataframe\">\n",
              "  <thead>\n",
              "    <tr style=\"text-align: right;\">\n",
              "      <th></th>\n",
              "      <th>homeid</th>\n",
              "      <th>residents</th>\n",
              "      <th>income_band</th>\n",
              "      <th>hometype</th>\n",
              "      <th>floorarea</th>\n",
              "    </tr>\n",
              "  </thead>\n",
              "  <tbody>\n",
              "    <tr>\n",
              "      <th>1</th>\n",
              "      <td>59</td>\n",
              "      <td>2</td>\n",
              "      <td>£90,000 or more</td>\n",
              "      <td>flat</td>\n",
              "      <td>760</td>\n",
              "    </tr>\n",
              "    <tr>\n",
              "      <th>2</th>\n",
              "      <td>61</td>\n",
              "      <td>2</td>\n",
              "      <td>£48,600 to £53,999</td>\n",
              "      <td>house_or_bungalow</td>\n",
              "      <td>685</td>\n",
              "    </tr>\n",
              "    <tr>\n",
              "      <th>3</th>\n",
              "      <td>62</td>\n",
              "      <td>2</td>\n",
              "      <td>£43,200 to £48,599</td>\n",
              "      <td>flat</td>\n",
              "      <td>815</td>\n",
              "    </tr>\n",
              "    <tr>\n",
              "      <th>4</th>\n",
              "      <td>64</td>\n",
              "      <td>4</td>\n",
              "      <td>£66,000 to £77,999</td>\n",
              "      <td>flat</td>\n",
              "      <td>650</td>\n",
              "    </tr>\n",
              "    <tr>\n",
              "      <th>5</th>\n",
              "      <td>63</td>\n",
              "      <td>2</td>\n",
              "      <td>£54,000 to £65,999</td>\n",
              "      <td>house_or_bungalow</td>\n",
              "      <td>725</td>\n",
              "    </tr>\n",
              "  </tbody>\n",
              "</table>\n",
              "</div>"
            ],
            "text/plain": [
              "   homeid  residents         income_band           hometype  floorarea\n",
              "1      59          2     £90,000 or more               flat        760\n",
              "2      61          2  £48,600 to £53,999  house_or_bungalow        685\n",
              "3      62          2  £43,200 to £48,599               flat        815\n",
              "4      64          4  £66,000 to £77,999               flat        650\n",
              "5      63          2  £54,000 to £65,999  house_or_bungalow        725"
            ]
          },
          "metadata": {},
          "execution_count": 11
        }
      ]
    },
    {
      "cell_type": "markdown",
      "metadata": {
        "id": "2XAZjwdEUuAb"
      },
      "source": [
        "Now, we have a more cleaned and less complex data set. \n",
        "\n",
        "Looking at the variables/ features (residents and income_band) which we are going use to solve our problem, residents column holds numeric values, but income_band holds numeric ranges written using text. It will be helpful for the learning algorithms, if we convert those values into a more consistent format.\n",
        "\n",
        "As the initial step, let's analyse the possible values for income_band to get an idea about the format.\n",
        "\n",
        "\n"
      ]
    },
    {
      "cell_type": "code",
      "metadata": {
        "colab": {
          "base_uri": "https://localhost:8080/"
        },
        "id": "U33KSy0TZEjX",
        "outputId": "c376f409-da5f-4312-93fc-cfe454ae5b80"
      },
      "source": [
        "# Get all unique income_bands that exists\n",
        "cleaned_df['income_band'].unique()"
      ],
      "execution_count": 12,
      "outputs": [
        {
          "output_type": "execute_result",
          "data": {
            "text/plain": [
              "array(['£90,000 or more', '£48,600 to £53,999', '£43,200 to £48,599',\n",
              "       '£66,000 to £77,999', '£54,000 to £65,999', '£27,000 to £32,399',\n",
              "       'less than £10,800', '£37,800 to £43,199', '£23,400 to £26,999',\n",
              "       '£16,200 to £19,799', '£32,400 to £37,799', '£78,000 to £89,999',\n",
              "       '£13,500 to £16,199', '£10,800 to £13,499', '£19,800 to £23,399'],\n",
              "      dtype=object)"
            ]
          },
          "metadata": {},
          "execution_count": 12
        }
      ]
    },
    {
      "cell_type": "code",
      "metadata": {
        "colab": {
          "base_uri": "https://localhost:8080/"
        },
        "id": "AQX59YJ2aBIX",
        "outputId": "906cbe31-ae37-4490-c870-897ea429942c"
      },
      "source": [
        "# Sort all unique income_bands that exists, because the sorted output is easy to follow. \n",
        "sorted(cleaned_df['income_band'].unique())"
      ],
      "execution_count": 13,
      "outputs": [
        {
          "output_type": "execute_result",
          "data": {
            "text/plain": [
              "['less than £10,800',\n",
              " '£10,800 to £13,499',\n",
              " '£13,500 to £16,199',\n",
              " '£16,200 to £19,799',\n",
              " '£19,800 to £23,399',\n",
              " '£23,400 to £26,999',\n",
              " '£27,000 to £32,399',\n",
              " '£32,400 to £37,799',\n",
              " '£37,800 to £43,199',\n",
              " '£43,200 to £48,599',\n",
              " '£48,600 to £53,999',\n",
              " '£54,000 to £65,999',\n",
              " '£66,000 to £77,999',\n",
              " '£78,000 to £89,999',\n",
              " '£90,000 or more']"
            ]
          },
          "metadata": {},
          "execution_count": 13
        }
      ]
    },
    {
      "cell_type": "markdown",
      "metadata": {
        "id": "c3cs8DRpYkRQ"
      },
      "source": [
        "There are three formats. \n",
        "\n",
        "1.   less than £[value]\n",
        "2.   £[value] to £[value]\n",
        "3.   £[value] or more\n",
        "\n",
        "For £[value] to £[value] format, we can use the average value of the range as our final representation. For other two formats, we can use the available upper or lower bound as the final value.\n",
        "\n",
        "Let's write a function to convert income_bands to these final values."
      ]
    },
    {
      "cell_type": "code",
      "metadata": {
        "id": "fGPGhYRRsDXf"
      },
      "source": [
        "def format_income_band(income_band):\n",
        "  '''\n",
        "  Method to format income_band to a numeric value\n",
        "  :param income_band: str\n",
        "  '''\n",
        "  # remove additional symbols\n",
        "  text = income_band.replace('£', '') # '£10,800 to £13,499' -> '10,800 to 13,499'\n",
        "  text = text.replace(',' , '') # '10,800 to 13,499' -> '10800 to 13499'\n",
        "\n",
        "  # split the text by spaces\n",
        "  splits = text.split() # ('10800 to 13499' -> ['10800', 'to', '13499'])\n",
        "\n",
        "  # get lower bound as an integerer/ numeric value\n",
        "  try:\n",
        "    lower_bound = int(splits[0]) # 10800\n",
        "  except ValueError:\n",
        "    # if lower_bound = 'less', use the upper_bound number as the lower value\n",
        "    lower_bound = int(splits[2]) \n",
        "  \n",
        "  # get upper bound as an integerer/ numeric value\n",
        "  try:\n",
        "    upper_bound = int(splits[2]) # 13499\n",
        "  except ValueError:\n",
        "    # if upper_bound = 'more', use the lower_bound number as the upper value\n",
        "    upper_bound = int(splits[0]) \n",
        "\n",
        "  # calculate average value\n",
        "  avg = (lower_bound + upper_bound)/2\n",
        "  return avg"
      ],
      "execution_count": 14,
      "outputs": []
    },
    {
      "cell_type": "code",
      "metadata": {
        "colab": {
          "base_uri": "https://localhost:8080/"
        },
        "id": "VPYR-7PqxW5i",
        "outputId": "659489e5-2ce2-4019-f45e-f75f405bc8aa"
      },
      "source": [
        "# Let's see how our function works\n",
        "input1 = 'less than £10,800'\n",
        "output1 = format_income_band(input1)\n",
        "print(f'Output for format1: {output1}')\n",
        "\n",
        "input2 = '£10,800 to £13,499'\n",
        "output2 = format_income_band(input2)\n",
        "print(f'Output for format2: {output2}')\n",
        "\n",
        "input3 = '£90,000 or more'\n",
        "output3 = format_income_band(input3)\n",
        "print(f'Output for format1: {output3}')"
      ],
      "execution_count": 16,
      "outputs": [
        {
          "output_type": "stream",
          "name": "stdout",
          "text": [
            "Output for format1: 10800.0\n",
            "Output for format2: 12149.5\n",
            "Output for format1: 90000.0\n"
          ]
        }
      ]
    },
    {
      "cell_type": "markdown",
      "metadata": {
        "id": "WHLEWtY7ymEq"
      },
      "source": [
        "Using this function, we can compute values for our new column average_income using income_band values.\n"
      ]
    },
    {
      "cell_type": "code",
      "metadata": {
        "colab": {
          "base_uri": "https://localhost:8080/",
          "height": 206
        },
        "id": "ZnY-tKmCykx0",
        "outputId": "ebc070b5-e2a5-4b94-f9d1-07f6a01e5a94"
      },
      "source": [
        "# Add a new column named 'average_income' to the cleaned DataFrame to keep averare income values calculated using format_income_band function\n",
        "cleaned_df['average_income'] = cleaned_df.apply(lambda row : format_income_band(row['income_band']), axis = 1)\n",
        "cleaned_df.head(5)"
      ],
      "execution_count": 17,
      "outputs": [
        {
          "output_type": "execute_result",
          "data": {
            "text/html": [
              "<div>\n",
              "<style scoped>\n",
              "    .dataframe tbody tr th:only-of-type {\n",
              "        vertical-align: middle;\n",
              "    }\n",
              "\n",
              "    .dataframe tbody tr th {\n",
              "        vertical-align: top;\n",
              "    }\n",
              "\n",
              "    .dataframe thead th {\n",
              "        text-align: right;\n",
              "    }\n",
              "</style>\n",
              "<table border=\"1\" class=\"dataframe\">\n",
              "  <thead>\n",
              "    <tr style=\"text-align: right;\">\n",
              "      <th></th>\n",
              "      <th>homeid</th>\n",
              "      <th>residents</th>\n",
              "      <th>income_band</th>\n",
              "      <th>hometype</th>\n",
              "      <th>floorarea</th>\n",
              "      <th>average_income</th>\n",
              "    </tr>\n",
              "  </thead>\n",
              "  <tbody>\n",
              "    <tr>\n",
              "      <th>1</th>\n",
              "      <td>59</td>\n",
              "      <td>2</td>\n",
              "      <td>£90,000 or more</td>\n",
              "      <td>flat</td>\n",
              "      <td>760</td>\n",
              "      <td>90000.0</td>\n",
              "    </tr>\n",
              "    <tr>\n",
              "      <th>2</th>\n",
              "      <td>61</td>\n",
              "      <td>2</td>\n",
              "      <td>£48,600 to £53,999</td>\n",
              "      <td>house_or_bungalow</td>\n",
              "      <td>685</td>\n",
              "      <td>51299.5</td>\n",
              "    </tr>\n",
              "    <tr>\n",
              "      <th>3</th>\n",
              "      <td>62</td>\n",
              "      <td>2</td>\n",
              "      <td>£43,200 to £48,599</td>\n",
              "      <td>flat</td>\n",
              "      <td>815</td>\n",
              "      <td>45899.5</td>\n",
              "    </tr>\n",
              "    <tr>\n",
              "      <th>4</th>\n",
              "      <td>64</td>\n",
              "      <td>4</td>\n",
              "      <td>£66,000 to £77,999</td>\n",
              "      <td>flat</td>\n",
              "      <td>650</td>\n",
              "      <td>71999.5</td>\n",
              "    </tr>\n",
              "    <tr>\n",
              "      <th>5</th>\n",
              "      <td>63</td>\n",
              "      <td>2</td>\n",
              "      <td>£54,000 to £65,999</td>\n",
              "      <td>house_or_bungalow</td>\n",
              "      <td>725</td>\n",
              "      <td>59999.5</td>\n",
              "    </tr>\n",
              "  </tbody>\n",
              "</table>\n",
              "</div>"
            ],
            "text/plain": [
              "   homeid  residents  ... floorarea average_income\n",
              "1      59          2  ...       760        90000.0\n",
              "2      61          2  ...       685        51299.5\n",
              "3      62          2  ...       815        45899.5\n",
              "4      64          4  ...       650        71999.5\n",
              "5      63          2  ...       725        59999.5\n",
              "\n",
              "[5 rows x 6 columns]"
            ]
          },
          "metadata": {},
          "execution_count": 17
        }
      ]
    },
    {
      "cell_type": "markdown",
      "metadata": {
        "id": "hdb2b2lfzaZZ"
      },
      "source": [
        "Now we have a cleaned and properly formated data set which is appropriate for machine learning tasks.\n",
        "\n",
        "Let's save the cleaned data set for future use."
      ]
    },
    {
      "cell_type": "code",
      "metadata": {
        "id": "oMoP4SUMzzsW"
      },
      "source": [
        "'''\n",
        "Save the data set\n",
        "Pandas to_csv() saves the DataFrame to comma-separated values (csv) file.\n",
        "As the parameter, the file path should be provided\n",
        "'''\n",
        "cleaned_df.to_csv(\"/content/cleaned_home_data.csv\", index=False)"
      ],
      "execution_count": 18,
      "outputs": []
    },
    {
      "cell_type": "markdown",
      "metadata": {
        "id": "JClSeJsB39q6"
      },
      "source": [
        "# Exploratory Data Analysis"
      ]
    }
  ]
}